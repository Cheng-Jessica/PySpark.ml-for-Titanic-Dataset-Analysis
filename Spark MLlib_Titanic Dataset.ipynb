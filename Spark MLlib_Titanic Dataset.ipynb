{
 "cells": [
  {
   "cell_type": "markdown",
   "metadata": {
    "application/vnd.databricks.v1+cell": {
     "cellMetadata": {},
     "inputWidgets": {},
     "nuid": "6cc4174d-0aee-46e0-bb5d-e5488614bca3",
     "showTitle": false,
     "title": ""
    }
   },
   "source": [
    "# PySpark - MLlib"
   ]
  },
  {
   "cell_type": "markdown",
   "metadata": {
    "application/vnd.databricks.v1+cell": {
     "cellMetadata": {},
     "inputWidgets": {},
     "nuid": "380cfcbb-0e61-49bb-92bc-24738d9c163c",
     "showTitle": false,
     "title": ""
    }
   },
   "source": [
    "### Scikit-learn\n",
    "1. *Ease of Use and Accessibility*: It provides simple and consistent API that is easy for both beginners and experienced pratitoiners to understand and work with. This makes it an excellent choice for prototyping and experimentation.\n",
    "2. *Rich Set of Algorithms and Tools*: It offers a wide range of machine learning algorithms, including classification, regression, clustering dimensionallity reduction, and more. Additionally, it provides various pre-processing and model evaluation tools.\n",
    "\n",
    "### Spark MLlib\n",
    "1. *Distributed Computing*: It allows to leverage distributed computing acrsoss a cluster of machines. The distributed architecture can handle large-scale datasets and complex computations efficiently. It's a great choice for big data processing and scalable machine learning tasks.\n",
    "2. *Integration with Big Data Ecosystem*: Spark MLlib also integrates with other components of Apache Spark ecosystem, such as Spark SQL for data processing and Spark Streaming for real-time data analysis.\n",
    "\n",
    "How Is Scikit-Learn Compared with Apache Spark’s MLlib? (n.d.). Quora. https://www.quora.com/How-is-scikit-learn-compared-with-Apache-Sparks-MLlib"
   ]
  },
  {
   "cell_type": "markdown",
   "metadata": {
    "application/vnd.databricks.v1+cell": {
     "cellMetadata": {},
     "inputWidgets": {},
     "nuid": "5e806e88-6f03-4dac-8a14-b40dadc247e2",
     "showTitle": false,
     "title": ""
    }
   },
   "source": [
    "## Analyze Titanic Dataset using `pyspark.ml`"
   ]
  },
  {
   "cell_type": "markdown",
   "metadata": {
    "application/vnd.databricks.v1+cell": {
     "cellMetadata": {},
     "inputWidgets": {},
     "nuid": "5f2a3324-bdab-438d-87d7-a6d01db8a984",
     "showTitle": false,
     "title": ""
    }
   },
   "source": [
    "This is a famous dataset for machine learning. A description of the dataset can be found at the [kaggle website](https://www.kaggle.com/c/titanic/data). In the following, we apply the logistic regression model from pyspark.ml package to this dataset. The goal is to predict the survival of passagers on board titanic, and to use the pipeline and feature engineering tools from pyspark.ml. \n",
    "\n",
    "![Data Dictionary](https://i.ibb.co/mhY89DG/titanic-datadictionary.png)"
   ]
  },
  {
   "cell_type": "markdown",
   "metadata": {
    "application/vnd.databricks.v1+cell": {
     "cellMetadata": {},
     "inputWidgets": {},
     "nuid": "edc8868c-4cb0-468a-bc2c-301097bcb3ab",
     "showTitle": false,
     "title": ""
    }
   },
   "source": [
    "### Step 1: download and load data\n",
    "\n",
    "2\\. Download `titanic.csv` from [http://idsdl.csom.umn.edu/c/share/msba6330/titanic.csv](http://idsdl.csom.umn.edu/c/share/msba6330/titanic.csv) to the local host on your driver node. \n",
    "\n",
    "Then load the data into a Spark DataFrame `titanic`."
   ]
  },
  {
   "cell_type": "code",
   "execution_count": 0,
   "metadata": {
    "application/vnd.databricks.v1+cell": {
     "cellMetadata": {
      "byteLimit": 2048000,
      "rowLimit": 10000
     },
     "inputWidgets": {},
     "nuid": "42e7d149-e7ca-40c3-ba71-e1781130134e",
     "showTitle": false,
     "title": ""
    }
   },
   "outputs": [
    {
     "output_type": "stream",
     "name": "stderr",
     "output_type": "stream",
     "text": [
      "--2023-10-16 04:32:20--  http://idsdl.csom.umn.edu/c/share/msba6330/titanic.csv\nResolving idsdl.csom.umn.edu (idsdl.csom.umn.edu)... 134.84.138.46, 2607:ea00:101:480a:250:56ff:febb:e76b\nConnecting to idsdl.csom.umn.edu (idsdl.csom.umn.edu)|134.84.138.46|:80... connected.\nHTTP request sent, awaiting response... 200 OK\nLength: 60302 (59K) [text/csv]\nSaving to: ‘titanic.csv’\n\n     0K .......... .......... .......... .......... .......... 84%  597K 0s\n    50K ........                                              100%  136M=0.08s\n\n2023-10-16 04:32:20 (703 KB/s) - ‘titanic.csv’ saved [60302/60302]\n\n"
     ]
    }
   ],
   "source": [
    "%%bash\n",
    "rm -f titanic.csv\n",
    "wget  http://idsdl.csom.umn.edu/c/share/msba6330/titanic.csv"
   ]
  },
  {
   "cell_type": "code",
   "execution_count": 0,
   "metadata": {
    "application/vnd.databricks.v1+cell": {
     "cellMetadata": {
      "byteLimit": 2048000,
      "rowLimit": 10000
     },
     "inputWidgets": {},
     "nuid": "7050b461-006f-499d-918f-6ad6f908586a",
     "showTitle": false,
     "title": ""
    }
   },
   "outputs": [
    {
     "output_type": "stream",
     "name": "stdout",
     "output_type": "stream",
     "text": [
      "azure  eventlogs  hadoop_accessed_config.lst  preload_class.lst\r\nconf   ganglia\t  logs\t\t\t      titanic.csv\r\n"
     ]
    }
   ],
   "source": [
    "!ls"
   ]
  },
  {
   "cell_type": "markdown",
   "metadata": {
    "application/vnd.databricks.v1+cell": {
     "cellMetadata": {},
     "inputWidgets": {},
     "nuid": "6145e2d8-5884-41c3-aa87-3f34bcd08d02",
     "showTitle": false,
     "title": ""
    }
   },
   "source": [
    "3\\. Verify the schema and display first 5 rows of data, making sure the fields have proper names and data types.\n",
    "- **tip**: using Spark DataFrame's `toPandas()` for a nicer presentation of data."
   ]
  },
  {
   "cell_type": "code",
   "execution_count": 0,
   "metadata": {
    "application/vnd.databricks.v1+cell": {
     "cellMetadata": {
      "byteLimit": 2048000,
      "rowLimit": 10000
     },
     "inputWidgets": {},
     "nuid": "3ffb99e1-8866-4ba8-83a5-7f4639805353",
     "showTitle": false,
     "title": ""
    }
   },
   "outputs": [
    {
     "output_type": "display_data",
     "data": {
      "text/html": [
       "<div>\n",
       "<style scoped>\n",
       "    .dataframe tbody tr th:only-of-type {\n",
       "        vertical-align: middle;\n",
       "    }\n",
       "\n",
       "    .dataframe tbody tr th {\n",
       "        vertical-align: top;\n",
       "    }\n",
       "\n",
       "    .dataframe thead th {\n",
       "        text-align: right;\n",
       "    }\n",
       "</style>\n",
       "<table border=\"1\" class=\"dataframe\">\n",
       "  <thead>\n",
       "    <tr style=\"text-align: right;\">\n",
       "      <th></th>\n",
       "      <th>PassengerId</th>\n",
       "      <th>Survived</th>\n",
       "      <th>Pclass</th>\n",
       "      <th>Name</th>\n",
       "      <th>Sex</th>\n",
       "      <th>Age</th>\n",
       "      <th>SibSp</th>\n",
       "      <th>Parch</th>\n",
       "      <th>Ticket</th>\n",
       "      <th>Fare</th>\n",
       "      <th>Cabin</th>\n",
       "      <th>Embarked</th>\n",
       "    </tr>\n",
       "  </thead>\n",
       "  <tbody>\n",
       "    <tr>\n",
       "      <th>0</th>\n",
       "      <td>1</td>\n",
       "      <td>0</td>\n",
       "      <td>3</td>\n",
       "      <td>Braund, Mr. Owen Harris</td>\n",
       "      <td>male</td>\n",
       "      <td>22.0</td>\n",
       "      <td>1</td>\n",
       "      <td>0</td>\n",
       "      <td>A/5 21171</td>\n",
       "      <td>7.2500</td>\n",
       "      <td>None</td>\n",
       "      <td>S</td>\n",
       "    </tr>\n",
       "    <tr>\n",
       "      <th>1</th>\n",
       "      <td>2</td>\n",
       "      <td>1</td>\n",
       "      <td>1</td>\n",
       "      <td>Cumings, Mrs. John Bradley (Florence Briggs Th...</td>\n",
       "      <td>female</td>\n",
       "      <td>38.0</td>\n",
       "      <td>1</td>\n",
       "      <td>0</td>\n",
       "      <td>PC 17599</td>\n",
       "      <td>71.2833</td>\n",
       "      <td>C85</td>\n",
       "      <td>C</td>\n",
       "    </tr>\n",
       "    <tr>\n",
       "      <th>2</th>\n",
       "      <td>3</td>\n",
       "      <td>1</td>\n",
       "      <td>3</td>\n",
       "      <td>Heikkinen, Miss. Laina</td>\n",
       "      <td>female</td>\n",
       "      <td>26.0</td>\n",
       "      <td>0</td>\n",
       "      <td>0</td>\n",
       "      <td>STON/O2. 3101282</td>\n",
       "      <td>7.9250</td>\n",
       "      <td>None</td>\n",
       "      <td>S</td>\n",
       "    </tr>\n",
       "    <tr>\n",
       "      <th>3</th>\n",
       "      <td>4</td>\n",
       "      <td>1</td>\n",
       "      <td>1</td>\n",
       "      <td>Futrelle, Mrs. Jacques Heath (Lily May Peel)</td>\n",
       "      <td>female</td>\n",
       "      <td>35.0</td>\n",
       "      <td>1</td>\n",
       "      <td>0</td>\n",
       "      <td>113803</td>\n",
       "      <td>53.1000</td>\n",
       "      <td>C123</td>\n",
       "      <td>S</td>\n",
       "    </tr>\n",
       "    <tr>\n",
       "      <th>4</th>\n",
       "      <td>5</td>\n",
       "      <td>0</td>\n",
       "      <td>3</td>\n",
       "      <td>Allen, Mr. William Henry</td>\n",
       "      <td>male</td>\n",
       "      <td>35.0</td>\n",
       "      <td>0</td>\n",
       "      <td>0</td>\n",
       "      <td>373450</td>\n",
       "      <td>8.0500</td>\n",
       "      <td>None</td>\n",
       "      <td>S</td>\n",
       "    </tr>\n",
       "  </tbody>\n",
       "</table>\n",
       "</div>"
      ]
     },
     "metadata": {
      "application/vnd.databricks.v1+output": {
       "addedWidgets": {},
       "arguments": {},
       "data": "<div>\n<style scoped>\n    .dataframe tbody tr th:only-of-type {\n        vertical-align: middle;\n    }\n\n    .dataframe tbody tr th {\n        vertical-align: top;\n    }\n\n    .dataframe thead th {\n        text-align: right;\n    }\n</style>\n<table border=\"1\" class=\"dataframe\">\n  <thead>\n    <tr style=\"text-align: right;\">\n      <th></th>\n      <th>PassengerId</th>\n      <th>Survived</th>\n      <th>Pclass</th>\n      <th>Name</th>\n      <th>Sex</th>\n      <th>Age</th>\n      <th>SibSp</th>\n      <th>Parch</th>\n      <th>Ticket</th>\n      <th>Fare</th>\n      <th>Cabin</th>\n      <th>Embarked</th>\n    </tr>\n  </thead>\n  <tbody>\n    <tr>\n      <th>0</th>\n      <td>1</td>\n      <td>0</td>\n      <td>3</td>\n      <td>Braund, Mr. Owen Harris</td>\n      <td>male</td>\n      <td>22.0</td>\n      <td>1</td>\n      <td>0</td>\n      <td>A/5 21171</td>\n      <td>7.2500</td>\n      <td>None</td>\n      <td>S</td>\n    </tr>\n    <tr>\n      <th>1</th>\n      <td>2</td>\n      <td>1</td>\n      <td>1</td>\n      <td>Cumings, Mrs. John Bradley (Florence Briggs Th...</td>\n      <td>female</td>\n      <td>38.0</td>\n      <td>1</td>\n      <td>0</td>\n      <td>PC 17599</td>\n      <td>71.2833</td>\n      <td>C85</td>\n      <td>C</td>\n    </tr>\n    <tr>\n      <th>2</th>\n      <td>3</td>\n      <td>1</td>\n      <td>3</td>\n      <td>Heikkinen, Miss. Laina</td>\n      <td>female</td>\n      <td>26.0</td>\n      <td>0</td>\n      <td>0</td>\n      <td>STON/O2. 3101282</td>\n      <td>7.9250</td>\n      <td>None</td>\n      <td>S</td>\n    </tr>\n    <tr>\n      <th>3</th>\n      <td>4</td>\n      <td>1</td>\n      <td>1</td>\n      <td>Futrelle, Mrs. Jacques Heath (Lily May Peel)</td>\n      <td>female</td>\n      <td>35.0</td>\n      <td>1</td>\n      <td>0</td>\n      <td>113803</td>\n      <td>53.1000</td>\n      <td>C123</td>\n      <td>S</td>\n    </tr>\n    <tr>\n      <th>4</th>\n      <td>5</td>\n      <td>0</td>\n      <td>3</td>\n      <td>Allen, Mr. William Henry</td>\n      <td>male</td>\n      <td>35.0</td>\n      <td>0</td>\n      <td>0</td>\n      <td>373450</td>\n      <td>8.0500</td>\n      <td>None</td>\n      <td>S</td>\n    </tr>\n  </tbody>\n</table>\n</div>",
       "datasetInfos": [],
       "metadata": {},
       "removedWidgets": [],
       "textData": null,
       "type": "htmlSandbox"
      }
     },
     "output_type": "display_data"
    }
   ],
   "source": [
    "titanic = spark.read.csv(\"file:/databricks/driver/titanic.csv\", header=True, inferSchema=True)\n",
    "titanic.limit(5).toPandas()"
   ]
  },
  {
   "cell_type": "code",
   "execution_count": 0,
   "metadata": {
    "application/vnd.databricks.v1+cell": {
     "cellMetadata": {
      "byteLimit": 2048000,
      "rowLimit": 10000
     },
     "inputWidgets": {},
     "nuid": "bf70aab4-a7a3-463b-8806-fe091d866bd8",
     "showTitle": false,
     "title": ""
    }
   },
   "outputs": [
    {
     "output_type": "stream",
     "name": "stdout",
     "output_type": "stream",
     "text": [
      "root\n |-- PassengerId: integer (nullable = true)\n |-- Survived: integer (nullable = true)\n |-- Pclass: integer (nullable = true)\n |-- Name: string (nullable = true)\n |-- Sex: string (nullable = true)\n |-- Age: double (nullable = true)\n |-- SibSp: integer (nullable = true)\n |-- Parch: integer (nullable = true)\n |-- Ticket: string (nullable = true)\n |-- Fare: double (nullable = true)\n |-- Cabin: string (nullable = true)\n |-- Embarked: string (nullable = true)\n\n"
     ]
    }
   ],
   "source": [
    "titanic.printSchema()"
   ]
  },
  {
   "cell_type": "markdown",
   "metadata": {
    "application/vnd.databricks.v1+cell": {
     "cellMetadata": {},
     "inputWidgets": {},
     "nuid": "c420d17c-acac-4d6d-bddd-0c325d4c931e",
     "showTitle": false,
     "title": ""
    }
   },
   "source": [
    "### Step 2. Data exploration\n",
    "the goal of this step is to familiarize yourself with the dataset\n",
    "- detect data problems\n",
    "- inform the data engineering steps\n",
    "- inform the feature selection"
   ]
  },
  {
   "cell_type": "markdown",
   "metadata": {
    "application/vnd.databricks.v1+cell": {
     "cellMetadata": {},
     "inputWidgets": {},
     "nuid": "7dbd52b2-24e1-4bc0-a4f5-a29fba977fc0",
     "showTitle": false,
     "title": ""
    }
   },
   "source": [
    "4\\. Obtain summary statistics on the dataframe, which will inform our data processing strategies\n",
    "- pay attention to whether there are missing data\n",
    "- whether a field appears to be continuous or discrete"
   ]
  },
  {
   "cell_type": "markdown",
   "metadata": {
    "application/vnd.databricks.v1+cell": {
     "cellMetadata": {},
     "inputWidgets": {},
     "nuid": "7a2b7354-1080-485d-ade9-7f43ec2bf2e2",
     "showTitle": false,
     "title": ""
    }
   },
   "source": [
    "Missing value field:\n",
    "- Age: continous\n",
    "- Cabin: discrete\n",
    "- Embarked: discrete"
   ]
  },
  {
   "cell_type": "code",
   "execution_count": 0,
   "metadata": {
    "application/vnd.databricks.v1+cell": {
     "cellMetadata": {
      "byteLimit": 2048000,
      "rowLimit": 10000
     },
     "inputWidgets": {},
     "nuid": "46a584b8-5bf7-4739-a711-c071678741d1",
     "showTitle": false,
     "title": ""
    }
   },
   "outputs": [
    {
     "output_type": "display_data",
     "data": {
      "text/html": [
       "<style scoped>\n",
       "  .table-result-container {\n",
       "    max-height: 300px;\n",
       "    overflow: auto;\n",
       "  }\n",
       "  table, th, td {\n",
       "    border: 1px solid black;\n",
       "    border-collapse: collapse;\n",
       "  }\n",
       "  th, td {\n",
       "    padding: 5px;\n",
       "  }\n",
       "  th {\n",
       "    text-align: left;\n",
       "  }\n",
       "</style><div class='table-result-container'><table class='table-result'><thead style='background-color: white'><tr><th>summary</th><th>PassengerId</th><th>Survived</th><th>Pclass</th><th>Name</th><th>Sex</th><th>Age</th><th>SibSp</th><th>Parch</th><th>Ticket</th><th>Fare</th><th>Cabin</th><th>Embarked</th></tr></thead><tbody><tr><td>count</td><td>891</td><td>891</td><td>891</td><td>891</td><td>891</td><td>714</td><td>891</td><td>891</td><td>891</td><td>891</td><td>204</td><td>889</td></tr><tr><td>mean</td><td>446.0</td><td>0.3838383838383838</td><td>2.308641975308642</td><td>null</td><td>null</td><td>29.69911764705882</td><td>0.5230078563411896</td><td>0.38159371492704824</td><td>260318.54916792738</td><td>32.2042079685746</td><td>null</td><td>null</td></tr><tr><td>stddev</td><td>257.3538420152301</td><td>0.48659245426485753</td><td>0.8360712409770491</td><td>null</td><td>null</td><td>14.526497332334035</td><td>1.1027434322934315</td><td>0.8060572211299488</td><td>471609.26868834975</td><td>49.69342859718089</td><td>null</td><td>null</td></tr><tr><td>min</td><td>1</td><td>0</td><td>1</td><td>\"Andersson, Mr. August Edvard (\"\"Wennerstrom\"\")\"</td><td>female</td><td>0.42</td><td>0</td><td>0</td><td>110152</td><td>0.0</td><td>A10</td><td>C</td></tr><tr><td>max</td><td>891</td><td>1</td><td>3</td><td>van Melkebeke, Mr. Philemon</td><td>male</td><td>80.0</td><td>8</td><td>6</td><td>WE/P 5735</td><td>512.3292</td><td>T</td><td>S</td></tr></tbody></table></div>"
      ]
     },
     "metadata": {
      "application/vnd.databricks.v1+output": {
       "addedWidgets": {},
       "aggData": [],
       "aggError": "",
       "aggOverflow": false,
       "aggSchema": [],
       "aggSeriesLimitReached": false,
       "aggType": "",
       "arguments": {},
       "columnCustomDisplayInfos": {},
       "data": [
        [
         "count",
         "891",
         "891",
         "891",
         "891",
         "891",
         "714",
         "891",
         "891",
         "891",
         "891",
         "204",
         "889"
        ],
        [
         "mean",
         "446.0",
         "0.3838383838383838",
         "2.308641975308642",
         null,
         null,
         "29.69911764705882",
         "0.5230078563411896",
         "0.38159371492704824",
         "260318.54916792738",
         "32.2042079685746",
         null,
         null
        ],
        [
         "stddev",
         "257.3538420152301",
         "0.48659245426485753",
         "0.8360712409770491",
         null,
         null,
         "14.526497332334035",
         "1.1027434322934315",
         "0.8060572211299488",
         "471609.26868834975",
         "49.69342859718089",
         null,
         null
        ],
        [
         "min",
         "1",
         "0",
         "1",
         "\"Andersson, Mr. August Edvard (\"\"Wennerstrom\"\")\"",
         "female",
         "0.42",
         "0",
         "0",
         "110152",
         "0.0",
         "A10",
         "C"
        ],
        [
         "max",
         "891",
         "1",
         "3",
         "van Melkebeke, Mr. Philemon",
         "male",
         "80.0",
         "8",
         "6",
         "WE/P 5735",
         "512.3292",
         "T",
         "S"
        ]
       ],
       "datasetInfos": [],
       "dbfsResultPath": null,
       "isJsonSchema": true,
       "metadata": {},
       "overflow": false,
       "plotOptions": {
        "customPlotOptions": {},
        "displayType": "table",
        "pivotAggregation": null,
        "pivotColumns": null,
        "xColumns": null,
        "yColumns": null
       },
       "removedWidgets": [],
       "schema": [
        {
         "metadata": "{}",
         "name": "summary",
         "type": "\"string\""
        },
        {
         "metadata": "{}",
         "name": "PassengerId",
         "type": "\"string\""
        },
        {
         "metadata": "{}",
         "name": "Survived",
         "type": "\"string\""
        },
        {
         "metadata": "{}",
         "name": "Pclass",
         "type": "\"string\""
        },
        {
         "metadata": "{}",
         "name": "Name",
         "type": "\"string\""
        },
        {
         "metadata": "{}",
         "name": "Sex",
         "type": "\"string\""
        },
        {
         "metadata": "{}",
         "name": "Age",
         "type": "\"string\""
        },
        {
         "metadata": "{}",
         "name": "SibSp",
         "type": "\"string\""
        },
        {
         "metadata": "{}",
         "name": "Parch",
         "type": "\"string\""
        },
        {
         "metadata": "{}",
         "name": "Ticket",
         "type": "\"string\""
        },
        {
         "metadata": "{}",
         "name": "Fare",
         "type": "\"string\""
        },
        {
         "metadata": "{}",
         "name": "Cabin",
         "type": "\"string\""
        },
        {
         "metadata": "{}",
         "name": "Embarked",
         "type": "\"string\""
        }
       ],
       "type": "table"
      }
     },
     "output_type": "display_data"
    }
   ],
   "source": [
    "titanic.describe().display()"
   ]
  },
  {
   "cell_type": "code",
   "execution_count": 0,
   "metadata": {
    "application/vnd.databricks.v1+cell": {
     "cellMetadata": {
      "byteLimit": 2048000,
      "rowLimit": 10000
     },
     "inputWidgets": {},
     "nuid": "53e44501-4ced-4b4c-b95c-1b3bf17c89b6",
     "showTitle": false,
     "title": ""
    }
   },
   "outputs": [
    {
     "output_type": "display_data",
     "data": {
      "text/html": [
       "<style scoped>\n",
       "  .table-result-container {\n",
       "    max-height: 300px;\n",
       "    overflow: auto;\n",
       "  }\n",
       "  table, th, td {\n",
       "    border: 1px solid black;\n",
       "    border-collapse: collapse;\n",
       "  }\n",
       "  th, td {\n",
       "    padding: 5px;\n",
       "  }\n",
       "  th {\n",
       "    text-align: left;\n",
       "  }\n",
       "</style><div class='table-result-container'><table class='table-result'><thead style='background-color: white'><tr><th>PassengerId</th><th>Survived</th><th>Pclass</th><th>Name</th><th>Sex</th><th>Age</th><th>SibSp</th><th>Parch</th><th>Ticket</th><th>Fare</th><th>Cabin</th><th>Embarked</th></tr></thead><tbody><tr><td>0</td><td>0</td><td>0</td><td>0</td><td>0</td><td>177</td><td>0</td><td>0</td><td>0</td><td>0</td><td>687</td><td>2</td></tr></tbody></table></div>"
      ]
     },
     "metadata": {
      "application/vnd.databricks.v1+output": {
       "addedWidgets": {},
       "aggData": [],
       "aggError": "",
       "aggOverflow": false,
       "aggSchema": [],
       "aggSeriesLimitReached": false,
       "aggType": "",
       "arguments": {},
       "columnCustomDisplayInfos": {},
       "data": [
        [
         0,
         0,
         0,
         0,
         0,
         177,
         0,
         0,
         0,
         0,
         687,
         2
        ]
       ],
       "datasetInfos": [],
       "dbfsResultPath": null,
       "isJsonSchema": true,
       "metadata": {},
       "overflow": false,
       "plotOptions": {
        "customPlotOptions": {},
        "displayType": "table",
        "pivotAggregation": null,
        "pivotColumns": null,
        "xColumns": null,
        "yColumns": null
       },
       "removedWidgets": [],
       "schema": [
        {
         "metadata": "{}",
         "name": "PassengerId",
         "type": "\"long\""
        },
        {
         "metadata": "{}",
         "name": "Survived",
         "type": "\"long\""
        },
        {
         "metadata": "{}",
         "name": "Pclass",
         "type": "\"long\""
        },
        {
         "metadata": "{}",
         "name": "Name",
         "type": "\"long\""
        },
        {
         "metadata": "{}",
         "name": "Sex",
         "type": "\"long\""
        },
        {
         "metadata": "{}",
         "name": "Age",
         "type": "\"long\""
        },
        {
         "metadata": "{}",
         "name": "SibSp",
         "type": "\"long\""
        },
        {
         "metadata": "{}",
         "name": "Parch",
         "type": "\"long\""
        },
        {
         "metadata": "{}",
         "name": "Ticket",
         "type": "\"long\""
        },
        {
         "metadata": "{}",
         "name": "Fare",
         "type": "\"long\""
        },
        {
         "metadata": "{}",
         "name": "Cabin",
         "type": "\"long\""
        },
        {
         "metadata": "{}",
         "name": "Embarked",
         "type": "\"long\""
        }
       ],
       "type": "table"
      }
     },
     "output_type": "display_data"
    }
   ],
   "source": [
    "## find missing data\n",
    "from pyspark.sql.functions import count, when, col\n",
    "missing_data = titanic.select([count(when(col(c).isNull(), c)).alias(c) for c in titanic.columns])\n",
    "missing_data.display()"
   ]
  },
  {
   "cell_type": "markdown",
   "metadata": {
    "application/vnd.databricks.v1+cell": {
     "cellMetadata": {},
     "inputWidgets": {},
     "nuid": "9b7c23bf-25b0-4818-96f0-e72862da4466",
     "showTitle": false,
     "title": ""
    }
   },
   "source": [
    "5\\. Value-frequency for Categorical Columns. \n",
    "\n",
    "For all columns except `name`,`ticket`, `Age` and `Fare` (these fields either are not good features for analysis or they are continuous variables). \n",
    "- Print the **10-most frequent values** in the column, along with the count of the values' appearances, ordered by the descending order of the count.\n",
    "\n",
    "For example, for the Sex column, the value-frequency table could be (numbers made up)\n",
    "\n",
    "Sex | Count\n",
    "--|--\n",
    "male | 52\n",
    "female | 38\n",
    "\n",
    "\n",
    "Such a value-frequency table is useful for\n",
    "- deciding whether a string column can be treated as a categorical variable\n",
    "- detecting errors and missing values in such columns\n",
    "\n",
    "*Tip: since we are doing this repeatedly, it may be useful for you to write a function*"
   ]
  },
  {
   "cell_type": "code",
   "execution_count": 0,
   "metadata": {
    "application/vnd.databricks.v1+cell": {
     "cellMetadata": {
      "byteLimit": 2048000,
      "rowLimit": 10000
     },
     "inputWidgets": {},
     "nuid": "5327cab4-0165-41d3-a0b3-fff0f80713a3",
     "showTitle": false,
     "title": ""
    }
   },
   "outputs": [
    {
     "output_type": "stream",
     "name": "stdout",
     "output_type": "stream",
     "text": [
      "Top 10 most frequent values in column 'PassengerId':\n"
     ]
    },
    {
     "output_type": "display_data",
     "data": {
      "text/html": [
       "<style scoped>\n",
       "  .table-result-container {\n",
       "    max-height: 300px;\n",
       "    overflow: auto;\n",
       "  }\n",
       "  table, th, td {\n",
       "    border: 1px solid black;\n",
       "    border-collapse: collapse;\n",
       "  }\n",
       "  th, td {\n",
       "    padding: 5px;\n",
       "  }\n",
       "  th {\n",
       "    text-align: left;\n",
       "  }\n",
       "</style><div class='table-result-container'><table class='table-result'><thead style='background-color: white'><tr><th>PassengerId</th><th>count</th></tr></thead><tbody><tr><td>148</td><td>1</td></tr><tr><td>463</td><td>1</td></tr><tr><td>471</td><td>1</td></tr><tr><td>496</td><td>1</td></tr><tr><td>833</td><td>1</td></tr><tr><td>243</td><td>1</td></tr><tr><td>392</td><td>1</td></tr><tr><td>540</td><td>1</td></tr><tr><td>623</td><td>1</td></tr><tr><td>737</td><td>1</td></tr></tbody></table></div>"
      ]
     },
     "metadata": {
      "application/vnd.databricks.v1+output": {
       "addedWidgets": {},
       "aggData": [],
       "aggError": "",
       "aggOverflow": false,
       "aggSchema": [],
       "aggSeriesLimitReached": false,
       "aggType": "",
       "arguments": {},
       "columnCustomDisplayInfos": {},
       "data": [
        [
         148,
         1
        ],
        [
         463,
         1
        ],
        [
         471,
         1
        ],
        [
         496,
         1
        ],
        [
         833,
         1
        ],
        [
         243,
         1
        ],
        [
         392,
         1
        ],
        [
         540,
         1
        ],
        [
         623,
         1
        ],
        [
         737,
         1
        ]
       ],
       "datasetInfos": [],
       "dbfsResultPath": null,
       "isJsonSchema": true,
       "metadata": {},
       "overflow": false,
       "plotOptions": {
        "customPlotOptions": {},
        "displayType": "table",
        "pivotAggregation": null,
        "pivotColumns": null,
        "xColumns": null,
        "yColumns": null
       },
       "removedWidgets": [],
       "schema": [
        {
         "metadata": "{}",
         "name": "PassengerId",
         "type": "\"integer\""
        },
        {
         "metadata": "{}",
         "name": "count",
         "type": "\"long\""
        }
       ],
       "type": "table"
      }
     },
     "output_type": "display_data"
    },
    {
     "output_type": "stream",
     "name": "stdout",
     "output_type": "stream",
     "text": [
      "Top 10 most frequent values in column 'Survived':\n"
     ]
    },
    {
     "output_type": "display_data",
     "data": {
      "text/html": [
       "<style scoped>\n",
       "  .table-result-container {\n",
       "    max-height: 300px;\n",
       "    overflow: auto;\n",
       "  }\n",
       "  table, th, td {\n",
       "    border: 1px solid black;\n",
       "    border-collapse: collapse;\n",
       "  }\n",
       "  th, td {\n",
       "    padding: 5px;\n",
       "  }\n",
       "  th {\n",
       "    text-align: left;\n",
       "  }\n",
       "</style><div class='table-result-container'><table class='table-result'><thead style='background-color: white'><tr><th>Survived</th><th>count</th></tr></thead><tbody><tr><td>0</td><td>549</td></tr><tr><td>1</td><td>342</td></tr></tbody></table></div>"
      ]
     },
     "metadata": {
      "application/vnd.databricks.v1+output": {
       "addedWidgets": {},
       "aggData": [],
       "aggError": "",
       "aggOverflow": false,
       "aggSchema": [],
       "aggSeriesLimitReached": false,
       "aggType": "",
       "arguments": {},
       "columnCustomDisplayInfos": {},
       "data": [
        [
         0,
         549
        ],
        [
         1,
         342
        ]
       ],
       "datasetInfos": [],
       "dbfsResultPath": null,
       "isJsonSchema": true,
       "metadata": {},
       "overflow": false,
       "plotOptions": {
        "customPlotOptions": {},
        "displayType": "table",
        "pivotAggregation": null,
        "pivotColumns": null,
        "xColumns": null,
        "yColumns": null
       },
       "removedWidgets": [],
       "schema": [
        {
         "metadata": "{}",
         "name": "Survived",
         "type": "\"integer\""
        },
        {
         "metadata": "{}",
         "name": "count",
         "type": "\"long\""
        }
       ],
       "type": "table"
      }
     },
     "output_type": "display_data"
    },
    {
     "output_type": "stream",
     "name": "stdout",
     "output_type": "stream",
     "text": [
      "Top 10 most frequent values in column 'Pclass':\n"
     ]
    },
    {
     "output_type": "display_data",
     "data": {
      "text/html": [
       "<style scoped>\n",
       "  .table-result-container {\n",
       "    max-height: 300px;\n",
       "    overflow: auto;\n",
       "  }\n",
       "  table, th, td {\n",
       "    border: 1px solid black;\n",
       "    border-collapse: collapse;\n",
       "  }\n",
       "  th, td {\n",
       "    padding: 5px;\n",
       "  }\n",
       "  th {\n",
       "    text-align: left;\n",
       "  }\n",
       "</style><div class='table-result-container'><table class='table-result'><thead style='background-color: white'><tr><th>Pclass</th><th>count</th></tr></thead><tbody><tr><td>3</td><td>491</td></tr><tr><td>1</td><td>216</td></tr><tr><td>2</td><td>184</td></tr></tbody></table></div>"
      ]
     },
     "metadata": {
      "application/vnd.databricks.v1+output": {
       "addedWidgets": {},
       "aggData": [],
       "aggError": "",
       "aggOverflow": false,
       "aggSchema": [],
       "aggSeriesLimitReached": false,
       "aggType": "",
       "arguments": {},
       "columnCustomDisplayInfos": {},
       "data": [
        [
         3,
         491
        ],
        [
         1,
         216
        ],
        [
         2,
         184
        ]
       ],
       "datasetInfos": [],
       "dbfsResultPath": null,
       "isJsonSchema": true,
       "metadata": {},
       "overflow": false,
       "plotOptions": {
        "customPlotOptions": {},
        "displayType": "table",
        "pivotAggregation": null,
        "pivotColumns": null,
        "xColumns": null,
        "yColumns": null
       },
       "removedWidgets": [],
       "schema": [
        {
         "metadata": "{}",
         "name": "Pclass",
         "type": "\"integer\""
        },
        {
         "metadata": "{}",
         "name": "count",
         "type": "\"long\""
        }
       ],
       "type": "table"
      }
     },
     "output_type": "display_data"
    },
    {
     "output_type": "stream",
     "name": "stdout",
     "output_type": "stream",
     "text": [
      "Top 10 most frequent values in column 'Sex':\n"
     ]
    },
    {
     "output_type": "display_data",
     "data": {
      "text/html": [
       "<style scoped>\n",
       "  .table-result-container {\n",
       "    max-height: 300px;\n",
       "    overflow: auto;\n",
       "  }\n",
       "  table, th, td {\n",
       "    border: 1px solid black;\n",
       "    border-collapse: collapse;\n",
       "  }\n",
       "  th, td {\n",
       "    padding: 5px;\n",
       "  }\n",
       "  th {\n",
       "    text-align: left;\n",
       "  }\n",
       "</style><div class='table-result-container'><table class='table-result'><thead style='background-color: white'><tr><th>Sex</th><th>count</th></tr></thead><tbody><tr><td>male</td><td>577</td></tr><tr><td>female</td><td>314</td></tr></tbody></table></div>"
      ]
     },
     "metadata": {
      "application/vnd.databricks.v1+output": {
       "addedWidgets": {},
       "aggData": [],
       "aggError": "",
       "aggOverflow": false,
       "aggSchema": [],
       "aggSeriesLimitReached": false,
       "aggType": "",
       "arguments": {},
       "columnCustomDisplayInfos": {},
       "data": [
        [
         "male",
         577
        ],
        [
         "female",
         314
        ]
       ],
       "datasetInfos": [],
       "dbfsResultPath": null,
       "isJsonSchema": true,
       "metadata": {},
       "overflow": false,
       "plotOptions": {
        "customPlotOptions": {},
        "displayType": "table",
        "pivotAggregation": null,
        "pivotColumns": null,
        "xColumns": null,
        "yColumns": null
       },
       "removedWidgets": [],
       "schema": [
        {
         "metadata": "{}",
         "name": "Sex",
         "type": "\"string\""
        },
        {
         "metadata": "{}",
         "name": "count",
         "type": "\"long\""
        }
       ],
       "type": "table"
      }
     },
     "output_type": "display_data"
    },
    {
     "output_type": "stream",
     "name": "stdout",
     "output_type": "stream",
     "text": [
      "Top 10 most frequent values in column 'SibSp':\n"
     ]
    },
    {
     "output_type": "display_data",
     "data": {
      "text/html": [
       "<style scoped>\n",
       "  .table-result-container {\n",
       "    max-height: 300px;\n",
       "    overflow: auto;\n",
       "  }\n",
       "  table, th, td {\n",
       "    border: 1px solid black;\n",
       "    border-collapse: collapse;\n",
       "  }\n",
       "  th, td {\n",
       "    padding: 5px;\n",
       "  }\n",
       "  th {\n",
       "    text-align: left;\n",
       "  }\n",
       "</style><div class='table-result-container'><table class='table-result'><thead style='background-color: white'><tr><th>SibSp</th><th>count</th></tr></thead><tbody><tr><td>0</td><td>608</td></tr><tr><td>1</td><td>209</td></tr><tr><td>2</td><td>28</td></tr><tr><td>4</td><td>18</td></tr><tr><td>3</td><td>16</td></tr><tr><td>8</td><td>7</td></tr><tr><td>5</td><td>5</td></tr></tbody></table></div>"
      ]
     },
     "metadata": {
      "application/vnd.databricks.v1+output": {
       "addedWidgets": {},
       "aggData": [],
       "aggError": "",
       "aggOverflow": false,
       "aggSchema": [],
       "aggSeriesLimitReached": false,
       "aggType": "",
       "arguments": {},
       "columnCustomDisplayInfos": {},
       "data": [
        [
         0,
         608
        ],
        [
         1,
         209
        ],
        [
         2,
         28
        ],
        [
         4,
         18
        ],
        [
         3,
         16
        ],
        [
         8,
         7
        ],
        [
         5,
         5
        ]
       ],
       "datasetInfos": [],
       "dbfsResultPath": null,
       "isJsonSchema": true,
       "metadata": {},
       "overflow": false,
       "plotOptions": {
        "customPlotOptions": {},
        "displayType": "table",
        "pivotAggregation": null,
        "pivotColumns": null,
        "xColumns": null,
        "yColumns": null
       },
       "removedWidgets": [],
       "schema": [
        {
         "metadata": "{}",
         "name": "SibSp",
         "type": "\"integer\""
        },
        {
         "metadata": "{}",
         "name": "count",
         "type": "\"long\""
        }
       ],
       "type": "table"
      }
     },
     "output_type": "display_data"
    },
    {
     "output_type": "stream",
     "name": "stdout",
     "output_type": "stream",
     "text": [
      "Top 10 most frequent values in column 'Parch':\n"
     ]
    },
    {
     "output_type": "display_data",
     "data": {
      "text/html": [
       "<style scoped>\n",
       "  .table-result-container {\n",
       "    max-height: 300px;\n",
       "    overflow: auto;\n",
       "  }\n",
       "  table, th, td {\n",
       "    border: 1px solid black;\n",
       "    border-collapse: collapse;\n",
       "  }\n",
       "  th, td {\n",
       "    padding: 5px;\n",
       "  }\n",
       "  th {\n",
       "    text-align: left;\n",
       "  }\n",
       "</style><div class='table-result-container'><table class='table-result'><thead style='background-color: white'><tr><th>Parch</th><th>count</th></tr></thead><tbody><tr><td>0</td><td>678</td></tr><tr><td>1</td><td>118</td></tr><tr><td>2</td><td>80</td></tr><tr><td>3</td><td>5</td></tr><tr><td>5</td><td>5</td></tr><tr><td>4</td><td>4</td></tr><tr><td>6</td><td>1</td></tr></tbody></table></div>"
      ]
     },
     "metadata": {
      "application/vnd.databricks.v1+output": {
       "addedWidgets": {},
       "aggData": [],
       "aggError": "",
       "aggOverflow": false,
       "aggSchema": [],
       "aggSeriesLimitReached": false,
       "aggType": "",
       "arguments": {},
       "columnCustomDisplayInfos": {},
       "data": [
        [
         0,
         678
        ],
        [
         1,
         118
        ],
        [
         2,
         80
        ],
        [
         3,
         5
        ],
        [
         5,
         5
        ],
        [
         4,
         4
        ],
        [
         6,
         1
        ]
       ],
       "datasetInfos": [],
       "dbfsResultPath": null,
       "isJsonSchema": true,
       "metadata": {},
       "overflow": false,
       "plotOptions": {
        "customPlotOptions": {},
        "displayType": "table",
        "pivotAggregation": null,
        "pivotColumns": null,
        "xColumns": null,
        "yColumns": null
       },
       "removedWidgets": [],
       "schema": [
        {
         "metadata": "{}",
         "name": "Parch",
         "type": "\"integer\""
        },
        {
         "metadata": "{}",
         "name": "count",
         "type": "\"long\""
        }
       ],
       "type": "table"
      }
     },
     "output_type": "display_data"
    },
    {
     "output_type": "stream",
     "name": "stdout",
     "output_type": "stream",
     "text": [
      "Top 10 most frequent values in column 'Cabin':\n"
     ]
    },
    {
     "output_type": "display_data",
     "data": {
      "text/html": [
       "<style scoped>\n",
       "  .table-result-container {\n",
       "    max-height: 300px;\n",
       "    overflow: auto;\n",
       "  }\n",
       "  table, th, td {\n",
       "    border: 1px solid black;\n",
       "    border-collapse: collapse;\n",
       "  }\n",
       "  th, td {\n",
       "    padding: 5px;\n",
       "  }\n",
       "  th {\n",
       "    text-align: left;\n",
       "  }\n",
       "</style><div class='table-result-container'><table class='table-result'><thead style='background-color: white'><tr><th>Cabin</th><th>count</th></tr></thead><tbody><tr><td>null</td><td>687</td></tr><tr><td>B96 B98</td><td>4</td></tr><tr><td>G6</td><td>4</td></tr><tr><td>C23 C25 C27</td><td>4</td></tr><tr><td>F2</td><td>3</td></tr><tr><td>C22 C26</td><td>3</td></tr><tr><td>D</td><td>3</td></tr><tr><td>E101</td><td>3</td></tr><tr><td>F33</td><td>3</td></tr><tr><td>C65</td><td>2</td></tr></tbody></table></div>"
      ]
     },
     "metadata": {
      "application/vnd.databricks.v1+output": {
       "addedWidgets": {},
       "aggData": [],
       "aggError": "",
       "aggOverflow": false,
       "aggSchema": [],
       "aggSeriesLimitReached": false,
       "aggType": "",
       "arguments": {},
       "columnCustomDisplayInfos": {},
       "data": [
        [
         null,
         687
        ],
        [
         "B96 B98",
         4
        ],
        [
         "G6",
         4
        ],
        [
         "C23 C25 C27",
         4
        ],
        [
         "F2",
         3
        ],
        [
         "C22 C26",
         3
        ],
        [
         "D",
         3
        ],
        [
         "E101",
         3
        ],
        [
         "F33",
         3
        ],
        [
         "C65",
         2
        ]
       ],
       "datasetInfos": [],
       "dbfsResultPath": null,
       "isJsonSchema": true,
       "metadata": {},
       "overflow": false,
       "plotOptions": {
        "customPlotOptions": {},
        "displayType": "table",
        "pivotAggregation": null,
        "pivotColumns": null,
        "xColumns": null,
        "yColumns": null
       },
       "removedWidgets": [],
       "schema": [
        {
         "metadata": "{}",
         "name": "Cabin",
         "type": "\"string\""
        },
        {
         "metadata": "{}",
         "name": "count",
         "type": "\"long\""
        }
       ],
       "type": "table"
      }
     },
     "output_type": "display_data"
    },
    {
     "output_type": "stream",
     "name": "stdout",
     "output_type": "stream",
     "text": [
      "Top 10 most frequent values in column 'Embarked':\n"
     ]
    },
    {
     "output_type": "display_data",
     "data": {
      "text/html": [
       "<style scoped>\n",
       "  .table-result-container {\n",
       "    max-height: 300px;\n",
       "    overflow: auto;\n",
       "  }\n",
       "  table, th, td {\n",
       "    border: 1px solid black;\n",
       "    border-collapse: collapse;\n",
       "  }\n",
       "  th, td {\n",
       "    padding: 5px;\n",
       "  }\n",
       "  th {\n",
       "    text-align: left;\n",
       "  }\n",
       "</style><div class='table-result-container'><table class='table-result'><thead style='background-color: white'><tr><th>Embarked</th><th>count</th></tr></thead><tbody><tr><td>S</td><td>644</td></tr><tr><td>C</td><td>168</td></tr><tr><td>Q</td><td>77</td></tr><tr><td>null</td><td>2</td></tr></tbody></table></div>"
      ]
     },
     "metadata": {
      "application/vnd.databricks.v1+output": {
       "addedWidgets": {},
       "aggData": [],
       "aggError": "",
       "aggOverflow": false,
       "aggSchema": [],
       "aggSeriesLimitReached": false,
       "aggType": "",
       "arguments": {},
       "columnCustomDisplayInfos": {},
       "data": [
        [
         "S",
         644
        ],
        [
         "C",
         168
        ],
        [
         "Q",
         77
        ],
        [
         null,
         2
        ]
       ],
       "datasetInfos": [],
       "dbfsResultPath": null,
       "isJsonSchema": true,
       "metadata": {},
       "overflow": false,
       "plotOptions": {
        "customPlotOptions": {},
        "displayType": "table",
        "pivotAggregation": null,
        "pivotColumns": null,
        "xColumns": null,
        "yColumns": null
       },
       "removedWidgets": [],
       "schema": [
        {
         "metadata": "{}",
         "name": "Embarked",
         "type": "\"string\""
        },
        {
         "metadata": "{}",
         "name": "count",
         "type": "\"long\""
        }
       ],
       "type": "table"
      }
     },
     "output_type": "display_data"
    }
   ],
   "source": [
    "from pyspark.sql.functions import col, desc\n",
    "exclude_columns = ['Name', 'Ticket', 'Age', 'Fare']\n",
    "for col_name in titanic.columns:\n",
    "    if col_name not in exclude_columns:\n",
    "        print(f\"Top 10 most frequent values in column '{col_name}':\")\n",
    "        t = titanic.groupBy(col_name).count().orderBy(desc(\"count\"))\n",
    "        t.limit(10).display()"
   ]
  },
  {
   "cell_type": "markdown",
   "metadata": {
    "application/vnd.databricks.v1+cell": {
     "cellMetadata": {},
     "inputWidgets": {},
     "nuid": "5048bfd9-1f80-43fb-a256-0855167b6155",
     "showTitle": false,
     "title": ""
    }
   },
   "source": [
    "6\\. **Distribution of numerical columns**: \n",
    "\n",
    "Calculate and display an **approximate histogram** of `age` column; that is:\n",
    "\n",
    "- Use DataFrame API to calculate how many rows fall into each of the age bins that round to 0, 10, 20, 30, and so on. \n",
    "- Visualize the results in a bar chart using Databricks' built-in chart tool.\n",
    "\n",
    "Then display a histogram of `Age` using the Databricks' histogram chart tool, using a random 50% of the data."
   ]
  },
  {
   "cell_type": "code",
   "execution_count": 0,
   "metadata": {
    "application/vnd.databricks.v1+cell": {
     "cellMetadata": {
      "byteLimit": 2048000,
      "rowLimit": 10000
     },
     "inputWidgets": {},
     "nuid": "586c77cb-f30a-4268-ae88-9b42babfa7d3",
     "showTitle": false,
     "title": ""
    }
   },
   "outputs": [
    {
     "output_type": "display_data",
     "data": {
      "text/html": [
       "<style scoped>\n",
       "  .table-result-container {\n",
       "    max-height: 300px;\n",
       "    overflow: auto;\n",
       "  }\n",
       "  table, th, td {\n",
       "    border: 1px solid black;\n",
       "    border-collapse: collapse;\n",
       "  }\n",
       "  th, td {\n",
       "    padding: 5px;\n",
       "  }\n",
       "  th {\n",
       "    text-align: left;\n",
       "  }\n",
       "</style><div class='table-result-container'><table class='table-result'><thead style='background-color: white'><tr><th>age_round</th><th>count</th></tr></thead><tbody><tr><td>null</td><td>177</td></tr><tr><td>0.0</td><td>40</td></tr><tr><td>10.0</td><td>38</td></tr><tr><td>20.0</td><td>200</td></tr><tr><td>30.0</td><td>201</td></tr><tr><td>40.0</td><td>120</td></tr><tr><td>50.0</td><td>73</td></tr><tr><td>60.0</td><td>31</td></tr><tr><td>70.0</td><td>10</td></tr><tr><td>80.0</td><td>1</td></tr></tbody></table></div>"
      ]
     },
     "metadata": {
      "application/vnd.databricks.v1+output": {
       "addedWidgets": {},
       "aggData": [],
       "aggError": "",
       "aggOverflow": false,
       "aggSchema": [],
       "aggSeriesLimitReached": false,
       "aggType": "",
       "arguments": {},
       "columnCustomDisplayInfos": {},
       "data": [
        [
         null,
         177
        ],
        [
         0.0,
         40
        ],
        [
         10.0,
         38
        ],
        [
         20.0,
         200
        ],
        [
         30.0,
         201
        ],
        [
         40.0,
         120
        ],
        [
         50.0,
         73
        ],
        [
         60.0,
         31
        ],
        [
         70.0,
         10
        ],
        [
         80.0,
         1
        ]
       ],
       "datasetInfos": [],
       "dbfsResultPath": null,
       "isJsonSchema": true,
       "metadata": {},
       "overflow": false,
       "plotOptions": {
        "customPlotOptions": {},
        "displayType": "table",
        "pivotAggregation": null,
        "pivotColumns": null,
        "xColumns": null,
        "yColumns": null
       },
       "removedWidgets": [],
       "schema": [
        {
         "metadata": "{}",
         "name": "age_round",
         "type": "\"double\""
        },
        {
         "metadata": "{}",
         "name": "count",
         "type": "\"long\""
        }
       ],
       "type": "table"
      }
     },
     "output_type": "display_data"
    },
    {
     "output_type": "display_data",
     "data": {
      "text/plain": [
       "Databricks visualization. Run in Databricks to view."
      ]
     },
     "metadata": {
      "application/vnd.databricks.v1.subcommand+json": {
       "baseErrorDetails": null,
       "bindings": {},
       "collapsed": false,
       "command": "%python\n__backend_agg_display_orig = display\n__backend_agg_dfs = []\ndef __backend_agg_display_new(df):\n    __backend_agg_df_modules = [\"pandas.core.frame\", \"databricks.koalas.frame\", \"pyspark.sql.dataframe\", \"pyspark.pandas.frame\", \"pyspark.sql.connect.dataframe\"]\n    if (type(df).__module__ in __backend_agg_df_modules and type(df).__name__ == 'DataFrame') or isinstance(df, list):\n        __backend_agg_dfs.append(df)\n\ndisplay = __backend_agg_display_new\n\ndef __backend_agg_user_code_fn():\n    import base64\n    exec(base64.standard_b64decode(\"ZnJvbSBweXNwYXJrLnNxbC5mdW5jdGlvbnMgaW1wb3J0IHJvdW5kCmFnZV9ncm91cCA9IHRpdGFuaWMuc2VsZWN0KHJvdW5kKHRpdGFuaWMuQWdlLCAtMSkuYWxpYXMoImFnZV9yb3VuZCIpKS5ncm91cEJ5KCJhZ2Vfcm91bmQiKS5jb3VudCgpLm9yZGVyQnkoImFnZV9yb3VuZCIpLmRpc3BsYXkoKQ==\").decode())\n\ntry:\n    # run user code\n    __backend_agg_user_code_fn()\n\n    #reset display function\n    display = __backend_agg_display_orig\n\n    if len(__backend_agg_dfs) > 0:\n        # create a temp view\n        if type(__backend_agg_dfs[0]).__module__ == \"databricks.koalas.frame\":\n            # koalas dataframe\n            __backend_agg_dfs[0].to_spark().createOrReplaceTempView(\"DatabricksView50ae8af\")\n        elif type(__backend_agg_dfs[0]).__module__ == \"pandas.core.frame\" or isinstance(__backend_agg_dfs[0], list):\n            # pandas dataframe\n            spark.createDataFrame(__backend_agg_dfs[0]).createOrReplaceTempView(\"DatabricksView50ae8af\")\n        else:\n            __backend_agg_dfs[0].createOrReplaceTempView(\"DatabricksView50ae8af\")\n        #run backend agg\n        display(spark.sql(\"\"\"WITH q AS (select * from DatabricksView50ae8af) SELECT `age_round`,SUM(`count`) `column_5b71b5f1111` FROM q GROUP BY `age_round`\"\"\"))\n    else:\n        displayHTML(\"dataframe no longer exists. If you're using dataframe.display(), use display(dataframe) instead.\")\n\n\nfinally:\n    spark.sql(\"drop view if exists DatabricksView50ae8af\")\n    display = __backend_agg_display_orig\n    del __backend_agg_display_new\n    del __backend_agg_display_orig\n    del __backend_agg_dfs\n    del __backend_agg_user_code_fn\n\n",
       "commandTitle": "Visualization 1",
       "commandType": "auto",
       "commandVersion": 0,
       "commentThread": [],
       "commentsVisible": false,
       "contentSha256Hex": null,
       "customPlotOptions": {
        "redashChart": [
         {
          "key": "type",
          "value": "CHART"
         },
         {
          "key": "options",
          "value": {
           "alignYAxesAtZero": true,
           "coefficient": 1,
           "columnConfigurationMap": {
            "x": {
             "column": "age_round",
             "id": "column_5b71b5f1110"
            },
            "y": [
             {
              "column": "count",
              "id": "column_5b71b5f1111",
              "transform": "SUM"
             }
            ]
           },
           "dateTimeFormat": "DD/MM/YYYY HH:mm",
           "direction": {
            "type": "counterclockwise"
           },
           "error_y": {
            "type": "data",
            "visible": true
           },
           "globalSeriesType": "column",
           "isAggregationOn": true,
           "legend": {
            "traceorder": "normal"
           },
           "missingValuesAsZero": true,
           "numberFormat": "0,0[.]00000",
           "percentFormat": "0[.]00%",
           "series": {
            "error_y": {
             "type": "data",
             "visible": true
            },
            "stacking": null
           },
           "seriesOptions": {
            "column_5b71b5f1111": {
             "name": "count",
             "type": "column",
             "yAxis": 0
            }
           },
           "showDataLabels": false,
           "sizemode": "diameter",
           "sortX": true,
           "sortY": true,
           "swappedAxes": false,
           "textFormat": "",
           "useAggregationsUi": true,
           "valuesOptions": {},
           "version": 2,
           "xAxis": {
            "labels": {
             "enabled": true
            },
            "type": "-"
           },
           "yAxis": [
            {
             "type": "-"
            },
            {
             "opposite": true,
             "type": "-"
            }
           ]
          }
         }
        ]
       },
       "datasetPreviewNameToCmdIdMap": {},
       "diffDeletes": [],
       "diffInserts": [],
       "displayType": "redashChart",
       "error": null,
       "errorDetails": null,
       "errorSummary": null,
       "errorTraceType": null,
       "finishTime": 0,
       "globalVars": {},
       "guid": "",
       "height": "auto",
       "hideCommandCode": false,
       "hideCommandResult": false,
       "iPythonMetadata": null,
       "inputWidgets": {},
       "isLockedInExamMode": false,
       "latestUser": "a user",
       "latestUserId": null,
       "listResultMetadata": null,
       "metadata": {},
       "nuid": "9bfab8b2-4924-4a12-873b-631d66f3f397",
       "origId": 0,
       "parentHierarchy": [],
       "pivotAggregation": null,
       "pivotColumns": null,
       "position": 19.0,
       "resultDbfsErrorMessage": null,
       "resultDbfsStatus": "INLINED_IN_TREE",
       "results": null,
       "showCommandTitle": false,
       "startTime": 0,
       "state": "input",
       "streamStates": {},
       "subcommandOptions": {
        "queryPlan": {
         "groups": [
          {
           "column": "age_round",
           "type": "column"
          }
         ],
         "selects": [
          {
           "column": "age_round",
           "type": "column"
          },
          {
           "alias": "column_5b71b5f1111",
           "args": [
            {
             "column": "count",
             "type": "column"
            }
           ],
           "function": "SUM",
           "type": "function"
          }
         ]
        }
       },
       "submitTime": 0,
       "subtype": "tableResultSubCmd.visualization",
       "tableResultIndex": 0,
       "useConsistentColors": false,
       "version": "CommandV1",
       "width": "auto",
       "workflows": [],
       "xColumns": null,
       "yColumns": null
      }
     },
     "output_type": "display_data"
    }
   ],
   "source": [
    "from pyspark.sql.functions import round\n",
    "age_group = titanic.select(round(titanic.Age, -1).alias(\"age_round\")).groupBy(\"age_round\").count().orderBy(\"age_round\").display()"
   ]
  },
  {
   "cell_type": "code",
   "execution_count": 0,
   "metadata": {
    "application/vnd.databricks.v1+cell": {
     "cellMetadata": {
      "byteLimit": 2048000,
      "rowLimit": 10000
     },
     "inputWidgets": {},
     "nuid": "f87f1990-f461-4c1d-ab1c-e4abb6e4a33e",
     "showTitle": false,
     "title": ""
    }
   },
   "outputs": [
    {
     "output_type": "display_data",
     "data": {
      "text/html": [
       "<style scoped>\n",
       "  .table-result-container {\n",
       "    max-height: 300px;\n",
       "    overflow: auto;\n",
       "  }\n",
       "  table, th, td {\n",
       "    border: 1px solid black;\n",
       "    border-collapse: collapse;\n",
       "  }\n",
       "  th, td {\n",
       "    padding: 5px;\n",
       "  }\n",
       "  th {\n",
       "    text-align: left;\n",
       "  }\n",
       "</style><div class='table-result-container'><table class='table-result'><thead style='background-color: white'><tr><th>Age</th></tr></thead><tbody><tr><td>22.0</td></tr><tr><td>26.0</td></tr><tr><td>null</td></tr><tr><td>54.0</td></tr><tr><td>27.0</td></tr><tr><td>14.0</td></tr><tr><td>4.0</td></tr><tr><td>58.0</td></tr><tr><td>39.0</td></tr><tr><td>14.0</td></tr><tr><td>35.0</td></tr><tr><td>15.0</td></tr><tr><td>28.0</td></tr><tr><td>null</td></tr><tr><td>null</td></tr><tr><td>null</td></tr><tr><td>66.0</td></tr><tr><td>42.0</td></tr><tr><td>18.0</td></tr><tr><td>40.0</td></tr><tr><td>27.0</td></tr><tr><td>19.0</td></tr><tr><td>null</td></tr><tr><td>null</td></tr><tr><td>null</td></tr><tr><td>18.0</td></tr><tr><td>7.0</td></tr><tr><td>22.0</td></tr><tr><td>45.0</td></tr><tr><td>null</td></tr><tr><td>32.0</td></tr><tr><td>null</td></tr><tr><td>0.83</td></tr><tr><td>30.0</td></tr><tr><td>22.0</td></tr><tr><td>null</td></tr><tr><td>16.0</td></tr><tr><td>null</td></tr><tr><td>29.0</td></tr><tr><td>20.0</td></tr><tr><td>46.0</td></tr><tr><td>26.0</td></tr><tr><td>59.0</td></tr><tr><td>null</td></tr><tr><td>23.0</td></tr><tr><td>34.0</td></tr><tr><td>28.0</td></tr><tr><td>21.0</td></tr><tr><td>37.0</td></tr><tr><td>28.0</td></tr><tr><td>21.0</td></tr><tr><td>22.0</td></tr><tr><td>70.5</td></tr><tr><td>24.0</td></tr><tr><td>null</td></tr><tr><td>32.5</td></tr><tr><td>54.0</td></tr><tr><td>null</td></tr><tr><td>33.0</td></tr><tr><td>47.0</td></tr><tr><td>29.0</td></tr><tr><td>25.0</td></tr><tr><td>19.0</td></tr><tr><td>37.0</td></tr><tr><td>24.0</td></tr><tr><td>22.0</td></tr><tr><td>19.0</td></tr><tr><td>18.0</td></tr><tr><td>27.0</td></tr><tr><td>51.0</td></tr><tr><td>22.0</td></tr><tr><td>55.5</td></tr><tr><td>null</td></tr><tr><td>51.0</td></tr><tr><td>null</td></tr><tr><td>26.0</td></tr><tr><td>1.0</td></tr><tr><td>null</td></tr><tr><td>4.0</td></tr><tr><td>21.0</td></tr><tr><td>18.0</td></tr><tr><td>null</td></tr><tr><td>1.0</td></tr><tr><td>null</td></tr><tr><td>45.0</td></tr><tr><td>44.0</td></tr><tr><td>null</td></tr><tr><td>null</td></tr><tr><td>24.0</td></tr><tr><td>null</td></tr><tr><td>34.0</td></tr><tr><td>18.0</td></tr><tr><td>2.0</td></tr><tr><td>32.0</td></tr><tr><td>26.0</td></tr><tr><td>22.0</td></tr><tr><td>30.0</td></tr><tr><td>31.0</td></tr><tr><td>32.0</td></tr><tr><td>38.0</td></tr><tr><td>35.0</td></tr><tr><td>5.0</td></tr><tr><td>null</td></tr><tr><td>33.0</td></tr><tr><td>44.0</td></tr><tr><td>25.0</td></tr><tr><td>24.0</td></tr><tr><td>37.0</td></tr><tr><td>54.0</td></tr><tr><td>null</td></tr><tr><td>62.0</td></tr><tr><td>30.0</td></tr><tr><td>41.0</td></tr><tr><td>null</td></tr><tr><td>30.0</td></tr><tr><td>35.0</td></tr><tr><td>3.0</td></tr><tr><td>40.0</td></tr><tr><td>null</td></tr><tr><td>16.0</td></tr><tr><td>25.0</td></tr><tr><td>25.0</td></tr><tr><td>41.0</td></tr><tr><td>37.0</td></tr><tr><td>null</td></tr><tr><td>63.0</td></tr><tr><td>35.0</td></tr><tr><td>65.0</td></tr><tr><td>null</td></tr><tr><td>30.0</td></tr><tr><td>42.0</td></tr><tr><td>26.0</td></tr><tr><td>36.0</td></tr><tr><td>24.0</td></tr><tr><td>23.5</td></tr><tr><td>null</td></tr><tr><td>50.0</td></tr><tr><td>19.0</td></tr><tr><td>null</td></tr><tr><td>null</td></tr><tr><td>30.0</td></tr><tr><td>24.0</td></tr><tr><td>18.0</td></tr><tr><td>28.0</td></tr><tr><td>43.0</td></tr><tr><td>24.0</td></tr><tr><td>54.0</td></tr><tr><td>40.0</td></tr><tr><td>22.0</td></tr><tr><td>null</td></tr><tr><td>16.0</td></tr><tr><td>38.0</td></tr><tr><td>16.0</td></tr><tr><td>null</td></tr><tr><td>null</td></tr><tr><td>29.0</td></tr><tr><td>45.0</td></tr><tr><td>28.0</td></tr><tr><td>24.0</td></tr><tr><td>null</td></tr><tr><td>3.0</td></tr><tr><td>null</td></tr><tr><td>15.0</td></tr><tr><td>25.0</td></tr><tr><td>null</td></tr><tr><td>28.0</td></tr><tr><td>38.0</td></tr><tr><td>29.0</td></tr><tr><td>35.0</td></tr><tr><td>60.0</td></tr><tr><td>null</td></tr><tr><td>25.0</td></tr><tr><td>19.0</td></tr><tr><td>3.0</td></tr><tr><td>22.0</td></tr><tr><td>19.0</td></tr><tr><td>1.0</td></tr><tr><td>32.0</td></tr><tr><td>null</td></tr><tr><td>18.0</td></tr><tr><td>1.0</td></tr><tr><td>17.0</td></tr><tr><td>21.0</td></tr><tr><td>23.0</td></tr><tr><td>24.0</td></tr><tr><td>22.0</td></tr><tr><td>31.0</td></tr><tr><td>46.0</td></tr><tr><td>23.0</td></tr><tr><td>28.0</td></tr><tr><td>26.0</td></tr><tr><td>20.0</td></tr><tr><td>51.0</td></tr><tr><td>21.0</td></tr><tr><td>null</td></tr><tr><td>null</td></tr><tr><td>18.0</td></tr><tr><td>10.0</td></tr><tr><td>28.0</td></tr><tr><td>18.0</td></tr><tr><td>28.0</td></tr><tr><td>28.0</td></tr><tr><td>null</td></tr><tr><td>50.0</td></tr><tr><td>21.0</td></tr><tr><td>24.0</td></tr><tr><td>64.0</td></tr><tr><td>45.0</td></tr><tr><td>28.0</td></tr><tr><td>null</td></tr><tr><td>49.0</td></tr><tr><td>29.0</td></tr><tr><td>null</td></tr><tr><td>48.0</td></tr><tr><td>34.0</td></tr><tr><td>null</td></tr><tr><td>null</td></tr><tr><td>56.0</td></tr><tr><td>0.75</td></tr><tr><td>null</td></tr><tr><td>23.0</td></tr><tr><td>22.0</td></tr><tr><td>25.0</td></tr><tr><td>null</td></tr><tr><td>21.0</td></tr><tr><td>55.0</td></tr><tr><td>21.0</td></tr><tr><td>null</td></tr><tr><td>25.0</td></tr><tr><td>24.0</td></tr><tr><td>17.0</td></tr><tr><td>21.0</td></tr><tr><td>18.0</td></tr><tr><td>33.0</td></tr><tr><td>28.0</td></tr><tr><td>29.0</td></tr><tr><td>null</td></tr><tr><td>54.0</td></tr><tr><td>34.0</td></tr><tr><td>36.0</td></tr><tr><td>32.0</td></tr><tr><td>30.0</td></tr><tr><td>22.0</td></tr><tr><td>null</td></tr><tr><td>39.0</td></tr><tr><td>23.0</td></tr><tr><td>2.0</td></tr><tr><td>17.0</td></tr><tr><td>null</td></tr><tr><td>45.0</td></tr><tr><td>32.0</td></tr><tr><td>19.0</td></tr><tr><td>33.0</td></tr><tr><td>17.0</td></tr><tr><td>null</td></tr><tr><td>22.0</td></tr><tr><td>22.0</td></tr><tr><td>48.0</td></tr><tr><td>null</td></tr><tr><td>36.0</td></tr><tr><td>19.0</td></tr><tr><td>null</td></tr><tr><td>32.0</td></tr><tr><td>62.0</td></tr><tr><td>53.0</td></tr><tr><td>36.0</td></tr><tr><td>null</td></tr><tr><td>19.0</td></tr><tr><td>39.0</td></tr><tr><td>36.0</td></tr><tr><td>null</td></tr><tr><td>18.0</td></tr><tr><td>47.0</td></tr><tr><td>null</td></tr><tr><td>47.0</td></tr><tr><td>null</td></tr><tr><td>null</td></tr><tr><td>null</td></tr><tr><td>null</td></tr><tr><td>36.0</td></tr><tr><td>27.0</td></tr><tr><td>40.0</td></tr><tr><td>39.0</td></tr><tr><td>null</td></tr><tr><td>35.0</td></tr><tr><td>34.0</td></tr><tr><td>26.0</td></tr><tr><td>26.0</td></tr><tr><td>27.0</td></tr><tr><td>42.0</td></tr><tr><td>20.0</td></tr><tr><td>21.0</td></tr><tr><td>51.0</td></tr><tr><td>28.0</td></tr><tr><td>32.0</td></tr><tr><td>null</td></tr><tr><td>20.0</td></tr><tr><td>24.0</td></tr><tr><td>48.0</td></tr><tr><td>19.0</td></tr><tr><td>56.0</td></tr><tr><td>null</td></tr><tr><td>18.0</td></tr><tr><td>18.0</td></tr><tr><td>32.0</td></tr><tr><td>23.0</td></tr><tr><td>58.0</td></tr><tr><td>50.0</td></tr><tr><td>36.0</td></tr><tr><td>20.0</td></tr><tr><td>25.0</td></tr><tr><td>null</td></tr><tr><td>18.0</td></tr><tr><td>43.0</td></tr><tr><td>20.0</td></tr><tr><td>14.0</td></tr><tr><td>25.0</td></tr><tr><td>4.0</td></tr><tr><td>null</td></tr><tr><td>60.0</td></tr><tr><td>25.0</td></tr><tr><td>39.0</td></tr><tr><td>22.0</td></tr><tr><td>null</td></tr><tr><td>48.0</td></tr><tr><td>29.0</td></tr><tr><td>52.0</td></tr><tr><td>19.0</td></tr><tr><td>38.0</td></tr><tr><td>33.0</td></tr><tr><td>6.0</td></tr><tr><td>17.0</td></tr><tr><td>34.0</td></tr><tr><td>50.0</td></tr><tr><td>27.0</td></tr><tr><td>20.0</td></tr><tr><td>30.0</td></tr><tr><td>25.0</td></tr><tr><td>11.0</td></tr><tr><td>23.0</td></tr><tr><td>23.0</td></tr><tr><td>28.5</td></tr><tr><td>null</td></tr><tr><td>31.0</td></tr><tr><td>70.0</td></tr><tr><td>19.0</td></tr><tr><td>48.0</td></tr><tr><td>0.67</td></tr><tr><td>28.0</td></tr><tr><td>18.0</td></tr><tr><td>34.0</td></tr><tr><td>33.0</td></tr><tr><td>36.0</td></tr><tr><td>null</td></tr><tr><td>32.0</td></tr><tr><td>57.0</td></tr><tr><td>18.0</td></tr><tr><td>43.0</td></tr><tr><td>13.0</td></tr><tr><td>17.0</td></tr><tr><td>29.0</td></tr><tr><td>null</td></tr><tr><td>8.0</td></tr><tr><td>1.0</td></tr><tr><td>49.0</td></tr><tr><td>31.0</td></tr><tr><td>30.0</td></tr><tr><td>34.0</td></tr><tr><td>11.0</td></tr><tr><td>31.0</td></tr><tr><td>39.0</td></tr><tr><td>39.0</td></tr><tr><td>35.0</td></tr><tr><td>null</td></tr><tr><td>43.0</td></tr><tr><td>52.0</td></tr><tr><td>27.0</td></tr><tr><td>38.0</td></tr><tr><td>27.0</td></tr><tr><td>2.0</td></tr><tr><td>null</td></tr><tr><td>null</td></tr><tr><td>null</td></tr><tr><td>15.0</td></tr><tr><td>null</td></tr><tr><td>23.0</td></tr><tr><td>18.0</td></tr><tr><td>21.0</td></tr><tr><td>null</td></tr><tr><td>20.0</td></tr><tr><td>30.0</td></tr><tr><td>34.5</td></tr><tr><td>17.0</td></tr><tr><td>null</td></tr><tr><td>35.0</td></tr><tr><td>28.0</td></tr><tr><td>74.0</td></tr><tr><td>44.0</td></tr><tr><td>18.0</td></tr><tr><td>45.0</td></tr><tr><td>null</td></tr><tr><td>21.0</td></tr><tr><td>48.0</td></tr><tr><td>42.0</td></tr><tr><td>33.0</td></tr><tr><td>28.0</td></tr><tr><td>null</td></tr><tr><td>25.0</td></tr><tr><td>22.0</td></tr><tr><td>27.0</td></tr><tr><td>19.0</td></tr><tr><td>null</td></tr><tr><td>32.0</td></tr></tbody></table></div>"
      ]
     },
     "metadata": {
      "application/vnd.databricks.v1+output": {
       "addedWidgets": {},
       "aggData": [],
       "aggError": "",
       "aggOverflow": false,
       "aggSchema": [],
       "aggSeriesLimitReached": false,
       "aggType": "",
       "arguments": {},
       "columnCustomDisplayInfos": {},
       "data": [
        [
         22.0
        ],
        [
         26.0
        ],
        [
         null
        ],
        [
         54.0
        ],
        [
         27.0
        ],
        [
         14.0
        ],
        [
         4.0
        ],
        [
         58.0
        ],
        [
         39.0
        ],
        [
         14.0
        ],
        [
         35.0
        ],
        [
         15.0
        ],
        [
         28.0
        ],
        [
         null
        ],
        [
         null
        ],
        [
         null
        ],
        [
         66.0
        ],
        [
         42.0
        ],
        [
         18.0
        ],
        [
         40.0
        ],
        [
         27.0
        ],
        [
         19.0
        ],
        [
         null
        ],
        [
         null
        ],
        [
         null
        ],
        [
         18.0
        ],
        [
         7.0
        ],
        [
         22.0
        ],
        [
         45.0
        ],
        [
         null
        ],
        [
         32.0
        ],
        [
         null
        ],
        [
         0.83
        ],
        [
         30.0
        ],
        [
         22.0
        ],
        [
         null
        ],
        [
         16.0
        ],
        [
         null
        ],
        [
         29.0
        ],
        [
         20.0
        ],
        [
         46.0
        ],
        [
         26.0
        ],
        [
         59.0
        ],
        [
         null
        ],
        [
         23.0
        ],
        [
         34.0
        ],
        [
         28.0
        ],
        [
         21.0
        ],
        [
         37.0
        ],
        [
         28.0
        ],
        [
         21.0
        ],
        [
         22.0
        ],
        [
         70.5
        ],
        [
         24.0
        ],
        [
         null
        ],
        [
         32.5
        ],
        [
         54.0
        ],
        [
         null
        ],
        [
         33.0
        ],
        [
         47.0
        ],
        [
         29.0
        ],
        [
         25.0
        ],
        [
         19.0
        ],
        [
         37.0
        ],
        [
         24.0
        ],
        [
         22.0
        ],
        [
         19.0
        ],
        [
         18.0
        ],
        [
         27.0
        ],
        [
         51.0
        ],
        [
         22.0
        ],
        [
         55.5
        ],
        [
         null
        ],
        [
         51.0
        ],
        [
         null
        ],
        [
         26.0
        ],
        [
         1.0
        ],
        [
         null
        ],
        [
         4.0
        ],
        [
         21.0
        ],
        [
         18.0
        ],
        [
         null
        ],
        [
         1.0
        ],
        [
         null
        ],
        [
         45.0
        ],
        [
         44.0
        ],
        [
         null
        ],
        [
         null
        ],
        [
         24.0
        ],
        [
         null
        ],
        [
         34.0
        ],
        [
         18.0
        ],
        [
         2.0
        ],
        [
         32.0
        ],
        [
         26.0
        ],
        [
         22.0
        ],
        [
         30.0
        ],
        [
         31.0
        ],
        [
         32.0
        ],
        [
         38.0
        ],
        [
         35.0
        ],
        [
         5.0
        ],
        [
         null
        ],
        [
         33.0
        ],
        [
         44.0
        ],
        [
         25.0
        ],
        [
         24.0
        ],
        [
         37.0
        ],
        [
         54.0
        ],
        [
         null
        ],
        [
         62.0
        ],
        [
         30.0
        ],
        [
         41.0
        ],
        [
         null
        ],
        [
         30.0
        ],
        [
         35.0
        ],
        [
         3.0
        ],
        [
         40.0
        ],
        [
         null
        ],
        [
         16.0
        ],
        [
         25.0
        ],
        [
         25.0
        ],
        [
         41.0
        ],
        [
         37.0
        ],
        [
         null
        ],
        [
         63.0
        ],
        [
         35.0
        ],
        [
         65.0
        ],
        [
         null
        ],
        [
         30.0
        ],
        [
         42.0
        ],
        [
         26.0
        ],
        [
         36.0
        ],
        [
         24.0
        ],
        [
         23.5
        ],
        [
         null
        ],
        [
         50.0
        ],
        [
         19.0
        ],
        [
         null
        ],
        [
         null
        ],
        [
         30.0
        ],
        [
         24.0
        ],
        [
         18.0
        ],
        [
         28.0
        ],
        [
         43.0
        ],
        [
         24.0
        ],
        [
         54.0
        ],
        [
         40.0
        ],
        [
         22.0
        ],
        [
         null
        ],
        [
         16.0
        ],
        [
         38.0
        ],
        [
         16.0
        ],
        [
         null
        ],
        [
         null
        ],
        [
         29.0
        ],
        [
         45.0
        ],
        [
         28.0
        ],
        [
         24.0
        ],
        [
         null
        ],
        [
         3.0
        ],
        [
         null
        ],
        [
         15.0
        ],
        [
         25.0
        ],
        [
         null
        ],
        [
         28.0
        ],
        [
         38.0
        ],
        [
         29.0
        ],
        [
         35.0
        ],
        [
         60.0
        ],
        [
         null
        ],
        [
         25.0
        ],
        [
         19.0
        ],
        [
         3.0
        ],
        [
         22.0
        ],
        [
         19.0
        ],
        [
         1.0
        ],
        [
         32.0
        ],
        [
         null
        ],
        [
         18.0
        ],
        [
         1.0
        ],
        [
         17.0
        ],
        [
         21.0
        ],
        [
         23.0
        ],
        [
         24.0
        ],
        [
         22.0
        ],
        [
         31.0
        ],
        [
         46.0
        ],
        [
         23.0
        ],
        [
         28.0
        ],
        [
         26.0
        ],
        [
         20.0
        ],
        [
         51.0
        ],
        [
         21.0
        ],
        [
         null
        ],
        [
         null
        ],
        [
         18.0
        ],
        [
         10.0
        ],
        [
         28.0
        ],
        [
         18.0
        ],
        [
         28.0
        ],
        [
         28.0
        ],
        [
         null
        ],
        [
         50.0
        ],
        [
         21.0
        ],
        [
         24.0
        ],
        [
         64.0
        ],
        [
         45.0
        ],
        [
         28.0
        ],
        [
         null
        ],
        [
         49.0
        ],
        [
         29.0
        ],
        [
         null
        ],
        [
         48.0
        ],
        [
         34.0
        ],
        [
         null
        ],
        [
         null
        ],
        [
         56.0
        ],
        [
         0.75
        ],
        [
         null
        ],
        [
         23.0
        ],
        [
         22.0
        ],
        [
         25.0
        ],
        [
         null
        ],
        [
         21.0
        ],
        [
         55.0
        ],
        [
         21.0
        ],
        [
         null
        ],
        [
         25.0
        ],
        [
         24.0
        ],
        [
         17.0
        ],
        [
         21.0
        ],
        [
         18.0
        ],
        [
         33.0
        ],
        [
         28.0
        ],
        [
         29.0
        ],
        [
         null
        ],
        [
         54.0
        ],
        [
         34.0
        ],
        [
         36.0
        ],
        [
         32.0
        ],
        [
         30.0
        ],
        [
         22.0
        ],
        [
         null
        ],
        [
         39.0
        ],
        [
         23.0
        ],
        [
         2.0
        ],
        [
         17.0
        ],
        [
         null
        ],
        [
         45.0
        ],
        [
         32.0
        ],
        [
         19.0
        ],
        [
         33.0
        ],
        [
         17.0
        ],
        [
         null
        ],
        [
         22.0
        ],
        [
         22.0
        ],
        [
         48.0
        ],
        [
         null
        ],
        [
         36.0
        ],
        [
         19.0
        ],
        [
         null
        ],
        [
         32.0
        ],
        [
         62.0
        ],
        [
         53.0
        ],
        [
         36.0
        ],
        [
         null
        ],
        [
         19.0
        ],
        [
         39.0
        ],
        [
         36.0
        ],
        [
         null
        ],
        [
         18.0
        ],
        [
         47.0
        ],
        [
         null
        ],
        [
         47.0
        ],
        [
         null
        ],
        [
         null
        ],
        [
         null
        ],
        [
         null
        ],
        [
         36.0
        ],
        [
         27.0
        ],
        [
         40.0
        ],
        [
         39.0
        ],
        [
         null
        ],
        [
         35.0
        ],
        [
         34.0
        ],
        [
         26.0
        ],
        [
         26.0
        ],
        [
         27.0
        ],
        [
         42.0
        ],
        [
         20.0
        ],
        [
         21.0
        ],
        [
         51.0
        ],
        [
         28.0
        ],
        [
         32.0
        ],
        [
         null
        ],
        [
         20.0
        ],
        [
         24.0
        ],
        [
         48.0
        ],
        [
         19.0
        ],
        [
         56.0
        ],
        [
         null
        ],
        [
         18.0
        ],
        [
         18.0
        ],
        [
         32.0
        ],
        [
         23.0
        ],
        [
         58.0
        ],
        [
         50.0
        ],
        [
         36.0
        ],
        [
         20.0
        ],
        [
         25.0
        ],
        [
         null
        ],
        [
         18.0
        ],
        [
         43.0
        ],
        [
         20.0
        ],
        [
         14.0
        ],
        [
         25.0
        ],
        [
         4.0
        ],
        [
         null
        ],
        [
         60.0
        ],
        [
         25.0
        ],
        [
         39.0
        ],
        [
         22.0
        ],
        [
         null
        ],
        [
         48.0
        ],
        [
         29.0
        ],
        [
         52.0
        ],
        [
         19.0
        ],
        [
         38.0
        ],
        [
         33.0
        ],
        [
         6.0
        ],
        [
         17.0
        ],
        [
         34.0
        ],
        [
         50.0
        ],
        [
         27.0
        ],
        [
         20.0
        ],
        [
         30.0
        ],
        [
         25.0
        ],
        [
         11.0
        ],
        [
         23.0
        ],
        [
         23.0
        ],
        [
         28.5
        ],
        [
         null
        ],
        [
         31.0
        ],
        [
         70.0
        ],
        [
         19.0
        ],
        [
         48.0
        ],
        [
         0.67
        ],
        [
         28.0
        ],
        [
         18.0
        ],
        [
         34.0
        ],
        [
         33.0
        ],
        [
         36.0
        ],
        [
         null
        ],
        [
         32.0
        ],
        [
         57.0
        ],
        [
         18.0
        ],
        [
         43.0
        ],
        [
         13.0
        ],
        [
         17.0
        ],
        [
         29.0
        ],
        [
         null
        ],
        [
         8.0
        ],
        [
         1.0
        ],
        [
         49.0
        ],
        [
         31.0
        ],
        [
         30.0
        ],
        [
         34.0
        ],
        [
         11.0
        ],
        [
         31.0
        ],
        [
         39.0
        ],
        [
         39.0
        ],
        [
         35.0
        ],
        [
         null
        ],
        [
         43.0
        ],
        [
         52.0
        ],
        [
         27.0
        ],
        [
         38.0
        ],
        [
         27.0
        ],
        [
         2.0
        ],
        [
         null
        ],
        [
         null
        ],
        [
         null
        ],
        [
         15.0
        ],
        [
         null
        ],
        [
         23.0
        ],
        [
         18.0
        ],
        [
         21.0
        ],
        [
         null
        ],
        [
         20.0
        ],
        [
         30.0
        ],
        [
         34.5
        ],
        [
         17.0
        ],
        [
         null
        ],
        [
         35.0
        ],
        [
         28.0
        ],
        [
         74.0
        ],
        [
         44.0
        ],
        [
         18.0
        ],
        [
         45.0
        ],
        [
         null
        ],
        [
         21.0
        ],
        [
         48.0
        ],
        [
         42.0
        ],
        [
         33.0
        ],
        [
         28.0
        ],
        [
         null
        ],
        [
         25.0
        ],
        [
         22.0
        ],
        [
         27.0
        ],
        [
         19.0
        ],
        [
         null
        ],
        [
         32.0
        ]
       ],
       "datasetInfos": [],
       "dbfsResultPath": null,
       "isJsonSchema": true,
       "metadata": {},
       "overflow": false,
       "plotOptions": {
        "customPlotOptions": {},
        "displayType": "table",
        "pivotAggregation": null,
        "pivotColumns": null,
        "xColumns": null,
        "yColumns": null
       },
       "removedWidgets": [],
       "schema": [
        {
         "metadata": "{}",
         "name": "Age",
         "type": "\"double\""
        }
       ],
       "type": "table"
      }
     },
     "output_type": "display_data"
    },
    {
     "output_type": "display_data",
     "data": {
      "text/plain": [
       "Databricks visualization. Run in Databricks to view."
      ]
     },
     "metadata": {
      "application/vnd.databricks.v1.subcommand+json": {
       "baseErrorDetails": null,
       "bindings": {},
       "collapsed": false,
       "command": "%python\n__backend_agg_display_orig = display\n__backend_agg_dfs = []\ndef __backend_agg_display_new(df):\n    __backend_agg_df_modules = [\"pandas.core.frame\", \"databricks.koalas.frame\", \"pyspark.sql.dataframe\", \"pyspark.pandas.frame\", \"pyspark.sql.connect.dataframe\"]\n    if (type(df).__module__ in __backend_agg_df_modules and type(df).__name__ == 'DataFrame') or isinstance(df, list):\n        __backend_agg_dfs.append(df)\n\ndisplay = __backend_agg_display_new\n\ndef __backend_agg_user_code_fn():\n    import base64\n    exec(base64.standard_b64decode(\"IyBIaXN0b2dyYW0gdmVyc2lvbgp0aXRhbmljLnNlbGVjdCgnQWdlJykuc2FtcGxlKEZhbHNlLCAwLjUpLmRpc3BsYXkoKQ==\").decode())\n\ntry:\n    # run user code\n    __backend_agg_user_code_fn()\n\n    #reset display function\n    display = __backend_agg_display_orig\n\n    if len(__backend_agg_dfs) > 0:\n        # create a temp view\n        if type(__backend_agg_dfs[0]).__module__ == \"databricks.koalas.frame\":\n            # koalas dataframe\n            __backend_agg_dfs[0].to_spark().createOrReplaceTempView(\"DatabricksViewbc96066\")\n        elif type(__backend_agg_dfs[0]).__module__ == \"pandas.core.frame\" or isinstance(__backend_agg_dfs[0], list):\n            # pandas dataframe\n            spark.createDataFrame(__backend_agg_dfs[0]).createOrReplaceTempView(\"DatabricksViewbc96066\")\n        else:\n            __backend_agg_dfs[0].createOrReplaceTempView(\"DatabricksViewbc96066\")\n        #run backend agg\n        display(spark.sql(\"\"\"WITH q AS (select * from DatabricksViewbc96066) ,min_max AS (SELECT `Age`,(SELECT MAX(`Age`) FROM q) `target_column_max`,(SELECT MIN(`Age`) FROM q) `target_column_min` FROM q) ,histogram_meta AS (SELECT `Age`,`target_column_min` `min_value`,IF(`target_column_max` = `target_column_min`,`target_column_max` + 1,`target_column_max`) `max_value`,(`target_column_max` - `target_column_min`) / 10 `step` FROM min_max) SELECT IF(ISNULL(`Age`),NULL,LEAST(WIDTH_BUCKET(`Age`,`min_value`,`max_value`,10),10)) `Age_BIN`,FIRST(`min_value` + ((IF(ISNULL(`Age`),NULL,LEAST(WIDTH_BUCKET(`Age`,`min_value`,`max_value`,10),10)) - 1) * `step`)) `Age_BIN_LOWER_BOUND`,FIRST(`step`) `Age_BIN_STEP`,COUNT(`Age`) `COUNT` FROM histogram_meta GROUP BY `Age_BIN`\"\"\"))\n    else:\n        displayHTML(\"dataframe no longer exists. If you're using dataframe.display(), use display(dataframe) instead.\")\n\n\nfinally:\n    spark.sql(\"drop view if exists DatabricksViewbc96066\")\n    display = __backend_agg_display_orig\n    del __backend_agg_display_new\n    del __backend_agg_display_orig\n    del __backend_agg_dfs\n    del __backend_agg_user_code_fn\n\n",
       "commandTitle": "Visualization 1",
       "commandType": "auto",
       "commandVersion": 0,
       "commentThread": [],
       "commentsVisible": false,
       "contentSha256Hex": null,
       "customPlotOptions": {
        "redashChart": [
         {
          "key": "type",
          "value": "CHART"
         },
         {
          "key": "options",
          "value": {
           "alignYAxesAtZero": true,
           "coefficient": 1,
           "columnConfigurationMap": {
            "x": {
             "column": "Age",
             "id": "column_5b71b5f1124"
            }
           },
           "dateTimeFormat": "DD/MM/YYYY HH:mm",
           "direction": {
            "type": "counterclockwise"
           },
           "error_y": {
            "type": "data",
            "visible": true
           },
           "globalSeriesType": "histogram",
           "legend": {
            "traceorder": "normal"
           },
           "missingValuesAsZero": true,
           "numBins": 10,
           "numberFormat": "0,0[.]00000",
           "percentFormat": "0[.]00%",
           "series": {
            "error_y": {
             "type": "data",
             "visible": true
            },
            "stacking": null
           },
           "seriesOptions": {},
           "showDataLabels": false,
           "sizemode": "diameter",
           "sortX": true,
           "sortY": true,
           "swappedAxes": false,
           "textFormat": "",
           "useAggregationsUi": true,
           "valuesOptions": {},
           "version": 2,
           "xAxis": {
            "labels": {
             "enabled": true
            },
            "type": "-"
           },
           "yAxis": [
            {
             "type": "-"
            },
            {
             "opposite": true,
             "type": "-"
            }
           ]
          }
         }
        ]
       },
       "datasetPreviewNameToCmdIdMap": {},
       "diffDeletes": [],
       "diffInserts": [],
       "displayType": "redashChart",
       "error": null,
       "errorDetails": null,
       "errorSummary": null,
       "errorTraceType": null,
       "finishTime": 0,
       "globalVars": {},
       "guid": "",
       "height": "auto",
       "hideCommandCode": false,
       "hideCommandResult": false,
       "iPythonMetadata": null,
       "inputWidgets": {},
       "isLockedInExamMode": false,
       "latestUser": "a user",
       "latestUserId": null,
       "listResultMetadata": null,
       "metadata": {},
       "nuid": "ca88bfd0-f725-430d-99d4-f80d176c4234",
       "origId": 0,
       "parentHierarchy": [],
       "pivotAggregation": null,
       "pivotColumns": null,
       "position": 19.5,
       "resultDbfsErrorMessage": null,
       "resultDbfsStatus": "INLINED_IN_TREE",
       "results": null,
       "showCommandTitle": false,
       "startTime": 0,
       "state": "input",
       "streamStates": {},
       "subcommandOptions": {
        "queryPlan": {
         "groups": [
          {
           "column": "Age_BIN",
           "type": "column"
          }
         ],
         "selects": [
          {
           "alias": "Age_BIN",
           "args": [
            {
             "column": "Age",
             "type": "column"
            },
            {
             "number": 10,
             "type": "number"
            }
           ],
           "function": "BIN",
           "type": "function"
          },
          {
           "alias": "Age_BIN_LOWER_BOUND",
           "args": [
            {
             "column": "Age",
             "type": "column"
            },
            {
             "number": 10,
             "type": "number"
            }
           ],
           "function": "BIN_LOWER_BOUND",
           "type": "function"
          },
          {
           "alias": "Age_BIN_STEP",
           "args": [
            {
             "column": "Age",
             "type": "column"
            },
            {
             "number": 10,
             "type": "number"
            }
           ],
           "function": "BIN_STEP",
           "type": "function"
          },
          {
           "alias": "COUNT",
           "args": [
            {
             "column": "Age",
             "type": "column"
            }
           ],
           "function": "COUNT",
           "type": "function"
          }
         ]
        }
       },
       "submitTime": 0,
       "subtype": "tableResultSubCmd.visualization",
       "tableResultIndex": 0,
       "useConsistentColors": false,
       "version": "CommandV1",
       "width": "auto",
       "workflows": [],
       "xColumns": null,
       "yColumns": null
      }
     },
     "output_type": "display_data"
    }
   ],
   "source": [
    "# Histogram version\n",
    "titanic.select('Age').sample(False, 0.5).display()"
   ]
  },
  {
   "cell_type": "markdown",
   "metadata": {
    "application/vnd.databricks.v1+cell": {
     "cellMetadata": {},
     "inputWidgets": {},
     "nuid": "5a3714ce-f530-4b17-b74c-50f2f59e8122",
     "showTitle": false,
     "title": ""
    }
   },
   "source": [
    "### Step 3. Some feature engineering\n",
    "the goal of this step is to do necessary feature engineering. Note that currently, `pyspark.ml.feature` provides a few feature engineering tools such as:\n",
    "- stringindexer: for convert string labels into numerical labels (0, 1,...), ordered by label frequencies\n",
    "- one-hot-encoder: mapping a column of category indices to a column of binary vectors.\n",
    "- vector assembler: merges multiple columns into one vector columns needed for most algorithms\n",
    "\n",
    "here we will focus on\n",
    "- dealing with missing values\n",
    "- creating new columns\n",
    "- converting data types"
   ]
  },
  {
   "cell_type": "markdown",
   "metadata": {
    "application/vnd.databricks.v1+cell": {
     "cellMetadata": {},
     "inputWidgets": {},
     "nuid": "e203135d-dd46-4eea-9997-a0958b9e7ea4",
     "showTitle": false,
     "title": ""
    }
   },
   "source": [
    "7\\. Create a new data frame `titanic_cast` that \n",
    "- consists of only the features and label (`survived`) columns that are plausible and will be used. \n",
    "- converts all numerical columns into double type. The reason we convert all numeric types to doubles is that it seems that PySpark sometimes (in earlier Spark versions) does not work well with other numerical types. \n",
    "\n",
    "Then show the first 10 rows and verify the schema."
   ]
  },
  {
   "cell_type": "code",
   "execution_count": 0,
   "metadata": {
    "application/vnd.databricks.v1+cell": {
     "cellMetadata": {
      "byteLimit": 2048000,
      "rowLimit": 10000
     },
     "inputWidgets": {},
     "nuid": "0fcd3efa-b149-47d6-9bfe-9910f1197b2c",
     "showTitle": false,
     "title": ""
    }
   },
   "outputs": [
    {
     "output_type": "display_data",
     "data": {
      "text/html": [
       "<style scoped>\n",
       "  .table-result-container {\n",
       "    max-height: 300px;\n",
       "    overflow: auto;\n",
       "  }\n",
       "  table, th, td {\n",
       "    border: 1px solid black;\n",
       "    border-collapse: collapse;\n",
       "  }\n",
       "  th, td {\n",
       "    padding: 5px;\n",
       "  }\n",
       "  th {\n",
       "    text-align: left;\n",
       "  }\n",
       "</style><div class='table-result-container'><table class='table-result'><thead style='background-color: white'><tr><th>Survived</th><th>Pclass</th><th>Sex</th><th>Age</th><th>SibSp</th><th>Parch</th><th>Fare</th><th>Cabin</th><th>Embarked</th></tr></thead><tbody><tr><td>0</td><td>3.0</td><td>male</td><td>22.0</td><td>1.0</td><td>0.0</td><td>7.25</td><td>null</td><td>S</td></tr><tr><td>1</td><td>1.0</td><td>female</td><td>38.0</td><td>1.0</td><td>0.0</td><td>71.2833</td><td>C85</td><td>C</td></tr><tr><td>1</td><td>3.0</td><td>female</td><td>26.0</td><td>0.0</td><td>0.0</td><td>7.925</td><td>null</td><td>S</td></tr><tr><td>1</td><td>1.0</td><td>female</td><td>35.0</td><td>1.0</td><td>0.0</td><td>53.1</td><td>C123</td><td>S</td></tr><tr><td>0</td><td>3.0</td><td>male</td><td>35.0</td><td>0.0</td><td>0.0</td><td>8.05</td><td>null</td><td>S</td></tr><tr><td>0</td><td>3.0</td><td>male</td><td>null</td><td>0.0</td><td>0.0</td><td>8.4583</td><td>null</td><td>Q</td></tr><tr><td>0</td><td>1.0</td><td>male</td><td>54.0</td><td>0.0</td><td>0.0</td><td>51.8625</td><td>E46</td><td>S</td></tr><tr><td>0</td><td>3.0</td><td>male</td><td>2.0</td><td>3.0</td><td>1.0</td><td>21.075</td><td>null</td><td>S</td></tr><tr><td>1</td><td>3.0</td><td>female</td><td>27.0</td><td>0.0</td><td>2.0</td><td>11.1333</td><td>null</td><td>S</td></tr><tr><td>1</td><td>2.0</td><td>female</td><td>14.0</td><td>1.0</td><td>0.0</td><td>30.0708</td><td>null</td><td>C</td></tr></tbody></table></div>"
      ]
     },
     "metadata": {
      "application/vnd.databricks.v1+output": {
       "addedWidgets": {},
       "aggData": [],
       "aggError": "",
       "aggOverflow": false,
       "aggSchema": [],
       "aggSeriesLimitReached": false,
       "aggType": "",
       "arguments": {},
       "columnCustomDisplayInfos": {},
       "data": [
        [
         0,
         3.0,
         "male",
         22.0,
         1.0,
         0.0,
         7.25,
         null,
         "S"
        ],
        [
         1,
         1.0,
         "female",
         38.0,
         1.0,
         0.0,
         71.2833,
         "C85",
         "C"
        ],
        [
         1,
         3.0,
         "female",
         26.0,
         0.0,
         0.0,
         7.925,
         null,
         "S"
        ],
        [
         1,
         1.0,
         "female",
         35.0,
         1.0,
         0.0,
         53.1,
         "C123",
         "S"
        ],
        [
         0,
         3.0,
         "male",
         35.0,
         0.0,
         0.0,
         8.05,
         null,
         "S"
        ],
        [
         0,
         3.0,
         "male",
         null,
         0.0,
         0.0,
         8.4583,
         null,
         "Q"
        ],
        [
         0,
         1.0,
         "male",
         54.0,
         0.0,
         0.0,
         51.8625,
         "E46",
         "S"
        ],
        [
         0,
         3.0,
         "male",
         2.0,
         3.0,
         1.0,
         21.075,
         null,
         "S"
        ],
        [
         1,
         3.0,
         "female",
         27.0,
         0.0,
         2.0,
         11.1333,
         null,
         "S"
        ],
        [
         1,
         2.0,
         "female",
         14.0,
         1.0,
         0.0,
         30.0708,
         null,
         "C"
        ]
       ],
       "datasetInfos": [],
       "dbfsResultPath": null,
       "isJsonSchema": true,
       "metadata": {},
       "overflow": false,
       "plotOptions": {
        "customPlotOptions": {},
        "displayType": "table",
        "pivotAggregation": null,
        "pivotColumns": null,
        "xColumns": null,
        "yColumns": null
       },
       "removedWidgets": [],
       "schema": [
        {
         "metadata": "{}",
         "name": "Survived",
         "type": "\"integer\""
        },
        {
         "metadata": "{}",
         "name": "Pclass",
         "type": "\"double\""
        },
        {
         "metadata": "{}",
         "name": "Sex",
         "type": "\"string\""
        },
        {
         "metadata": "{}",
         "name": "Age",
         "type": "\"double\""
        },
        {
         "metadata": "{}",
         "name": "SibSp",
         "type": "\"double\""
        },
        {
         "metadata": "{}",
         "name": "Parch",
         "type": "\"double\""
        },
        {
         "metadata": "{}",
         "name": "Fare",
         "type": "\"double\""
        },
        {
         "metadata": "{}",
         "name": "Cabin",
         "type": "\"string\""
        },
        {
         "metadata": "{}",
         "name": "Embarked",
         "type": "\"string\""
        }
       ],
       "type": "table"
      }
     },
     "output_type": "display_data"
    }
   ],
   "source": [
    "from pyspark.sql.functions import split, length, when, expr, size, regexp_replace\n",
    "from pyspark.sql.types import DoubleType\n",
    "titanic_cast = titanic.drop(*['PassengerId','Name','Ticket']).withColumn(\"Pclass\", titanic.Pclass.cast(DoubleType())).withColumn(\"SibSp\", titanic.SibSp.cast(DoubleType())).withColumn(\"Parch\", titanic.Parch.cast(DoubleType()))\n",
    "titanic_cast.limit(10).display()"
   ]
  },
  {
   "cell_type": "code",
   "execution_count": 0,
   "metadata": {
    "application/vnd.databricks.v1+cell": {
     "cellMetadata": {
      "byteLimit": 2048000,
      "rowLimit": 10000
     },
     "inputWidgets": {},
     "nuid": "467e1e95-3049-4487-ad30-2e7d6048ff0e",
     "showTitle": false,
     "title": ""
    }
   },
   "outputs": [
    {
     "output_type": "stream",
     "name": "stdout",
     "output_type": "stream",
     "text": [
      "root\n |-- Survived: integer (nullable = true)\n |-- Pclass: double (nullable = true)\n |-- Sex: string (nullable = true)\n |-- Age: double (nullable = true)\n |-- SibSp: double (nullable = true)\n |-- Parch: double (nullable = true)\n |-- Fare: double (nullable = true)\n |-- Cabin: string (nullable = true)\n |-- Embarked: string (nullable = true)\n\n"
     ]
    }
   ],
   "source": [
    "titanic_cast.printSchema()"
   ]
  },
  {
   "cell_type": "markdown",
   "metadata": {
    "application/vnd.databricks.v1+cell": {
     "cellMetadata": {},
     "inputWidgets": {},
     "nuid": "c10a8de8-6594-43d5-bb00-2018fc1dd726",
     "showTitle": false,
     "title": ""
    }
   },
   "source": [
    "8\\. From the summary statistics, we notice that there are missing values in the `Age` and `Embarked` columns. One way of dealing with this is to drop rows with missing values. Alternatively, we may use a mean replacement strategy. \n",
    "\n",
    "Create a new dataframe `titanic_final` after you\n",
    "\n",
    "- replace the null values in the `Age` column with the mean age of `29.69911764705882`. \n",
    "- create a new binary indicator column **AgeNA** to denote whether the `Age` value was imputed (**hint**: you may use isNull() function from pyspark.sql.functions or the isNull() column method). This column needs to be a double type. (The reason we include this indicator is to allow for the case where missing age carries a special meaning, thus AgeNA could be potent predictor).\n",
    "- drop the rows with missing values in the `Embarked` column"
   ]
  },
  {
   "cell_type": "code",
   "execution_count": 0,
   "metadata": {
    "application/vnd.databricks.v1+cell": {
     "cellMetadata": {
      "byteLimit": 2048000,
      "rowLimit": 10000
     },
     "inputWidgets": {},
     "nuid": "301006e1-e67e-4ede-b1ea-f6fb20b5d515",
     "showTitle": false,
     "title": ""
    }
   },
   "outputs": [],
   "source": [
    "from pyspark.sql.functions import when, mean\n",
    "titanic_final = titanic_cast.withColumn(\"AgeNA\", when(titanic_cast.Age.isNull() == True, 1).otherwise(0)).na.fill(\"Unknown\", subset=['Cabin']).na.fill(titanic_cast.select(mean('Age')).first()[0], subset=['Age']).dropna(subset=['Embarked'])"
   ]
  },
  {
   "cell_type": "code",
   "execution_count": 0,
   "metadata": {
    "application/vnd.databricks.v1+cell": {
     "cellMetadata": {
      "byteLimit": 2048000,
      "rowLimit": 10000
     },
     "inputWidgets": {},
     "nuid": "b995659b-ce7d-4a14-88b2-71ae26d879ba",
     "showTitle": false,
     "title": ""
    }
   },
   "outputs": [
    {
     "output_type": "display_data",
     "data": {
      "text/html": [
       "<style scoped>\n",
       "  .table-result-container {\n",
       "    max-height: 300px;\n",
       "    overflow: auto;\n",
       "  }\n",
       "  table, th, td {\n",
       "    border: 1px solid black;\n",
       "    border-collapse: collapse;\n",
       "  }\n",
       "  th, td {\n",
       "    padding: 5px;\n",
       "  }\n",
       "  th {\n",
       "    text-align: left;\n",
       "  }\n",
       "</style><div class='table-result-container'><table class='table-result'><thead style='background-color: white'><tr><th>Survived</th><th>Pclass</th><th>Sex</th><th>Age</th><th>SibSp</th><th>Parch</th><th>Fare</th><th>Cabin</th><th>Embarked</th><th>AgeNA</th></tr></thead><tbody><tr><td>0</td><td>3.0</td><td>male</td><td>22.0</td><td>1.0</td><td>0.0</td><td>7.25</td><td>Unknown</td><td>S</td><td>0</td></tr><tr><td>1</td><td>1.0</td><td>female</td><td>38.0</td><td>1.0</td><td>0.0</td><td>71.2833</td><td>C85</td><td>C</td><td>0</td></tr><tr><td>1</td><td>3.0</td><td>female</td><td>26.0</td><td>0.0</td><td>0.0</td><td>7.925</td><td>Unknown</td><td>S</td><td>0</td></tr><tr><td>1</td><td>1.0</td><td>female</td><td>35.0</td><td>1.0</td><td>0.0</td><td>53.1</td><td>C123</td><td>S</td><td>0</td></tr><tr><td>0</td><td>3.0</td><td>male</td><td>35.0</td><td>0.0</td><td>0.0</td><td>8.05</td><td>Unknown</td><td>S</td><td>0</td></tr><tr><td>0</td><td>3.0</td><td>male</td><td>29.69911764705882</td><td>0.0</td><td>0.0</td><td>8.4583</td><td>Unknown</td><td>Q</td><td>1</td></tr><tr><td>0</td><td>1.0</td><td>male</td><td>54.0</td><td>0.0</td><td>0.0</td><td>51.8625</td><td>E46</td><td>S</td><td>0</td></tr><tr><td>0</td><td>3.0</td><td>male</td><td>2.0</td><td>3.0</td><td>1.0</td><td>21.075</td><td>Unknown</td><td>S</td><td>0</td></tr><tr><td>1</td><td>3.0</td><td>female</td><td>27.0</td><td>0.0</td><td>2.0</td><td>11.1333</td><td>Unknown</td><td>S</td><td>0</td></tr><tr><td>1</td><td>2.0</td><td>female</td><td>14.0</td><td>1.0</td><td>0.0</td><td>30.0708</td><td>Unknown</td><td>C</td><td>0</td></tr></tbody></table></div>"
      ]
     },
     "metadata": {
      "application/vnd.databricks.v1+output": {
       "addedWidgets": {},
       "aggData": [],
       "aggError": "",
       "aggOverflow": false,
       "aggSchema": [],
       "aggSeriesLimitReached": false,
       "aggType": "",
       "arguments": {},
       "columnCustomDisplayInfos": {},
       "data": [
        [
         0,
         3.0,
         "male",
         22.0,
         1.0,
         0.0,
         7.25,
         "Unknown",
         "S",
         0
        ],
        [
         1,
         1.0,
         "female",
         38.0,
         1.0,
         0.0,
         71.2833,
         "C85",
         "C",
         0
        ],
        [
         1,
         3.0,
         "female",
         26.0,
         0.0,
         0.0,
         7.925,
         "Unknown",
         "S",
         0
        ],
        [
         1,
         1.0,
         "female",
         35.0,
         1.0,
         0.0,
         53.1,
         "C123",
         "S",
         0
        ],
        [
         0,
         3.0,
         "male",
         35.0,
         0.0,
         0.0,
         8.05,
         "Unknown",
         "S",
         0
        ],
        [
         0,
         3.0,
         "male",
         29.69911764705882,
         0.0,
         0.0,
         8.4583,
         "Unknown",
         "Q",
         1
        ],
        [
         0,
         1.0,
         "male",
         54.0,
         0.0,
         0.0,
         51.8625,
         "E46",
         "S",
         0
        ],
        [
         0,
         3.0,
         "male",
         2.0,
         3.0,
         1.0,
         21.075,
         "Unknown",
         "S",
         0
        ],
        [
         1,
         3.0,
         "female",
         27.0,
         0.0,
         2.0,
         11.1333,
         "Unknown",
         "S",
         0
        ],
        [
         1,
         2.0,
         "female",
         14.0,
         1.0,
         0.0,
         30.0708,
         "Unknown",
         "C",
         0
        ]
       ],
       "datasetInfos": [],
       "dbfsResultPath": null,
       "isJsonSchema": true,
       "metadata": {},
       "overflow": false,
       "plotOptions": {
        "customPlotOptions": {},
        "displayType": "table",
        "pivotAggregation": null,
        "pivotColumns": null,
        "xColumns": null,
        "yColumns": null
       },
       "removedWidgets": [],
       "schema": [
        {
         "metadata": "{}",
         "name": "Survived",
         "type": "\"integer\""
        },
        {
         "metadata": "{}",
         "name": "Pclass",
         "type": "\"double\""
        },
        {
         "metadata": "{}",
         "name": "Sex",
         "type": "\"string\""
        },
        {
         "metadata": "{}",
         "name": "Age",
         "type": "\"double\""
        },
        {
         "metadata": "{}",
         "name": "SibSp",
         "type": "\"double\""
        },
        {
         "metadata": "{}",
         "name": "Parch",
         "type": "\"double\""
        },
        {
         "metadata": "{}",
         "name": "Fare",
         "type": "\"double\""
        },
        {
         "metadata": "{}",
         "name": "Cabin",
         "type": "\"string\""
        },
        {
         "metadata": "{}",
         "name": "Embarked",
         "type": "\"string\""
        },
        {
         "metadata": "{}",
         "name": "AgeNA",
         "type": "\"integer\""
        }
       ],
       "type": "table"
      }
     },
     "output_type": "display_data"
    }
   ],
   "source": [
    "titanic_final.limit(10).display()"
   ]
  },
  {
   "cell_type": "markdown",
   "metadata": {
    "application/vnd.databricks.v1+cell": {
     "cellMetadata": {},
     "inputWidgets": {},
     "nuid": "4fa9dfb9-bda8-4921-a05c-1ed2db67bf17",
     "showTitle": false,
     "title": ""
    }
   },
   "source": [
    "9\\. Verify the new DataFrame by printing its schema and descriptive statistics (to ascertain there are no missing values)."
   ]
  },
  {
   "cell_type": "code",
   "execution_count": 0,
   "metadata": {
    "application/vnd.databricks.v1+cell": {
     "cellMetadata": {
      "byteLimit": 2048000,
      "rowLimit": 10000
     },
     "inputWidgets": {},
     "nuid": "ff00bcfd-1858-45c3-8ae1-1d25025d90a3",
     "showTitle": false,
     "title": ""
    }
   },
   "outputs": [
    {
     "output_type": "stream",
     "name": "stdout",
     "output_type": "stream",
     "text": [
      "root\n |-- Survived: integer (nullable = true)\n |-- Pclass: double (nullable = true)\n |-- Sex: string (nullable = true)\n |-- Age: double (nullable = false)\n |-- SibSp: double (nullable = true)\n |-- Parch: double (nullable = true)\n |-- Fare: double (nullable = true)\n |-- Cabin: string (nullable = false)\n |-- Embarked: string (nullable = true)\n |-- AgeNA: integer (nullable = false)\n\n"
     ]
    }
   ],
   "source": [
    "titanic_final.printSchema()"
   ]
  },
  {
   "cell_type": "code",
   "execution_count": 0,
   "metadata": {
    "application/vnd.databricks.v1+cell": {
     "cellMetadata": {
      "byteLimit": 2048000,
      "rowLimit": 10000
     },
     "inputWidgets": {},
     "nuid": "0b9f11ee-2564-4855-bcb1-2e2ec6e63a36",
     "showTitle": false,
     "title": ""
    }
   },
   "outputs": [
    {
     "output_type": "display_data",
     "data": {
      "text/html": [
       "<style scoped>\n",
       "  .table-result-container {\n",
       "    max-height: 300px;\n",
       "    overflow: auto;\n",
       "  }\n",
       "  table, th, td {\n",
       "    border: 1px solid black;\n",
       "    border-collapse: collapse;\n",
       "  }\n",
       "  th, td {\n",
       "    padding: 5px;\n",
       "  }\n",
       "  th {\n",
       "    text-align: left;\n",
       "  }\n",
       "</style><div class='table-result-container'><table class='table-result'><thead style='background-color: white'><tr><th>summary</th><th>Survived</th><th>Pclass</th><th>Sex</th><th>Age</th><th>SibSp</th><th>Parch</th><th>Fare</th><th>Cabin</th><th>Embarked</th><th>AgeNA</th></tr></thead><tbody><tr><td>count</td><td>889</td><td>889</td><td>889</td><td>889</td><td>889</td><td>889</td><td>889</td><td>889</td><td>889</td><td>889</td></tr><tr><td>mean</td><td>0.38245219347581555</td><td>2.3115860517435323</td><td>null</td><td>29.653446370674192</td><td>0.5241844769403825</td><td>0.38245219347581555</td><td>32.09668087739029</td><td>null</td><td>null</td><td>0.19910011248593926</td></tr><tr><td>stddev</td><td>0.48625968831477334</td><td>0.8346997785705753</td><td>null</td><td>12.968366309252314</td><td>1.103704875596923</td><td>0.8067607445174785</td><td>49.69750431670795</td><td>null</td><td>null</td><td>0.3995482811002537</td></tr><tr><td>min</td><td>0</td><td>1.0</td><td>female</td><td>0.42</td><td>0.0</td><td>0.0</td><td>0.0</td><td>A10</td><td>C</td><td>0</td></tr><tr><td>max</td><td>1</td><td>3.0</td><td>male</td><td>80.0</td><td>8.0</td><td>6.0</td><td>512.3292</td><td>Unknown</td><td>S</td><td>1</td></tr></tbody></table></div>"
      ]
     },
     "metadata": {
      "application/vnd.databricks.v1+output": {
       "addedWidgets": {},
       "aggData": [],
       "aggError": "",
       "aggOverflow": false,
       "aggSchema": [],
       "aggSeriesLimitReached": false,
       "aggType": "",
       "arguments": {},
       "columnCustomDisplayInfos": {},
       "data": [
        [
         "count",
         "889",
         "889",
         "889",
         "889",
         "889",
         "889",
         "889",
         "889",
         "889",
         "889"
        ],
        [
         "mean",
         "0.38245219347581555",
         "2.3115860517435323",
         null,
         "29.653446370674192",
         "0.5241844769403825",
         "0.38245219347581555",
         "32.09668087739029",
         null,
         null,
         "0.19910011248593926"
        ],
        [
         "stddev",
         "0.48625968831477334",
         "0.8346997785705753",
         null,
         "12.968366309252314",
         "1.103704875596923",
         "0.8067607445174785",
         "49.69750431670795",
         null,
         null,
         "0.3995482811002537"
        ],
        [
         "min",
         "0",
         "1.0",
         "female",
         "0.42",
         "0.0",
         "0.0",
         "0.0",
         "A10",
         "C",
         "0"
        ],
        [
         "max",
         "1",
         "3.0",
         "male",
         "80.0",
         "8.0",
         "6.0",
         "512.3292",
         "Unknown",
         "S",
         "1"
        ]
       ],
       "datasetInfos": [],
       "dbfsResultPath": null,
       "isJsonSchema": true,
       "metadata": {},
       "overflow": false,
       "plotOptions": {
        "customPlotOptions": {},
        "displayType": "table",
        "pivotAggregation": null,
        "pivotColumns": null,
        "xColumns": null,
        "yColumns": null
       },
       "removedWidgets": [],
       "schema": [
        {
         "metadata": "{}",
         "name": "summary",
         "type": "\"string\""
        },
        {
         "metadata": "{}",
         "name": "Survived",
         "type": "\"string\""
        },
        {
         "metadata": "{}",
         "name": "Pclass",
         "type": "\"string\""
        },
        {
         "metadata": "{}",
         "name": "Sex",
         "type": "\"string\""
        },
        {
         "metadata": "{}",
         "name": "Age",
         "type": "\"string\""
        },
        {
         "metadata": "{}",
         "name": "SibSp",
         "type": "\"string\""
        },
        {
         "metadata": "{}",
         "name": "Parch",
         "type": "\"string\""
        },
        {
         "metadata": "{}",
         "name": "Fare",
         "type": "\"string\""
        },
        {
         "metadata": "{}",
         "name": "Cabin",
         "type": "\"string\""
        },
        {
         "metadata": "{}",
         "name": "Embarked",
         "type": "\"string\""
        },
        {
         "metadata": "{}",
         "name": "AgeNA",
         "type": "\"string\""
        }
       ],
       "type": "table"
      }
     },
     "output_type": "display_data"
    }
   ],
   "source": [
    "titanic_final.describe().display()"
   ]
  },
  {
   "cell_type": "code",
   "execution_count": 0,
   "metadata": {
    "application/vnd.databricks.v1+cell": {
     "cellMetadata": {
      "byteLimit": 2048000,
      "rowLimit": 10000
     },
     "inputWidgets": {},
     "nuid": "0f9996e9-cc69-49d2-a730-71619165b32d",
     "showTitle": false,
     "title": ""
    }
   },
   "outputs": [
    {
     "output_type": "display_data",
     "data": {
      "text/html": [
       "<style scoped>\n",
       "  .table-result-container {\n",
       "    max-height: 300px;\n",
       "    overflow: auto;\n",
       "  }\n",
       "  table, th, td {\n",
       "    border: 1px solid black;\n",
       "    border-collapse: collapse;\n",
       "  }\n",
       "  th, td {\n",
       "    padding: 5px;\n",
       "  }\n",
       "  th {\n",
       "    text-align: left;\n",
       "  }\n",
       "</style><div class='table-result-container'><table class='table-result'><thead style='background-color: white'><tr><th>Survived</th><th>Pclass</th><th>Sex</th><th>Age</th><th>SibSp</th><th>Parch</th><th>Fare</th><th>Cabin</th><th>Embarked</th><th>AgeNA</th></tr></thead><tbody><tr><td>0</td><td>0</td><td>0</td><td>0</td><td>0</td><td>0</td><td>0</td><td>0</td><td>0</td><td>0</td></tr></tbody></table></div>"
      ]
     },
     "metadata": {
      "application/vnd.databricks.v1+output": {
       "addedWidgets": {},
       "aggData": [],
       "aggError": "",
       "aggOverflow": false,
       "aggSchema": [],
       "aggSeriesLimitReached": false,
       "aggType": "",
       "arguments": {},
       "columnCustomDisplayInfos": {},
       "data": [
        [
         0,
         0,
         0,
         0,
         0,
         0,
         0,
         0,
         0,
         0
        ]
       ],
       "datasetInfos": [],
       "dbfsResultPath": null,
       "isJsonSchema": true,
       "metadata": {},
       "overflow": false,
       "plotOptions": {
        "customPlotOptions": {},
        "displayType": "table",
        "pivotAggregation": null,
        "pivotColumns": null,
        "xColumns": null,
        "yColumns": null
       },
       "removedWidgets": [],
       "schema": [
        {
         "metadata": "{}",
         "name": "Survived",
         "type": "\"long\""
        },
        {
         "metadata": "{}",
         "name": "Pclass",
         "type": "\"long\""
        },
        {
         "metadata": "{}",
         "name": "Sex",
         "type": "\"long\""
        },
        {
         "metadata": "{}",
         "name": "Age",
         "type": "\"long\""
        },
        {
         "metadata": "{}",
         "name": "SibSp",
         "type": "\"long\""
        },
        {
         "metadata": "{}",
         "name": "Parch",
         "type": "\"long\""
        },
        {
         "metadata": "{}",
         "name": "Fare",
         "type": "\"long\""
        },
        {
         "metadata": "{}",
         "name": "Cabin",
         "type": "\"long\""
        },
        {
         "metadata": "{}",
         "name": "Embarked",
         "type": "\"long\""
        },
        {
         "metadata": "{}",
         "name": "AgeNA",
         "type": "\"long\""
        }
       ],
       "type": "table"
      }
     },
     "output_type": "display_data"
    }
   ],
   "source": [
    "missing_data = titanic_final.select([count(when(col(c).isNull(), c)).alias(c) for c in titanic_final.columns])\n",
    "missing_data.display()"
   ]
  },
  {
   "cell_type": "markdown",
   "metadata": {
    "application/vnd.databricks.v1+cell": {
     "cellMetadata": {},
     "inputWidgets": {},
     "nuid": "7ba3847d-5a09-449f-8cfa-ad466975ea70",
     "showTitle": false,
     "title": ""
    }
   },
   "source": [
    "### Step 4: Indexers and Encoders for string/categorical columns (for use with Pipeline)\n",
    "\n",
    "String columns cannot be directly in with some of the models such as LogisticRegression. Neither are categorical columns. Our strategy is to convert string and categorical variables into a series of binary dummies. Fortunately, these steps are already provided as part of pyspark.ml.features. \n",
    "\n",
    "To convert indexed categorical values into a vector of binary indicators, we can leverage `OneHotEncoder`\n",
    "\n",
    "Finally, we need to assemble a vector column with all the numerical features. This is achieved by `VectorAssembler`\n",
    "\n",
    "\n",
    "Click on each below to familiar with them if you need further information.\n",
    "- [StringIndexer](https://spark.apache.org/docs/latest/api/python/pyspark.ml.html#pyspark.ml.feature.StringIndexer): for convert string labels into numerical labels (0, 1,...), ordered by label frequencies\n",
    "- [OneHotEncoderEstimator](https://spark.apache.org/docs/latest/api/python/pyspark.ml.html#pyspark.ml.feature.OneHotEncoderEstimator): mapping a column of category indices to a column of binary vectors (the least frequent one will be dropped by default).\n",
    "- [VectorAssembler](https://spark.apache.org/docs/latest/api/python/pyspark.ml.html#pyspark.ml.feature.VectorAssembler): merges multiple columns into one vector columns needed for most algorithms"
   ]
  },
  {
   "cell_type": "markdown",
   "metadata": {
    "application/vnd.databricks.v1+cell": {
     "cellMetadata": {},
     "inputWidgets": {},
     "nuid": "5a628d5e-a25e-4dc4-b04c-968cdc60c40e",
     "showTitle": false,
     "title": ""
    }
   },
   "source": [
    "10\\. Create a string indexer `si` for indexing the string features (the resultant columns should have a postfix of `_idx`)\n",
    "\n",
    "Then create a OneHotEncoder `ohe` for indexed string columns (the resultant columns should have a postfix of `_ohe`):\n",
    "\n",
    "You should test them by appying these transformations and display the first 5 rows after each transformation."
   ]
  },
  {
   "cell_type": "code",
   "execution_count": 0,
   "metadata": {
    "application/vnd.databricks.v1+cell": {
     "cellMetadata": {
      "byteLimit": 2048000,
      "rowLimit": 10000
     },
     "inputWidgets": {},
     "nuid": "b673c5b3-40aa-4234-8edc-bb19b52b310e",
     "showTitle": false,
     "title": ""
    }
   },
   "outputs": [
    {
     "output_type": "stream",
     "name": "stdout",
     "output_type": "stream",
     "text": [
      "Out[68]: ['Survived',\n 'Pclass',\n 'Sex',\n 'Age',\n 'SibSp',\n 'Parch',\n 'Fare',\n 'Cabin',\n 'Embarked',\n 'AgeNA']"
     ]
    }
   ],
   "source": [
    "titanic_final.columns"
   ]
  },
  {
   "cell_type": "code",
   "execution_count": 0,
   "metadata": {
    "application/vnd.databricks.v1+cell": {
     "cellMetadata": {
      "byteLimit": 2048000,
      "rowLimit": 10000
     },
     "inputWidgets": {},
     "nuid": "a34cf03a-db5d-4f12-aa27-8df0fe699bb6",
     "showTitle": false,
     "title": ""
    }
   },
   "outputs": [],
   "source": [
    "from pyspark.ml.feature import StringIndexer\n",
    "si = StringIndexer(inputCols = ['Sex','Embarked'], outputCols=[\"Sex_idx\",\"Embarked_idx\"])"
   ]
  },
  {
   "cell_type": "code",
   "execution_count": 0,
   "metadata": {
    "application/vnd.databricks.v1+cell": {
     "cellMetadata": {
      "byteLimit": 2048000,
      "rowLimit": 10000
     },
     "inputWidgets": {},
     "nuid": "0f0a4428-f144-4773-a1e8-c0bcbdb10108",
     "showTitle": false,
     "title": ""
    }
   },
   "outputs": [
    {
     "output_type": "display_data",
     "data": {
      "text/html": [
       "<style scoped>\n",
       "  .table-result-container {\n",
       "    max-height: 300px;\n",
       "    overflow: auto;\n",
       "  }\n",
       "  table, th, td {\n",
       "    border: 1px solid black;\n",
       "    border-collapse: collapse;\n",
       "  }\n",
       "  th, td {\n",
       "    padding: 5px;\n",
       "  }\n",
       "  th {\n",
       "    text-align: left;\n",
       "  }\n",
       "</style><div class='table-result-container'><table class='table-result'><thead style='background-color: white'><tr><th>Survived</th><th>Pclass</th><th>Sex</th><th>Age</th><th>SibSp</th><th>Parch</th><th>Fare</th><th>Cabin</th><th>Embarked</th><th>AgeNA</th><th>Sex_idx</th><th>Embarked_idx</th></tr></thead><tbody><tr><td>0</td><td>3.0</td><td>male</td><td>22.0</td><td>1.0</td><td>0.0</td><td>7.25</td><td>Unknown</td><td>S</td><td>0</td><td>0.0</td><td>0.0</td></tr><tr><td>1</td><td>1.0</td><td>female</td><td>38.0</td><td>1.0</td><td>0.0</td><td>71.2833</td><td>C85</td><td>C</td><td>0</td><td>1.0</td><td>1.0</td></tr><tr><td>1</td><td>3.0</td><td>female</td><td>26.0</td><td>0.0</td><td>0.0</td><td>7.925</td><td>Unknown</td><td>S</td><td>0</td><td>1.0</td><td>0.0</td></tr><tr><td>1</td><td>1.0</td><td>female</td><td>35.0</td><td>1.0</td><td>0.0</td><td>53.1</td><td>C123</td><td>S</td><td>0</td><td>1.0</td><td>0.0</td></tr><tr><td>0</td><td>3.0</td><td>male</td><td>35.0</td><td>0.0</td><td>0.0</td><td>8.05</td><td>Unknown</td><td>S</td><td>0</td><td>0.0</td><td>0.0</td></tr></tbody></table></div>"
      ]
     },
     "metadata": {
      "application/vnd.databricks.v1+output": {
       "addedWidgets": {},
       "aggData": [],
       "aggError": "",
       "aggOverflow": false,
       "aggSchema": [],
       "aggSeriesLimitReached": false,
       "aggType": "",
       "arguments": {},
       "columnCustomDisplayInfos": {},
       "data": [
        [
         0,
         3.0,
         "male",
         22.0,
         1.0,
         0.0,
         7.25,
         "Unknown",
         "S",
         0,
         0.0,
         0.0
        ],
        [
         1,
         1.0,
         "female",
         38.0,
         1.0,
         0.0,
         71.2833,
         "C85",
         "C",
         0,
         1.0,
         1.0
        ],
        [
         1,
         3.0,
         "female",
         26.0,
         0.0,
         0.0,
         7.925,
         "Unknown",
         "S",
         0,
         1.0,
         0.0
        ],
        [
         1,
         1.0,
         "female",
         35.0,
         1.0,
         0.0,
         53.1,
         "C123",
         "S",
         0,
         1.0,
         0.0
        ],
        [
         0,
         3.0,
         "male",
         35.0,
         0.0,
         0.0,
         8.05,
         "Unknown",
         "S",
         0,
         0.0,
         0.0
        ]
       ],
       "datasetInfos": [],
       "dbfsResultPath": null,
       "isJsonSchema": true,
       "metadata": {},
       "overflow": false,
       "plotOptions": {
        "customPlotOptions": {},
        "displayType": "table",
        "pivotAggregation": null,
        "pivotColumns": null,
        "xColumns": null,
        "yColumns": null
       },
       "removedWidgets": [],
       "schema": [
        {
         "metadata": "{}",
         "name": "Survived",
         "type": "\"integer\""
        },
        {
         "metadata": "{}",
         "name": "Pclass",
         "type": "\"double\""
        },
        {
         "metadata": "{}",
         "name": "Sex",
         "type": "\"string\""
        },
        {
         "metadata": "{}",
         "name": "Age",
         "type": "\"double\""
        },
        {
         "metadata": "{}",
         "name": "SibSp",
         "type": "\"double\""
        },
        {
         "metadata": "{}",
         "name": "Parch",
         "type": "\"double\""
        },
        {
         "metadata": "{}",
         "name": "Fare",
         "type": "\"double\""
        },
        {
         "metadata": "{}",
         "name": "Cabin",
         "type": "\"string\""
        },
        {
         "metadata": "{}",
         "name": "Embarked",
         "type": "\"string\""
        },
        {
         "metadata": "{}",
         "name": "AgeNA",
         "type": "\"integer\""
        },
        {
         "metadata": "{\"ml_attr\":{\"vals\":[\"male\",\"female\"],\"type\":\"nominal\",\"name\":\"Sex_idx\"}}",
         "name": "Sex_idx",
         "type": "\"double\""
        },
        {
         "metadata": "{\"ml_attr\":{\"vals\":[\"S\",\"C\",\"Q\"],\"type\":\"nominal\",\"name\":\"Embarked_idx\"}}",
         "name": "Embarked_idx",
         "type": "\"double\""
        }
       ],
       "type": "table"
      }
     },
     "output_type": "display_data"
    }
   ],
   "source": [
    "train_si = si.fit(titanic_final).transform(titanic_final)\n",
    "train_si.limit(5).display()"
   ]
  },
  {
   "cell_type": "code",
   "execution_count": 0,
   "metadata": {
    "application/vnd.databricks.v1+cell": {
     "cellMetadata": {
      "byteLimit": 2048000,
      "rowLimit": 10000
     },
     "inputWidgets": {},
     "nuid": "c1e3dfdd-c57f-4e2e-a63c-90177249847b",
     "showTitle": false,
     "title": ""
    }
   },
   "outputs": [],
   "source": [
    "from pyspark.ml.feature import OneHotEncoder\n",
    "ohe = OneHotEncoder(inputCols = ['Sex_idx','Embarked_idx'], outputCols=[\"Sex_ohe\",\"Embarked_ohe\"])"
   ]
  },
  {
   "cell_type": "code",
   "execution_count": 0,
   "metadata": {
    "application/vnd.databricks.v1+cell": {
     "cellMetadata": {
      "byteLimit": 2048000,
      "rowLimit": 10000
     },
     "inputWidgets": {},
     "nuid": "bc438f00-5e1c-41f2-8b76-772f1cc23f30",
     "showTitle": false,
     "title": ""
    }
   },
   "outputs": [
    {
     "output_type": "display_data",
     "data": {
      "text/html": [
       "<style scoped>\n",
       "  .table-result-container {\n",
       "    max-height: 300px;\n",
       "    overflow: auto;\n",
       "  }\n",
       "  table, th, td {\n",
       "    border: 1px solid black;\n",
       "    border-collapse: collapse;\n",
       "  }\n",
       "  th, td {\n",
       "    padding: 5px;\n",
       "  }\n",
       "  th {\n",
       "    text-align: left;\n",
       "  }\n",
       "</style><div class='table-result-container'><table class='table-result'><thead style='background-color: white'><tr><th>Survived</th><th>Pclass</th><th>Sex</th><th>Age</th><th>SibSp</th><th>Parch</th><th>Fare</th><th>Cabin</th><th>Embarked</th><th>AgeNA</th><th>Sex_idx</th><th>Embarked_idx</th><th>Sex_ohe</th><th>Embarked_ohe</th></tr></thead><tbody><tr><td>0</td><td>3.0</td><td>male</td><td>22.0</td><td>1.0</td><td>0.0</td><td>7.25</td><td>Unknown</td><td>S</td><td>0</td><td>0.0</td><td>0.0</td><td>Map(indices -> List(0), length -> 1, values -> List(1.0), vectorType -> sparse)</td><td>Map(indices -> List(0), length -> 2, values -> List(1.0), vectorType -> sparse)</td></tr><tr><td>1</td><td>1.0</td><td>female</td><td>38.0</td><td>1.0</td><td>0.0</td><td>71.2833</td><td>C85</td><td>C</td><td>0</td><td>1.0</td><td>1.0</td><td>Map(indices -> List(), length -> 1, values -> List(), vectorType -> sparse)</td><td>Map(indices -> List(1), length -> 2, values -> List(1.0), vectorType -> sparse)</td></tr><tr><td>1</td><td>3.0</td><td>female</td><td>26.0</td><td>0.0</td><td>0.0</td><td>7.925</td><td>Unknown</td><td>S</td><td>0</td><td>1.0</td><td>0.0</td><td>Map(indices -> List(), length -> 1, values -> List(), vectorType -> sparse)</td><td>Map(indices -> List(0), length -> 2, values -> List(1.0), vectorType -> sparse)</td></tr><tr><td>1</td><td>1.0</td><td>female</td><td>35.0</td><td>1.0</td><td>0.0</td><td>53.1</td><td>C123</td><td>S</td><td>0</td><td>1.0</td><td>0.0</td><td>Map(indices -> List(), length -> 1, values -> List(), vectorType -> sparse)</td><td>Map(indices -> List(0), length -> 2, values -> List(1.0), vectorType -> sparse)</td></tr><tr><td>0</td><td>3.0</td><td>male</td><td>35.0</td><td>0.0</td><td>0.0</td><td>8.05</td><td>Unknown</td><td>S</td><td>0</td><td>0.0</td><td>0.0</td><td>Map(indices -> List(0), length -> 1, values -> List(1.0), vectorType -> sparse)</td><td>Map(indices -> List(0), length -> 2, values -> List(1.0), vectorType -> sparse)</td></tr></tbody></table></div>"
      ]
     },
     "metadata": {
      "application/vnd.databricks.v1+output": {
       "addedWidgets": {},
       "aggData": [],
       "aggError": "",
       "aggOverflow": false,
       "aggSchema": [],
       "aggSeriesLimitReached": false,
       "aggType": "",
       "arguments": {},
       "columnCustomDisplayInfos": {},
       "data": [
        [
         0,
         3.0,
         "male",
         22.0,
         1.0,
         0.0,
         7.25,
         "Unknown",
         "S",
         0,
         0.0,
         0.0,
         {
          "indices": [
           0
          ],
          "length": 1,
          "values": [
           1.0
          ],
          "vectorType": "sparse"
         },
         {
          "indices": [
           0
          ],
          "length": 2,
          "values": [
           1.0
          ],
          "vectorType": "sparse"
         }
        ],
        [
         1,
         1.0,
         "female",
         38.0,
         1.0,
         0.0,
         71.2833,
         "C85",
         "C",
         0,
         1.0,
         1.0,
         {
          "indices": [],
          "length": 1,
          "values": [],
          "vectorType": "sparse"
         },
         {
          "indices": [
           1
          ],
          "length": 2,
          "values": [
           1.0
          ],
          "vectorType": "sparse"
         }
        ],
        [
         1,
         3.0,
         "female",
         26.0,
         0.0,
         0.0,
         7.925,
         "Unknown",
         "S",
         0,
         1.0,
         0.0,
         {
          "indices": [],
          "length": 1,
          "values": [],
          "vectorType": "sparse"
         },
         {
          "indices": [
           0
          ],
          "length": 2,
          "values": [
           1.0
          ],
          "vectorType": "sparse"
         }
        ],
        [
         1,
         1.0,
         "female",
         35.0,
         1.0,
         0.0,
         53.1,
         "C123",
         "S",
         0,
         1.0,
         0.0,
         {
          "indices": [],
          "length": 1,
          "values": [],
          "vectorType": "sparse"
         },
         {
          "indices": [
           0
          ],
          "length": 2,
          "values": [
           1.0
          ],
          "vectorType": "sparse"
         }
        ],
        [
         0,
         3.0,
         "male",
         35.0,
         0.0,
         0.0,
         8.05,
         "Unknown",
         "S",
         0,
         0.0,
         0.0,
         {
          "indices": [
           0
          ],
          "length": 1,
          "values": [
           1.0
          ],
          "vectorType": "sparse"
         },
         {
          "indices": [
           0
          ],
          "length": 2,
          "values": [
           1.0
          ],
          "vectorType": "sparse"
         }
        ]
       ],
       "datasetInfos": [],
       "dbfsResultPath": null,
       "isJsonSchema": true,
       "metadata": {},
       "overflow": false,
       "plotOptions": {
        "customPlotOptions": {},
        "displayType": "table",
        "pivotAggregation": null,
        "pivotColumns": null,
        "xColumns": null,
        "yColumns": null
       },
       "removedWidgets": [],
       "schema": [
        {
         "metadata": "{}",
         "name": "Survived",
         "type": "\"integer\""
        },
        {
         "metadata": "{}",
         "name": "Pclass",
         "type": "\"double\""
        },
        {
         "metadata": "{}",
         "name": "Sex",
         "type": "\"string\""
        },
        {
         "metadata": "{}",
         "name": "Age",
         "type": "\"double\""
        },
        {
         "metadata": "{}",
         "name": "SibSp",
         "type": "\"double\""
        },
        {
         "metadata": "{}",
         "name": "Parch",
         "type": "\"double\""
        },
        {
         "metadata": "{}",
         "name": "Fare",
         "type": "\"double\""
        },
        {
         "metadata": "{}",
         "name": "Cabin",
         "type": "\"string\""
        },
        {
         "metadata": "{}",
         "name": "Embarked",
         "type": "\"string\""
        },
        {
         "metadata": "{}",
         "name": "AgeNA",
         "type": "\"integer\""
        },
        {
         "metadata": "{\"ml_attr\":{\"vals\":[\"male\",\"female\"],\"type\":\"nominal\",\"name\":\"Sex_idx\"}}",
         "name": "Sex_idx",
         "type": "\"double\""
        },
        {
         "metadata": "{\"ml_attr\":{\"vals\":[\"S\",\"C\",\"Q\"],\"type\":\"nominal\",\"name\":\"Embarked_idx\"}}",
         "name": "Embarked_idx",
         "type": "\"double\""
        },
        {
         "metadata": "{\"ml_attr\":{\"attrs\":{\"binary\":[{\"idx\":0,\"name\":\"male\"}]},\"num_attrs\":1}}",
         "name": "Sex_ohe",
         "type": "{\"type\":\"udt\",\"class\":\"org.apache.spark.ml.linalg.VectorUDT\",\"pyClass\":\"pyspark.ml.linalg.VectorUDT\",\"sqlType\":{\"type\":\"struct\",\"fields\":[{\"name\":\"type\",\"type\":\"byte\",\"nullable\":false,\"metadata\":{}},{\"name\":\"size\",\"type\":\"integer\",\"nullable\":true,\"metadata\":{}},{\"name\":\"indices\",\"type\":{\"type\":\"array\",\"elementType\":\"integer\",\"containsNull\":false},\"nullable\":true,\"metadata\":{}},{\"name\":\"values\",\"type\":{\"type\":\"array\",\"elementType\":\"double\",\"containsNull\":false},\"nullable\":true,\"metadata\":{}}]}}"
        },
        {
         "metadata": "{\"ml_attr\":{\"attrs\":{\"binary\":[{\"idx\":0,\"name\":\"S\"},{\"idx\":1,\"name\":\"C\"}]},\"num_attrs\":2}}",
         "name": "Embarked_ohe",
         "type": "{\"type\":\"udt\",\"class\":\"org.apache.spark.ml.linalg.VectorUDT\",\"pyClass\":\"pyspark.ml.linalg.VectorUDT\",\"sqlType\":{\"type\":\"struct\",\"fields\":[{\"name\":\"type\",\"type\":\"byte\",\"nullable\":false,\"metadata\":{}},{\"name\":\"size\",\"type\":\"integer\",\"nullable\":true,\"metadata\":{}},{\"name\":\"indices\",\"type\":{\"type\":\"array\",\"elementType\":\"integer\",\"containsNull\":false},\"nullable\":true,\"metadata\":{}},{\"name\":\"values\",\"type\":{\"type\":\"array\",\"elementType\":\"double\",\"containsNull\":false},\"nullable\":true,\"metadata\":{}}]}}"
        }
       ],
       "type": "table"
      }
     },
     "output_type": "display_data"
    }
   ],
   "source": [
    "train_ohe = ohe.fit(train_si).transform(train_si)\n",
    "train_ohe.limit(5).display()"
   ]
  },
  {
   "cell_type": "code",
   "execution_count": 0,
   "metadata": {
    "application/vnd.databricks.v1+cell": {
     "cellMetadata": {
      "byteLimit": 2048000,
      "rowLimit": 10000
     },
     "inputWidgets": {},
     "nuid": "5ed20074-e301-42a2-9e9f-d331636bef5f",
     "showTitle": false,
     "title": ""
    }
   },
   "outputs": [
    {
     "output_type": "stream",
     "name": "stdout",
     "output_type": "stream",
     "text": [
      "Out[73]: ['Survived',\n 'Pclass',\n 'Sex',\n 'Age',\n 'SibSp',\n 'Parch',\n 'Fare',\n 'Cabin',\n 'Embarked',\n 'AgeNA',\n 'Sex_idx',\n 'Embarked_idx',\n 'Sex_ohe',\n 'Embarked_ohe']"
     ]
    }
   ],
   "source": [
    "train_ohe.columns"
   ]
  },
  {
   "cell_type": "markdown",
   "metadata": {
    "application/vnd.databricks.v1+cell": {
     "cellMetadata": {},
     "inputWidgets": {},
     "nuid": "29bff98a-8817-4586-a8fa-26a042bd77ac",
     "showTitle": false,
     "title": ""
    }
   },
   "source": [
    "### Step 5: Assemble feature columns into a feature vector (for use with the pipeline)\n",
    "11\\. Assemble all features into one vector column, we shall the new column `features`\n",
    "\n",
    "- note that both `Age` and `AgeNA` should be included.\n",
    "- For `Sex` and `Embarked`, only include the output columns of OneHotEncoder for these columns."
   ]
  },
  {
   "cell_type": "code",
   "execution_count": 0,
   "metadata": {
    "application/vnd.databricks.v1+cell": {
     "cellMetadata": {
      "byteLimit": 2048000,
      "rowLimit": 10000
     },
     "inputWidgets": {},
     "nuid": "916b01fc-ee6a-4af5-9ee2-1ff6ef96aad0",
     "showTitle": false,
     "title": ""
    }
   },
   "outputs": [],
   "source": [
    "from pyspark.ml.feature import VectorAssembler\n",
    "featureCols = ['Age','AgeNA','Sex_ohe','Pclass','Fare','Sex_ohe','Embarked_ohe']"
   ]
  },
  {
   "cell_type": "code",
   "execution_count": 0,
   "metadata": {
    "application/vnd.databricks.v1+cell": {
     "cellMetadata": {
      "byteLimit": 2048000,
      "rowLimit": 10000
     },
     "inputWidgets": {},
     "nuid": "78ff077b-0fba-4e25-9972-4ce2b6a946b0",
     "showTitle": false,
     "title": ""
    }
   },
   "outputs": [],
   "source": [
    "va = VectorAssembler(inputCols=featureCols, outputCol=\"features\")"
   ]
  },
  {
   "cell_type": "code",
   "execution_count": 0,
   "metadata": {
    "application/vnd.databricks.v1+cell": {
     "cellMetadata": {
      "byteLimit": 2048000,
      "rowLimit": 10000
     },
     "inputWidgets": {},
     "nuid": "3be61930-b585-46e0-b347-249b4f9abf59",
     "showTitle": false,
     "title": ""
    }
   },
   "outputs": [
    {
     "output_type": "display_data",
     "data": {
      "text/html": [
       "<style scoped>\n",
       "  .table-result-container {\n",
       "    max-height: 300px;\n",
       "    overflow: auto;\n",
       "  }\n",
       "  table, th, td {\n",
       "    border: 1px solid black;\n",
       "    border-collapse: collapse;\n",
       "  }\n",
       "  th, td {\n",
       "    padding: 5px;\n",
       "  }\n",
       "  th {\n",
       "    text-align: left;\n",
       "  }\n",
       "</style><div class='table-result-container'><table class='table-result'><thead style='background-color: white'><tr><th>Survived</th><th>Pclass</th><th>Sex</th><th>Age</th><th>SibSp</th><th>Parch</th><th>Fare</th><th>Cabin</th><th>Embarked</th><th>AgeNA</th><th>Sex_idx</th><th>Embarked_idx</th><th>Sex_ohe</th><th>Embarked_ohe</th><th>features</th></tr></thead><tbody><tr><td>0</td><td>3.0</td><td>male</td><td>22.0</td><td>1.0</td><td>0.0</td><td>7.25</td><td>Unknown</td><td>S</td><td>0</td><td>0.0</td><td>0.0</td><td>Map(indices -> List(0), length -> 1, values -> List(1.0), vectorType -> sparse)</td><td>Map(indices -> List(0), length -> 2, values -> List(1.0), vectorType -> sparse)</td><td>Map(length -> 8, values -> List(22.0, 0.0, 1.0, 3.0, 7.25, 1.0, 1.0, 0.0), vectorType -> dense)</td></tr><tr><td>1</td><td>1.0</td><td>female</td><td>38.0</td><td>1.0</td><td>0.0</td><td>71.2833</td><td>C85</td><td>C</td><td>0</td><td>1.0</td><td>1.0</td><td>Map(indices -> List(), length -> 1, values -> List(), vectorType -> sparse)</td><td>Map(indices -> List(1), length -> 2, values -> List(1.0), vectorType -> sparse)</td><td>Map(indices -> List(0, 3, 4, 7), length -> 8, values -> List(38.0, 1.0, 71.2833, 1.0), vectorType -> sparse)</td></tr><tr><td>1</td><td>3.0</td><td>female</td><td>26.0</td><td>0.0</td><td>0.0</td><td>7.925</td><td>Unknown</td><td>S</td><td>0</td><td>1.0</td><td>0.0</td><td>Map(indices -> List(), length -> 1, values -> List(), vectorType -> sparse)</td><td>Map(indices -> List(0), length -> 2, values -> List(1.0), vectorType -> sparse)</td><td>Map(indices -> List(0, 3, 4, 6), length -> 8, values -> List(26.0, 3.0, 7.925, 1.0), vectorType -> sparse)</td></tr><tr><td>1</td><td>1.0</td><td>female</td><td>35.0</td><td>1.0</td><td>0.0</td><td>53.1</td><td>C123</td><td>S</td><td>0</td><td>1.0</td><td>0.0</td><td>Map(indices -> List(), length -> 1, values -> List(), vectorType -> sparse)</td><td>Map(indices -> List(0), length -> 2, values -> List(1.0), vectorType -> sparse)</td><td>Map(indices -> List(0, 3, 4, 6), length -> 8, values -> List(35.0, 1.0, 53.1, 1.0), vectorType -> sparse)</td></tr><tr><td>0</td><td>3.0</td><td>male</td><td>35.0</td><td>0.0</td><td>0.0</td><td>8.05</td><td>Unknown</td><td>S</td><td>0</td><td>0.0</td><td>0.0</td><td>Map(indices -> List(0), length -> 1, values -> List(1.0), vectorType -> sparse)</td><td>Map(indices -> List(0), length -> 2, values -> List(1.0), vectorType -> sparse)</td><td>Map(length -> 8, values -> List(35.0, 0.0, 1.0, 3.0, 8.05, 1.0, 1.0, 0.0), vectorType -> dense)</td></tr></tbody></table></div>"
      ]
     },
     "metadata": {
      "application/vnd.databricks.v1+output": {
       "addedWidgets": {},
       "aggData": [],
       "aggError": "",
       "aggOverflow": false,
       "aggSchema": [],
       "aggSeriesLimitReached": false,
       "aggType": "",
       "arguments": {},
       "columnCustomDisplayInfos": {},
       "data": [
        [
         0,
         3.0,
         "male",
         22.0,
         1.0,
         0.0,
         7.25,
         "Unknown",
         "S",
         0,
         0.0,
         0.0,
         {
          "indices": [
           0
          ],
          "length": 1,
          "values": [
           1.0
          ],
          "vectorType": "sparse"
         },
         {
          "indices": [
           0
          ],
          "length": 2,
          "values": [
           1.0
          ],
          "vectorType": "sparse"
         },
         {
          "length": 8,
          "values": [
           22.0,
           0.0,
           1.0,
           3.0,
           7.25,
           1.0,
           1.0,
           0.0
          ],
          "vectorType": "dense"
         }
        ],
        [
         1,
         1.0,
         "female",
         38.0,
         1.0,
         0.0,
         71.2833,
         "C85",
         "C",
         0,
         1.0,
         1.0,
         {
          "indices": [],
          "length": 1,
          "values": [],
          "vectorType": "sparse"
         },
         {
          "indices": [
           1
          ],
          "length": 2,
          "values": [
           1.0
          ],
          "vectorType": "sparse"
         },
         {
          "indices": [
           0,
           3,
           4,
           7
          ],
          "length": 8,
          "values": [
           38.0,
           1.0,
           71.2833,
           1.0
          ],
          "vectorType": "sparse"
         }
        ],
        [
         1,
         3.0,
         "female",
         26.0,
         0.0,
         0.0,
         7.925,
         "Unknown",
         "S",
         0,
         1.0,
         0.0,
         {
          "indices": [],
          "length": 1,
          "values": [],
          "vectorType": "sparse"
         },
         {
          "indices": [
           0
          ],
          "length": 2,
          "values": [
           1.0
          ],
          "vectorType": "sparse"
         },
         {
          "indices": [
           0,
           3,
           4,
           6
          ],
          "length": 8,
          "values": [
           26.0,
           3.0,
           7.925,
           1.0
          ],
          "vectorType": "sparse"
         }
        ],
        [
         1,
         1.0,
         "female",
         35.0,
         1.0,
         0.0,
         53.1,
         "C123",
         "S",
         0,
         1.0,
         0.0,
         {
          "indices": [],
          "length": 1,
          "values": [],
          "vectorType": "sparse"
         },
         {
          "indices": [
           0
          ],
          "length": 2,
          "values": [
           1.0
          ],
          "vectorType": "sparse"
         },
         {
          "indices": [
           0,
           3,
           4,
           6
          ],
          "length": 8,
          "values": [
           35.0,
           1.0,
           53.1,
           1.0
          ],
          "vectorType": "sparse"
         }
        ],
        [
         0,
         3.0,
         "male",
         35.0,
         0.0,
         0.0,
         8.05,
         "Unknown",
         "S",
         0,
         0.0,
         0.0,
         {
          "indices": [
           0
          ],
          "length": 1,
          "values": [
           1.0
          ],
          "vectorType": "sparse"
         },
         {
          "indices": [
           0
          ],
          "length": 2,
          "values": [
           1.0
          ],
          "vectorType": "sparse"
         },
         {
          "length": 8,
          "values": [
           35.0,
           0.0,
           1.0,
           3.0,
           8.05,
           1.0,
           1.0,
           0.0
          ],
          "vectorType": "dense"
         }
        ]
       ],
       "datasetInfos": [],
       "dbfsResultPath": null,
       "isJsonSchema": true,
       "metadata": {},
       "overflow": false,
       "plotOptions": {
        "customPlotOptions": {},
        "displayType": "table",
        "pivotAggregation": null,
        "pivotColumns": null,
        "xColumns": null,
        "yColumns": null
       },
       "removedWidgets": [],
       "schema": [
        {
         "metadata": "{}",
         "name": "Survived",
         "type": "\"integer\""
        },
        {
         "metadata": "{}",
         "name": "Pclass",
         "type": "\"double\""
        },
        {
         "metadata": "{}",
         "name": "Sex",
         "type": "\"string\""
        },
        {
         "metadata": "{}",
         "name": "Age",
         "type": "\"double\""
        },
        {
         "metadata": "{}",
         "name": "SibSp",
         "type": "\"double\""
        },
        {
         "metadata": "{}",
         "name": "Parch",
         "type": "\"double\""
        },
        {
         "metadata": "{}",
         "name": "Fare",
         "type": "\"double\""
        },
        {
         "metadata": "{}",
         "name": "Cabin",
         "type": "\"string\""
        },
        {
         "metadata": "{}",
         "name": "Embarked",
         "type": "\"string\""
        },
        {
         "metadata": "{}",
         "name": "AgeNA",
         "type": "\"integer\""
        },
        {
         "metadata": "{\"ml_attr\":{\"vals\":[\"male\",\"female\"],\"type\":\"nominal\",\"name\":\"Sex_idx\"}}",
         "name": "Sex_idx",
         "type": "\"double\""
        },
        {
         "metadata": "{\"ml_attr\":{\"vals\":[\"S\",\"C\",\"Q\"],\"type\":\"nominal\",\"name\":\"Embarked_idx\"}}",
         "name": "Embarked_idx",
         "type": "\"double\""
        },
        {
         "metadata": "{\"ml_attr\":{\"attrs\":{\"binary\":[{\"idx\":0,\"name\":\"male\"}]},\"num_attrs\":1}}",
         "name": "Sex_ohe",
         "type": "{\"type\":\"udt\",\"class\":\"org.apache.spark.ml.linalg.VectorUDT\",\"pyClass\":\"pyspark.ml.linalg.VectorUDT\",\"sqlType\":{\"type\":\"struct\",\"fields\":[{\"name\":\"type\",\"type\":\"byte\",\"nullable\":false,\"metadata\":{}},{\"name\":\"size\",\"type\":\"integer\",\"nullable\":true,\"metadata\":{}},{\"name\":\"indices\",\"type\":{\"type\":\"array\",\"elementType\":\"integer\",\"containsNull\":false},\"nullable\":true,\"metadata\":{}},{\"name\":\"values\",\"type\":{\"type\":\"array\",\"elementType\":\"double\",\"containsNull\":false},\"nullable\":true,\"metadata\":{}}]}}"
        },
        {
         "metadata": "{\"ml_attr\":{\"attrs\":{\"binary\":[{\"idx\":0,\"name\":\"S\"},{\"idx\":1,\"name\":\"C\"}]},\"num_attrs\":2}}",
         "name": "Embarked_ohe",
         "type": "{\"type\":\"udt\",\"class\":\"org.apache.spark.ml.linalg.VectorUDT\",\"pyClass\":\"pyspark.ml.linalg.VectorUDT\",\"sqlType\":{\"type\":\"struct\",\"fields\":[{\"name\":\"type\",\"type\":\"byte\",\"nullable\":false,\"metadata\":{}},{\"name\":\"size\",\"type\":\"integer\",\"nullable\":true,\"metadata\":{}},{\"name\":\"indices\",\"type\":{\"type\":\"array\",\"elementType\":\"integer\",\"containsNull\":false},\"nullable\":true,\"metadata\":{}},{\"name\":\"values\",\"type\":{\"type\":\"array\",\"elementType\":\"double\",\"containsNull\":false},\"nullable\":true,\"metadata\":{}}]}}"
        },
        {
         "metadata": "{\"ml_attr\":{\"attrs\":{\"numeric\":[{\"idx\":0,\"name\":\"Age\"},{\"idx\":1,\"name\":\"AgeNA\"},{\"idx\":3,\"name\":\"Pclass\"},{\"idx\":4,\"name\":\"Fare\"}],\"binary\":[{\"idx\":2,\"name\":\"Sex_ohe_male\"},{\"idx\":5,\"name\":\"Sex_ohe_male\"},{\"idx\":6,\"name\":\"Embarked_ohe_S\"},{\"idx\":7,\"name\":\"Embarked_ohe_C\"}]},\"num_attrs\":8}}",
         "name": "features",
         "type": "{\"type\":\"udt\",\"class\":\"org.apache.spark.ml.linalg.VectorUDT\",\"pyClass\":\"pyspark.ml.linalg.VectorUDT\",\"sqlType\":{\"type\":\"struct\",\"fields\":[{\"name\":\"type\",\"type\":\"byte\",\"nullable\":false,\"metadata\":{}},{\"name\":\"size\",\"type\":\"integer\",\"nullable\":true,\"metadata\":{}},{\"name\":\"indices\",\"type\":{\"type\":\"array\",\"elementType\":\"integer\",\"containsNull\":false},\"nullable\":true,\"metadata\":{}},{\"name\":\"values\",\"type\":{\"type\":\"array\",\"elementType\":\"double\",\"containsNull\":false},\"nullable\":true,\"metadata\":{}}]}}"
        }
       ],
       "type": "table"
      }
     },
     "output_type": "display_data"
    }
   ],
   "source": [
    "train_va = va.transform(train_ohe)\n",
    "train_va.limit(5).display()"
   ]
  },
  {
   "cell_type": "markdown",
   "metadata": {
    "application/vnd.databricks.v1+cell": {
     "cellMetadata": {},
     "inputWidgets": {},
     "nuid": "867755a3-b8ca-4532-9a29-ab9408095364",
     "showTitle": true,
     "title": ""
    }
   },
   "source": [
    "### Step 6: Create the LogisticRegression model (for use with the pipeline)\n",
    "- the documentation of LogisticRegression from pyspark.ml can be [found here](https://spark.apache.org/docs/latest/api/python/pyspark.ml.html#pyspark.ml.classification.LogisticRegression).\n",
    "\n",
    "12\\. Create the LogisticRegression estimator `lr`"
   ]
  },
  {
   "cell_type": "code",
   "execution_count": 0,
   "metadata": {
    "application/vnd.databricks.v1+cell": {
     "cellMetadata": {
      "byteLimit": 2048000,
      "rowLimit": 10000
     },
     "inputWidgets": {},
     "nuid": "7f1e8853-e566-41ed-b0e2-73cac8c7467d",
     "showTitle": false,
     "title": ""
    }
   },
   "outputs": [],
   "source": [
    "from pyspark.ml.classification import LogisticRegression\n",
    "lr = LogisticRegression(featuresCol = \"features\", labelCol=\"Survived\")"
   ]
  },
  {
   "cell_type": "markdown",
   "metadata": {
    "application/vnd.databricks.v1+cell": {
     "cellMetadata": {},
     "inputWidgets": {},
     "nuid": "a81f9989-caa6-457a-a5e0-870d6894b8d5",
     "showTitle": false,
     "title": ""
    }
   },
   "source": [
    "### Step 7. Define Pipeline \n",
    "13\\. put together the stages of the pipeline, with the last step being the logisistic regression"
   ]
  },
  {
   "cell_type": "code",
   "execution_count": 0,
   "metadata": {
    "application/vnd.databricks.v1+cell": {
     "cellMetadata": {
      "byteLimit": 2048000,
      "rowLimit": 10000
     },
     "inputWidgets": {},
     "nuid": "7e3fbfec-a7ad-44dd-9bb0-e22240e71ebc",
     "showTitle": false,
     "title": ""
    }
   },
   "outputs": [],
   "source": [
    "from pyspark.ml import Pipeline\n",
    "pl = Pipeline(stages = [si, ohe, va, lr])"
   ]
  },
  {
   "cell_type": "markdown",
   "metadata": {
    "application/vnd.databricks.v1+cell": {
     "cellMetadata": {},
     "inputWidgets": {},
     "nuid": "90bb4af9-fa8d-4d1e-b24d-ca909d0f95e4",
     "showTitle": false,
     "title": ""
    }
   },
   "source": [
    "### Step 8: prepare training and test datasets\n",
    "14\\. Please use a 70-30 random split here for training and testing data sets respectively, then verify their sizes\n",
    "\n",
    "- for grading purpose, please use `seed=0` for the random split."
   ]
  },
  {
   "cell_type": "code",
   "execution_count": 0,
   "metadata": {
    "application/vnd.databricks.v1+cell": {
     "cellMetadata": {
      "byteLimit": 2048000,
      "rowLimit": 10000
     },
     "inputWidgets": {},
     "nuid": "bcf7680f-3ee6-4dae-a6f3-a61cab522fb2",
     "showTitle": false,
     "title": ""
    }
   },
   "outputs": [],
   "source": [
    "train, test = titanic_final.randomSplit([0.7,0.3], seed=0)"
   ]
  },
  {
   "cell_type": "code",
   "execution_count": 0,
   "metadata": {
    "application/vnd.databricks.v1+cell": {
     "cellMetadata": {
      "byteLimit": 2048000,
      "rowLimit": 10000
     },
     "inputWidgets": {},
     "nuid": "65ad0fff-f669-4d5a-b1e5-da50e698f022",
     "showTitle": false,
     "title": ""
    }
   },
   "outputs": [
    {
     "output_type": "stream",
     "name": "stdout",
     "output_type": "stream",
     "text": [
      "train 618 test 271\n"
     ]
    }
   ],
   "source": [
    "print(\"train {} test {}\".format(train.count(), test.count()))"
   ]
  },
  {
   "cell_type": "markdown",
   "metadata": {
    "application/vnd.databricks.v1+cell": {
     "cellMetadata": {},
     "inputWidgets": {},
     "nuid": "cb6f7239-70f7-467c-bcb8-be30713aa0ff",
     "showTitle": false,
     "title": ""
    }
   },
   "source": [
    "### Step 9: Fit the model and use it on the test dataset"
   ]
  },
  {
   "cell_type": "markdown",
   "metadata": {
    "application/vnd.databricks.v1+cell": {
     "cellMetadata": {},
     "inputWidgets": {},
     "nuid": "d53037fb-7802-4b3b-bfac-14e3656e7e37",
     "showTitle": false,
     "title": ""
    }
   },
   "source": [
    "15\\. Fit the model using the predefined pipeline on the training set"
   ]
  },
  {
   "cell_type": "code",
   "execution_count": 0,
   "metadata": {
    "application/vnd.databricks.v1+cell": {
     "cellMetadata": {
      "byteLimit": 2048000,
      "rowLimit": 10000
     },
     "inputWidgets": {},
     "nuid": "53fad4f0-8675-45bb-b23a-eb75526e4fcb",
     "showTitle": false,
     "title": ""
    }
   },
   "outputs": [],
   "source": [
    "pl_model = pl.fit(train)"
   ]
  },
  {
   "cell_type": "markdown",
   "metadata": {
    "application/vnd.databricks.v1+cell": {
     "cellMetadata": {},
     "inputWidgets": {},
     "nuid": "c01cd5cf-19ed-4095-ac30-4441dc2d8013",
     "showTitle": false,
     "title": ""
    }
   },
   "source": [
    "16\\. Use the fitted model to obtain predictions on the test set, saving the resulting dataFrame as `results`"
   ]
  },
  {
   "cell_type": "code",
   "execution_count": 0,
   "metadata": {
    "application/vnd.databricks.v1+cell": {
     "cellMetadata": {
      "byteLimit": 2048000,
      "rowLimit": 10000
     },
     "inputWidgets": {},
     "nuid": "903a0521-ba63-4c9b-9b0b-f0bed294f912",
     "showTitle": false,
     "title": ""
    }
   },
   "outputs": [],
   "source": [
    "results = pl_model.transform(test)"
   ]
  },
  {
   "cell_type": "markdown",
   "metadata": {
    "application/vnd.databricks.v1+cell": {
     "cellMetadata": {},
     "inputWidgets": {},
     "nuid": "5876c41c-1f2b-4b3b-b529-1c7076c77267",
     "showTitle": false,
     "title": ""
    }
   },
   "source": [
    "17\\. Obtain the logistic regression model, and report its intercept and coefficients\n",
    "- you can obtain a stage of the pipeline using **.stages[index]**\n",
    "- Please refer to the LogisticRegression documentation on how to obtain the estimated model's intercept and coefficients.\n",
    "- **Question**: An increase (or a \"1\" for a binary feature) in what feature(s) seem to have a positive effect on the probability of survival (based on the coefficient signs)"
   ]
  },
  {
   "cell_type": "code",
   "execution_count": 0,
   "metadata": {
    "application/vnd.databricks.v1+cell": {
     "cellMetadata": {
      "byteLimit": 2048000,
      "rowLimit": 10000
     },
     "inputWidgets": {},
     "nuid": "57381d18-e6bd-4cd5-8699-db8cff6b980b",
     "showTitle": false,
     "title": ""
    }
   },
   "outputs": [
    {
     "output_type": "display_data",
     "data": {
      "text/html": [
       "<style scoped>\n",
       "  .table-result-container {\n",
       "    max-height: 300px;\n",
       "    overflow: auto;\n",
       "  }\n",
       "  table, th, td {\n",
       "    border: 1px solid black;\n",
       "    border-collapse: collapse;\n",
       "  }\n",
       "  th, td {\n",
       "    padding: 5px;\n",
       "  }\n",
       "  th {\n",
       "    text-align: left;\n",
       "  }\n",
       "</style><div class='table-result-container'><table class='table-result'><thead style='background-color: white'><tr><th>features</th><th>prediction</th></tr></thead><tbody><tr><td>Map(indices -> List(0, 3, 4, 6), length -> 8, values -> List(2.0, 1.0, 151.55, 1.0), vectorType -> sparse)</td><td>1.0</td></tr><tr><td>Map(length -> 8, values -> List(19.0, 0.0, 1.0, 1.0, 53.1, 1.0, 1.0, 0.0), vectorType -> dense)</td><td>1.0</td></tr><tr><td>Map(length -> 8, values -> List(24.0, 0.0, 1.0, 1.0, 79.2, 1.0, 0.0, 1.0), vectorType -> dense)</td><td>1.0</td></tr><tr><td>Map(length -> 8, values -> List(29.69911764705882, 1.0, 1.0, 1.0, 27.7208, 1.0, 0.0, 1.0), vectorType -> dense)</td><td>1.0</td></tr><tr><td>Map(length -> 8, values -> List(29.69911764705882, 1.0, 1.0, 1.0, 27.7208, 1.0, 0.0, 1.0), vectorType -> dense)</td><td>1.0</td></tr><tr><td>Map(length -> 8, values -> List(29.69911764705882, 1.0, 1.0, 1.0, 52.0, 1.0, 1.0, 0.0), vectorType -> dense)</td><td>0.0</td></tr><tr><td>Map(length -> 8, values -> List(29.69911764705882, 1.0, 1.0, 1.0, 221.7792, 1.0, 1.0, 0.0), vectorType -> dense)</td><td>0.0</td></tr><tr><td>Map(length -> 8, values -> List(29.69911764705882, 1.0, 1.0, 1.0, 227.525, 1.0, 0.0, 1.0), vectorType -> dense)</td><td>1.0</td></tr><tr><td>Map(length -> 8, values -> List(31.0, 0.0, 1.0, 1.0, 52.0, 1.0, 1.0, 0.0), vectorType -> dense)</td><td>0.0</td></tr><tr><td>Map(length -> 8, values -> List(36.0, 0.0, 1.0, 1.0, 78.85, 1.0, 1.0, 0.0), vectorType -> dense)</td><td>0.0</td></tr></tbody></table></div>"
      ]
     },
     "metadata": {
      "application/vnd.databricks.v1+output": {
       "addedWidgets": {},
       "aggData": [],
       "aggError": "",
       "aggOverflow": false,
       "aggSchema": [],
       "aggSeriesLimitReached": false,
       "aggType": "",
       "arguments": {},
       "columnCustomDisplayInfos": {},
       "data": [
        [
         {
          "indices": [
           0,
           3,
           4,
           6
          ],
          "length": 8,
          "values": [
           2.0,
           1.0,
           151.55,
           1.0
          ],
          "vectorType": "sparse"
         },
         1.0
        ],
        [
         {
          "length": 8,
          "values": [
           19.0,
           0.0,
           1.0,
           1.0,
           53.1,
           1.0,
           1.0,
           0.0
          ],
          "vectorType": "dense"
         },
         1.0
        ],
        [
         {
          "length": 8,
          "values": [
           24.0,
           0.0,
           1.0,
           1.0,
           79.2,
           1.0,
           0.0,
           1.0
          ],
          "vectorType": "dense"
         },
         1.0
        ],
        [
         {
          "length": 8,
          "values": [
           29.69911764705882,
           1.0,
           1.0,
           1.0,
           27.7208,
           1.0,
           0.0,
           1.0
          ],
          "vectorType": "dense"
         },
         1.0
        ],
        [
         {
          "length": 8,
          "values": [
           29.69911764705882,
           1.0,
           1.0,
           1.0,
           27.7208,
           1.0,
           0.0,
           1.0
          ],
          "vectorType": "dense"
         },
         1.0
        ],
        [
         {
          "length": 8,
          "values": [
           29.69911764705882,
           1.0,
           1.0,
           1.0,
           52.0,
           1.0,
           1.0,
           0.0
          ],
          "vectorType": "dense"
         },
         0.0
        ],
        [
         {
          "length": 8,
          "values": [
           29.69911764705882,
           1.0,
           1.0,
           1.0,
           221.7792,
           1.0,
           1.0,
           0.0
          ],
          "vectorType": "dense"
         },
         0.0
        ],
        [
         {
          "length": 8,
          "values": [
           29.69911764705882,
           1.0,
           1.0,
           1.0,
           227.525,
           1.0,
           0.0,
           1.0
          ],
          "vectorType": "dense"
         },
         1.0
        ],
        [
         {
          "length": 8,
          "values": [
           31.0,
           0.0,
           1.0,
           1.0,
           52.0,
           1.0,
           1.0,
           0.0
          ],
          "vectorType": "dense"
         },
         0.0
        ],
        [
         {
          "length": 8,
          "values": [
           36.0,
           0.0,
           1.0,
           1.0,
           78.85,
           1.0,
           1.0,
           0.0
          ],
          "vectorType": "dense"
         },
         0.0
        ]
       ],
       "datasetInfos": [],
       "dbfsResultPath": null,
       "isJsonSchema": true,
       "metadata": {},
       "overflow": false,
       "plotOptions": {
        "customPlotOptions": {},
        "displayType": "table",
        "pivotAggregation": null,
        "pivotColumns": null,
        "xColumns": null,
        "yColumns": null
       },
       "removedWidgets": [],
       "schema": [
        {
         "metadata": "{\"ml_attr\":{\"attrs\":{\"numeric\":[{\"idx\":0,\"name\":\"Age\"},{\"idx\":1,\"name\":\"AgeNA\"},{\"idx\":3,\"name\":\"Pclass\"},{\"idx\":4,\"name\":\"Fare\"}],\"binary\":[{\"idx\":2,\"name\":\"Sex_ohe_male\"},{\"idx\":5,\"name\":\"Sex_ohe_male\"},{\"idx\":6,\"name\":\"Embarked_ohe_S\"},{\"idx\":7,\"name\":\"Embarked_ohe_C\"}]},\"num_attrs\":8}}",
         "name": "features",
         "type": "{\"type\":\"udt\",\"class\":\"org.apache.spark.ml.linalg.VectorUDT\",\"pyClass\":\"pyspark.ml.linalg.VectorUDT\",\"sqlType\":{\"type\":\"struct\",\"fields\":[{\"name\":\"type\",\"type\":\"byte\",\"nullable\":false,\"metadata\":{}},{\"name\":\"size\",\"type\":\"integer\",\"nullable\":true,\"metadata\":{}},{\"name\":\"indices\",\"type\":{\"type\":\"array\",\"elementType\":\"integer\",\"containsNull\":false},\"nullable\":true,\"metadata\":{}},{\"name\":\"values\",\"type\":{\"type\":\"array\",\"elementType\":\"double\",\"containsNull\":false},\"nullable\":true,\"metadata\":{}}]}}"
        },
        {
         "metadata": "{\"ml_attr\":{\"type\":\"nominal\",\"num_vals\":2}}",
         "name": "prediction",
         "type": "\"double\""
        }
       ],
       "type": "table"
      }
     },
     "output_type": "display_data"
    }
   ],
   "source": [
    "results.select('features', 'prediction').limit(10).display()"
   ]
  },
  {
   "cell_type": "code",
   "execution_count": 0,
   "metadata": {
    "application/vnd.databricks.v1+cell": {
     "cellMetadata": {
      "byteLimit": 2048000,
      "rowLimit": 10000
     },
     "inputWidgets": {},
     "nuid": "cc9ada7e-0ee7-4f95-bb4c-1892905b0f78",
     "showTitle": false,
     "title": ""
    }
   },
   "outputs": [],
   "source": [
    "from pyspark.ml.feature import VectorAssembler\n",
    "lr_model = pl_model.stages[-1]\n",
    "intercept = lr_model.intercept\n",
    "coefficient = lr_model.coefficients"
   ]
  },
  {
   "cell_type": "code",
   "execution_count": 0,
   "metadata": {
    "application/vnd.databricks.v1+cell": {
     "cellMetadata": {
      "byteLimit": 2048000,
      "rowLimit": 10000
     },
     "inputWidgets": {},
     "nuid": "362c475d-3686-4026-96dd-d59a0d97a32d",
     "showTitle": false,
     "title": ""
    }
   },
   "outputs": [
    {
     "output_type": "stream",
     "name": "stdout",
     "output_type": "stream",
     "text": [
      "Intercept: 5.066257350923905\nCoefficient: [-0.0380630156863308,-0.09755949255861895,-1.3229258889040447,-1.135422614611272,0.0008042271786788155,-1.3229258889040447,-0.40552151465067027,0.06075028834218951]\n"
     ]
    }
   ],
   "source": [
    "print(\"Intercept:\", intercept)\n",
    "print(\"Coefficient:\", coefficient)"
   ]
  },
  {
   "cell_type": "code",
   "execution_count": 0,
   "metadata": {
    "application/vnd.databricks.v1+cell": {
     "cellMetadata": {
      "byteLimit": 2048000,
      "rowLimit": 10000
     },
     "inputWidgets": {},
     "nuid": "f41f68d2-df30-4fde-8315-02a0a550e61a",
     "showTitle": false,
     "title": ""
    }
   },
   "outputs": [
    {
     "output_type": "stream",
     "name": "stdout",
     "output_type": "stream",
     "text": [
      "Feature 'Fare' has a positive effect on survival with a coefficient of 0.0008042271786788155\n"
     ]
    }
   ],
   "source": [
    "positive_effect_features = []\n",
    "\n",
    "for i, feature_name in enumerate(featureCols):\n",
    "    coefficient = coefficients[i]\n",
    "    if coefficient > 0:\n",
    "        positive_effect_features.append(feature_name)\n",
    "        print(f\"Feature '{feature_name}' has a positive effect on survival with a coefficient of {coefficient}\")"
   ]
  },
  {
   "cell_type": "markdown",
   "metadata": {
    "application/vnd.databricks.v1+cell": {
     "cellMetadata": {},
     "inputWidgets": {},
     "nuid": "b3d6e932-b3f1-4588-9a2c-f3ab28282fa3",
     "showTitle": false,
     "title": ""
    }
   },
   "source": [
    "- An increase (or a \"1\" for a binary feature) in \"Fare\" seem to have a positive effect on the probability of survival (based on the coefficient signs)."
   ]
  },
  {
   "cell_type": "markdown",
   "metadata": {
    "application/vnd.databricks.v1+cell": {
     "cellMetadata": {},
     "inputWidgets": {},
     "nuid": "26ff98ce-6c63-4688-be2b-47395e56306a",
     "showTitle": false,
     "title": ""
    }
   },
   "source": [
    "### Step 10. Evaluate model performance"
   ]
  },
  {
   "cell_type": "markdown",
   "metadata": {
    "application/vnd.databricks.v1+cell": {
     "cellMetadata": {},
     "inputWidgets": {},
     "nuid": "28d5a425-74f4-48da-9cdb-1568adf8922c",
     "showTitle": false,
     "title": ""
    }
   },
   "source": [
    "It is useful to see the content of the `results` DataFrame after applying the model.\n",
    "\n",
    "18\\. print first 5 rows of the `results`"
   ]
  },
  {
   "cell_type": "code",
   "execution_count": 0,
   "metadata": {
    "application/vnd.databricks.v1+cell": {
     "cellMetadata": {
      "byteLimit": 2048000,
      "rowLimit": 10000
     },
     "inputWidgets": {},
     "nuid": "f84b26ad-e7dd-419c-a787-9998316a1b14",
     "showTitle": false,
     "title": ""
    }
   },
   "outputs": [
    {
     "output_type": "display_data",
     "data": {
      "text/html": [
       "<style scoped>\n",
       "  .table-result-container {\n",
       "    max-height: 300px;\n",
       "    overflow: auto;\n",
       "  }\n",
       "  table, th, td {\n",
       "    border: 1px solid black;\n",
       "    border-collapse: collapse;\n",
       "  }\n",
       "  th, td {\n",
       "    padding: 5px;\n",
       "  }\n",
       "  th {\n",
       "    text-align: left;\n",
       "  }\n",
       "</style><div class='table-result-container'><table class='table-result'><thead style='background-color: white'><tr><th>Survived</th><th>Pclass</th><th>Sex</th><th>Age</th><th>SibSp</th><th>Parch</th><th>Fare</th><th>Cabin</th><th>Embarked</th><th>AgeNA</th><th>Sex_idx</th><th>Embarked_idx</th><th>Sex_ohe</th><th>Embarked_ohe</th><th>features</th><th>rawPrediction</th><th>probability</th><th>prediction</th></tr></thead><tbody><tr><td>0</td><td>1.0</td><td>female</td><td>2.0</td><td>1.0</td><td>2.0</td><td>151.55</td><td>C22 C26</td><td>S</td><td>0</td><td>1.0</td><td>0.0</td><td>Map(indices -> List(), length -> 1, values -> List(), vectorType -> sparse)</td><td>Map(indices -> List(0), length -> 2, values -> List(1.0), vectorType -> sparse)</td><td>Map(indices -> List(0, 3, 4, 6), length -> 8, values -> List(2.0, 1.0, 151.55, 1.0), vectorType -> sparse)</td><td>Map(length -> 2, values -> List(-3.571067819218076, 3.571067819218076), vectorType -> dense)</td><td>Map(length -> 2, values -> List(0.0273563840589339, 0.9726436159410661), vectorType -> dense)</td><td>1.0</td></tr><tr><td>0</td><td>1.0</td><td>male</td><td>19.0</td><td>1.0</td><td>0.0</td><td>53.1</td><td>D30</td><td>S</td><td>0</td><td>0.0</td><td>0.0</td><td>Map(indices -> List(0), length -> 1, values -> List(1.0), vectorType -> sparse)</td><td>Map(indices -> List(0), length -> 2, values -> List(1.0), vectorType -> sparse)</td><td>Map(length -> 8, values -> List(19.0, 0.0, 1.0, 1.0, 53.1, 1.0, 1.0, 0.0), vectorType -> dense)</td><td>Map(length -> 2, values -> List(-0.1989686090014331, 0.1989686090014331), vectorType -> dense)</td><td>Map(length -> 2, values -> List(0.4504213021519494, 0.5495786978480506), vectorType -> dense)</td><td>1.0</td></tr><tr><td>0</td><td>1.0</td><td>male</td><td>24.0</td><td>0.0</td><td>0.0</td><td>79.2</td><td>B86</td><td>C</td><td>0</td><td>0.0</td><td>1.0</td><td>Map(indices -> List(0), length -> 1, values -> List(1.0), vectorType -> sparse)</td><td>Map(indices -> List(1), length -> 2, values -> List(1.0), vectorType -> sparse)</td><td>Map(length -> 8, values -> List(24.0, 0.0, 1.0, 1.0, 79.2, 1.0, 0.0, 1.0), vectorType -> dense)</td><td>Map(length -> 2, values -> List(-0.49591566292615674, 0.49591566292615674), vectorType -> dense)</td><td>Map(length -> 2, values -> List(0.3785009821527093, 0.6214990178472908), vectorType -> dense)</td><td>1.0</td></tr><tr><td>0</td><td>1.0</td><td>male</td><td>29.69911764705882</td><td>0.0</td><td>0.0</td><td>27.7208</td><td>Unknown</td><td>C</td><td>1</td><td>0.0</td><td>1.0</td><td>Map(indices -> List(0), length -> 1, values -> List(1.0), vectorType -> sparse)</td><td>Map(indices -> List(1), length -> 2, values -> List(1.0), vectorType -> sparse)</td><td>Map(length -> 8, values -> List(29.69911764705882, 1.0, 1.0, 1.0, 27.7208, 1.0, 0.0, 1.0), vectorType -> dense)</td><td>Map(length -> 2, values -> List(-0.14002959419265082, 0.14002959419265082), vectorType -> dense)</td><td>Map(length -> 2, values -> List(0.4650496924360247, 0.5349503075639753), vectorType -> dense)</td><td>1.0</td></tr><tr><td>0</td><td>1.0</td><td>male</td><td>29.69911764705882</td><td>0.0</td><td>0.0</td><td>27.7208</td><td>Unknown</td><td>C</td><td>1</td><td>0.0</td><td>1.0</td><td>Map(indices -> List(0), length -> 1, values -> List(1.0), vectorType -> sparse)</td><td>Map(indices -> List(1), length -> 2, values -> List(1.0), vectorType -> sparse)</td><td>Map(length -> 8, values -> List(29.69911764705882, 1.0, 1.0, 1.0, 27.7208, 1.0, 0.0, 1.0), vectorType -> dense)</td><td>Map(length -> 2, values -> List(-0.14002959419265082, 0.14002959419265082), vectorType -> dense)</td><td>Map(length -> 2, values -> List(0.4650496924360247, 0.5349503075639753), vectorType -> dense)</td><td>1.0</td></tr></tbody></table></div>"
      ]
     },
     "metadata": {
      "application/vnd.databricks.v1+output": {
       "addedWidgets": {},
       "aggData": [],
       "aggError": "",
       "aggOverflow": false,
       "aggSchema": [],
       "aggSeriesLimitReached": false,
       "aggType": "",
       "arguments": {},
       "columnCustomDisplayInfos": {},
       "data": [
        [
         0,
         1.0,
         "female",
         2.0,
         1.0,
         2.0,
         151.55,
         "C22 C26",
         "S",
         0,
         1.0,
         0.0,
         {
          "indices": [],
          "length": 1,
          "values": [],
          "vectorType": "sparse"
         },
         {
          "indices": [
           0
          ],
          "length": 2,
          "values": [
           1.0
          ],
          "vectorType": "sparse"
         },
         {
          "indices": [
           0,
           3,
           4,
           6
          ],
          "length": 8,
          "values": [
           2.0,
           1.0,
           151.55,
           1.0
          ],
          "vectorType": "sparse"
         },
         {
          "length": 2,
          "values": [
           -3.571067819218076,
           3.571067819218076
          ],
          "vectorType": "dense"
         },
         {
          "length": 2,
          "values": [
           0.0273563840589339,
           0.9726436159410661
          ],
          "vectorType": "dense"
         },
         1.0
        ],
        [
         0,
         1.0,
         "male",
         19.0,
         1.0,
         0.0,
         53.1,
         "D30",
         "S",
         0,
         0.0,
         0.0,
         {
          "indices": [
           0
          ],
          "length": 1,
          "values": [
           1.0
          ],
          "vectorType": "sparse"
         },
         {
          "indices": [
           0
          ],
          "length": 2,
          "values": [
           1.0
          ],
          "vectorType": "sparse"
         },
         {
          "length": 8,
          "values": [
           19.0,
           0.0,
           1.0,
           1.0,
           53.1,
           1.0,
           1.0,
           0.0
          ],
          "vectorType": "dense"
         },
         {
          "length": 2,
          "values": [
           -0.1989686090014331,
           0.1989686090014331
          ],
          "vectorType": "dense"
         },
         {
          "length": 2,
          "values": [
           0.4504213021519494,
           0.5495786978480506
          ],
          "vectorType": "dense"
         },
         1.0
        ],
        [
         0,
         1.0,
         "male",
         24.0,
         0.0,
         0.0,
         79.2,
         "B86",
         "C",
         0,
         0.0,
         1.0,
         {
          "indices": [
           0
          ],
          "length": 1,
          "values": [
           1.0
          ],
          "vectorType": "sparse"
         },
         {
          "indices": [
           1
          ],
          "length": 2,
          "values": [
           1.0
          ],
          "vectorType": "sparse"
         },
         {
          "length": 8,
          "values": [
           24.0,
           0.0,
           1.0,
           1.0,
           79.2,
           1.0,
           0.0,
           1.0
          ],
          "vectorType": "dense"
         },
         {
          "length": 2,
          "values": [
           -0.49591566292615674,
           0.49591566292615674
          ],
          "vectorType": "dense"
         },
         {
          "length": 2,
          "values": [
           0.3785009821527093,
           0.6214990178472908
          ],
          "vectorType": "dense"
         },
         1.0
        ],
        [
         0,
         1.0,
         "male",
         29.69911764705882,
         0.0,
         0.0,
         27.7208,
         "Unknown",
         "C",
         1,
         0.0,
         1.0,
         {
          "indices": [
           0
          ],
          "length": 1,
          "values": [
           1.0
          ],
          "vectorType": "sparse"
         },
         {
          "indices": [
           1
          ],
          "length": 2,
          "values": [
           1.0
          ],
          "vectorType": "sparse"
         },
         {
          "length": 8,
          "values": [
           29.69911764705882,
           1.0,
           1.0,
           1.0,
           27.7208,
           1.0,
           0.0,
           1.0
          ],
          "vectorType": "dense"
         },
         {
          "length": 2,
          "values": [
           -0.14002959419265082,
           0.14002959419265082
          ],
          "vectorType": "dense"
         },
         {
          "length": 2,
          "values": [
           0.4650496924360247,
           0.5349503075639753
          ],
          "vectorType": "dense"
         },
         1.0
        ],
        [
         0,
         1.0,
         "male",
         29.69911764705882,
         0.0,
         0.0,
         27.7208,
         "Unknown",
         "C",
         1,
         0.0,
         1.0,
         {
          "indices": [
           0
          ],
          "length": 1,
          "values": [
           1.0
          ],
          "vectorType": "sparse"
         },
         {
          "indices": [
           1
          ],
          "length": 2,
          "values": [
           1.0
          ],
          "vectorType": "sparse"
         },
         {
          "length": 8,
          "values": [
           29.69911764705882,
           1.0,
           1.0,
           1.0,
           27.7208,
           1.0,
           0.0,
           1.0
          ],
          "vectorType": "dense"
         },
         {
          "length": 2,
          "values": [
           -0.14002959419265082,
           0.14002959419265082
          ],
          "vectorType": "dense"
         },
         {
          "length": 2,
          "values": [
           0.4650496924360247,
           0.5349503075639753
          ],
          "vectorType": "dense"
         },
         1.0
        ]
       ],
       "datasetInfos": [],
       "dbfsResultPath": null,
       "isJsonSchema": true,
       "metadata": {},
       "overflow": false,
       "plotOptions": {
        "customPlotOptions": {},
        "displayType": "table",
        "pivotAggregation": null,
        "pivotColumns": null,
        "xColumns": null,
        "yColumns": null
       },
       "removedWidgets": [],
       "schema": [
        {
         "metadata": "{}",
         "name": "Survived",
         "type": "\"integer\""
        },
        {
         "metadata": "{}",
         "name": "Pclass",
         "type": "\"double\""
        },
        {
         "metadata": "{}",
         "name": "Sex",
         "type": "\"string\""
        },
        {
         "metadata": "{}",
         "name": "Age",
         "type": "\"double\""
        },
        {
         "metadata": "{}",
         "name": "SibSp",
         "type": "\"double\""
        },
        {
         "metadata": "{}",
         "name": "Parch",
         "type": "\"double\""
        },
        {
         "metadata": "{}",
         "name": "Fare",
         "type": "\"double\""
        },
        {
         "metadata": "{}",
         "name": "Cabin",
         "type": "\"string\""
        },
        {
         "metadata": "{}",
         "name": "Embarked",
         "type": "\"string\""
        },
        {
         "metadata": "{}",
         "name": "AgeNA",
         "type": "\"integer\""
        },
        {
         "metadata": "{\"ml_attr\":{\"vals\":[\"male\",\"female\"],\"type\":\"nominal\",\"name\":\"Sex_idx\"}}",
         "name": "Sex_idx",
         "type": "\"double\""
        },
        {
         "metadata": "{\"ml_attr\":{\"vals\":[\"S\",\"C\",\"Q\"],\"type\":\"nominal\",\"name\":\"Embarked_idx\"}}",
         "name": "Embarked_idx",
         "type": "\"double\""
        },
        {
         "metadata": "{\"ml_attr\":{\"attrs\":{\"binary\":[{\"idx\":0,\"name\":\"male\"}]},\"num_attrs\":1}}",
         "name": "Sex_ohe",
         "type": "{\"type\":\"udt\",\"class\":\"org.apache.spark.ml.linalg.VectorUDT\",\"pyClass\":\"pyspark.ml.linalg.VectorUDT\",\"sqlType\":{\"type\":\"struct\",\"fields\":[{\"name\":\"type\",\"type\":\"byte\",\"nullable\":false,\"metadata\":{}},{\"name\":\"size\",\"type\":\"integer\",\"nullable\":true,\"metadata\":{}},{\"name\":\"indices\",\"type\":{\"type\":\"array\",\"elementType\":\"integer\",\"containsNull\":false},\"nullable\":true,\"metadata\":{}},{\"name\":\"values\",\"type\":{\"type\":\"array\",\"elementType\":\"double\",\"containsNull\":false},\"nullable\":true,\"metadata\":{}}]}}"
        },
        {
         "metadata": "{\"ml_attr\":{\"attrs\":{\"binary\":[{\"idx\":0,\"name\":\"S\"},{\"idx\":1,\"name\":\"C\"}]},\"num_attrs\":2}}",
         "name": "Embarked_ohe",
         "type": "{\"type\":\"udt\",\"class\":\"org.apache.spark.ml.linalg.VectorUDT\",\"pyClass\":\"pyspark.ml.linalg.VectorUDT\",\"sqlType\":{\"type\":\"struct\",\"fields\":[{\"name\":\"type\",\"type\":\"byte\",\"nullable\":false,\"metadata\":{}},{\"name\":\"size\",\"type\":\"integer\",\"nullable\":true,\"metadata\":{}},{\"name\":\"indices\",\"type\":{\"type\":\"array\",\"elementType\":\"integer\",\"containsNull\":false},\"nullable\":true,\"metadata\":{}},{\"name\":\"values\",\"type\":{\"type\":\"array\",\"elementType\":\"double\",\"containsNull\":false},\"nullable\":true,\"metadata\":{}}]}}"
        },
        {
         "metadata": "{\"ml_attr\":{\"attrs\":{\"numeric\":[{\"idx\":0,\"name\":\"Age\"},{\"idx\":1,\"name\":\"AgeNA\"},{\"idx\":3,\"name\":\"Pclass\"},{\"idx\":4,\"name\":\"Fare\"}],\"binary\":[{\"idx\":2,\"name\":\"Sex_ohe_male\"},{\"idx\":5,\"name\":\"Sex_ohe_male\"},{\"idx\":6,\"name\":\"Embarked_ohe_S\"},{\"idx\":7,\"name\":\"Embarked_ohe_C\"}]},\"num_attrs\":8}}",
         "name": "features",
         "type": "{\"type\":\"udt\",\"class\":\"org.apache.spark.ml.linalg.VectorUDT\",\"pyClass\":\"pyspark.ml.linalg.VectorUDT\",\"sqlType\":{\"type\":\"struct\",\"fields\":[{\"name\":\"type\",\"type\":\"byte\",\"nullable\":false,\"metadata\":{}},{\"name\":\"size\",\"type\":\"integer\",\"nullable\":true,\"metadata\":{}},{\"name\":\"indices\",\"type\":{\"type\":\"array\",\"elementType\":\"integer\",\"containsNull\":false},\"nullable\":true,\"metadata\":{}},{\"name\":\"values\",\"type\":{\"type\":\"array\",\"elementType\":\"double\",\"containsNull\":false},\"nullable\":true,\"metadata\":{}}]}}"
        },
        {
         "metadata": "{\"ml_attr\":{\"num_attrs\":2}}",
         "name": "rawPrediction",
         "type": "{\"type\":\"udt\",\"class\":\"org.apache.spark.ml.linalg.VectorUDT\",\"pyClass\":\"pyspark.ml.linalg.VectorUDT\",\"sqlType\":{\"type\":\"struct\",\"fields\":[{\"name\":\"type\",\"type\":\"byte\",\"nullable\":false,\"metadata\":{}},{\"name\":\"size\",\"type\":\"integer\",\"nullable\":true,\"metadata\":{}},{\"name\":\"indices\",\"type\":{\"type\":\"array\",\"elementType\":\"integer\",\"containsNull\":false},\"nullable\":true,\"metadata\":{}},{\"name\":\"values\",\"type\":{\"type\":\"array\",\"elementType\":\"double\",\"containsNull\":false},\"nullable\":true,\"metadata\":{}}]}}"
        },
        {
         "metadata": "{\"ml_attr\":{\"num_attrs\":2}}",
         "name": "probability",
         "type": "{\"type\":\"udt\",\"class\":\"org.apache.spark.ml.linalg.VectorUDT\",\"pyClass\":\"pyspark.ml.linalg.VectorUDT\",\"sqlType\":{\"type\":\"struct\",\"fields\":[{\"name\":\"type\",\"type\":\"byte\",\"nullable\":false,\"metadata\":{}},{\"name\":\"size\",\"type\":\"integer\",\"nullable\":true,\"metadata\":{}},{\"name\":\"indices\",\"type\":{\"type\":\"array\",\"elementType\":\"integer\",\"containsNull\":false},\"nullable\":true,\"metadata\":{}},{\"name\":\"values\",\"type\":{\"type\":\"array\",\"elementType\":\"double\",\"containsNull\":false},\"nullable\":true,\"metadata\":{}}]}}"
        },
        {
         "metadata": "{\"ml_attr\":{\"type\":\"nominal\",\"num_vals\":2}}",
         "name": "prediction",
         "type": "\"double\""
        }
       ],
       "type": "table"
      }
     },
     "output_type": "display_data"
    }
   ],
   "source": [
    "results.limit(5).display()"
   ]
  },
  {
   "cell_type": "markdown",
   "metadata": {
    "application/vnd.databricks.v1+cell": {
     "cellMetadata": {},
     "inputWidgets": {},
     "nuid": "654d8b59-eb89-4651-a9ea-b8db054d4eae",
     "showTitle": false,
     "title": ""
    }
   },
   "source": [
    "19\\. Obtain the area under ROC (AUC), f1, Accuracy for the model \n",
    "\n",
    "**tip**: we will report the same metrics below a few times. It may be handy for you to create a function for the calculation of the three metrics."
   ]
  },
  {
   "cell_type": "code",
   "execution_count": 0,
   "metadata": {
    "application/vnd.databricks.v1+cell": {
     "cellMetadata": {
      "byteLimit": 2048000,
      "rowLimit": 10000
     },
     "inputWidgets": {},
     "nuid": "d8bf391b-66e6-41db-bae9-df3fc30b9b3a",
     "showTitle": false,
     "title": ""
    }
   },
   "outputs": [],
   "source": [
    "from pyspark.ml.evaluation import BinaryClassificationEvaluator, MulticlassClassificationEvaluator\n",
    "def model_evaluate(data, labelCol):\n",
    "  e1 = BinaryClassificationEvaluator(labelCol=labelCol)\n",
    "  e2 = MulticlassClassificationEvaluator(labelCol=labelCol)\n",
    "  auc = e1.evaluate(data, {e1.metricName: \"areaUnderROC\"})\n",
    "  a = e2.evaluate(data, {e2.metricName: \"accuracy\"})\n",
    "  f1 = e2.evaluate(data, {e2.metricName: \"f1\"})\n",
    "  print(f\"AUC: {auc}\")\n",
    "  print(f\"Accuracy: {a}\")\n",
    "  print(f\"F1: {f1}\")"
   ]
  },
  {
   "cell_type": "code",
   "execution_count": 0,
   "metadata": {
    "application/vnd.databricks.v1+cell": {
     "cellMetadata": {
      "byteLimit": 2048000,
      "rowLimit": 10000
     },
     "inputWidgets": {},
     "nuid": "f2a28d98-3810-45eb-9952-9cdfeef323f3",
     "showTitle": false,
     "title": ""
    }
   },
   "outputs": [
    {
     "output_type": "stream",
     "name": "stdout",
     "output_type": "stream",
     "text": [
      "AUC: 0.8496409847276046\nAccuracy: 0.7785977859778598\nF1: 0.7782243517117846\n"
     ]
    }
   ],
   "source": [
    "model_evaluate(results, 'Survived')"
   ]
  },
  {
   "cell_type": "markdown",
   "metadata": {
    "application/vnd.databricks.v1+cell": {
     "cellMetadata": {},
     "inputWidgets": {},
     "nuid": "36ae91b3-e718-480b-9b65-fe784d16685c",
     "showTitle": false,
     "title": ""
    }
   },
   "source": [
    "20\\. Fit a RandomForest model, obtain predictions, and report same the performance metrics as above"
   ]
  },
  {
   "cell_type": "code",
   "execution_count": 0,
   "metadata": {
    "application/vnd.databricks.v1+cell": {
     "cellMetadata": {
      "byteLimit": 2048000,
      "rowLimit": 10000
     },
     "inputWidgets": {},
     "nuid": "adec0a6f-264e-48c6-8aba-c1242da1ea4c",
     "showTitle": false,
     "title": ""
    }
   },
   "outputs": [],
   "source": [
    "from pyspark.ml.classification import RandomForestClassifier\n",
    "rf = RandomForestClassifier(labelCol=\"Survived\")"
   ]
  },
  {
   "cell_type": "code",
   "execution_count": 0,
   "metadata": {
    "application/vnd.databricks.v1+cell": {
     "cellMetadata": {
      "byteLimit": 2048000,
      "rowLimit": 10000
     },
     "inputWidgets": {},
     "nuid": "21cc65bb-9027-42fb-8c19-138c1fc7309f",
     "showTitle": false,
     "title": ""
    }
   },
   "outputs": [],
   "source": [
    "rf_pl = Pipeline(stages = [si, ohe, va, rf])"
   ]
  },
  {
   "cell_type": "code",
   "execution_count": 0,
   "metadata": {
    "application/vnd.databricks.v1+cell": {
     "cellMetadata": {
      "byteLimit": 2048000,
      "rowLimit": 10000
     },
     "inputWidgets": {},
     "nuid": "010f28c0-fe3c-4d11-a8fc-7de40c2334eb",
     "showTitle": false,
     "title": ""
    }
   },
   "outputs": [],
   "source": [
    "rf_model = rf_pl.fit(train)\n",
    "rf_results = rf_model.transform(test)"
   ]
  },
  {
   "cell_type": "code",
   "execution_count": 0,
   "metadata": {
    "application/vnd.databricks.v1+cell": {
     "cellMetadata": {
      "byteLimit": 2048000,
      "rowLimit": 10000
     },
     "inputWidgets": {},
     "nuid": "d21b5387-3245-4029-99c1-f0ee29957973",
     "showTitle": false,
     "title": ""
    }
   },
   "outputs": [
    {
     "output_type": "stream",
     "name": "stdout",
     "output_type": "stream",
     "text": [
      "AUC: 0.8738602689765219\nAccuracy: 0.8302583025830258\nF1: 0.8263863655344694\nNone\n"
     ]
    }
   ],
   "source": [
    "rf_evaluation_result = model_evaluate(rf_results, 'Survived')\n",
    "print(rf_evaluation_result)"
   ]
  },
  {
   "cell_type": "markdown",
   "metadata": {
    "application/vnd.databricks.v1+cell": {
     "cellMetadata": {},
     "inputWidgets": {},
     "nuid": "d82ee567-3800-40f8-afef-f4cb3ee00b7a",
     "showTitle": false,
     "title": ""
    }
   },
   "source": [
    "21\\. RandomForest has a few parameters can be further tuned. We are considering among these:\n",
    "\n",
    "- maxDepth: {5,7}\n",
    "- numTrees: {20,30}\n",
    "\n",
    "\n",
    "Use CrossValidator (3 folds), as part of a pipeline, to find the best parameter combination. Obtain predictions using the best model (using areaUnderROC as a metric), and report same the performance metrics as above."
   ]
  },
  {
   "cell_type": "code",
   "execution_count": 0,
   "metadata": {
    "application/vnd.databricks.v1+cell": {
     "cellMetadata": {
      "byteLimit": 2048000,
      "rowLimit": 10000
     },
     "inputWidgets": {},
     "nuid": "7fd1c59b-67b5-4127-b359-2e74c47fe58f",
     "showTitle": false,
     "title": ""
    }
   },
   "outputs": [],
   "source": [
    "from pyspark.ml.tuning import CrossValidator, ParamGridBuilder\n",
    "grid = ParamGridBuilder().addGrid(rf.maxDepth, [5,7]).addGrid(rf.numTrees, [20,30]).build()"
   ]
  },
  {
   "cell_type": "code",
   "execution_count": 0,
   "metadata": {
    "application/vnd.databricks.v1+cell": {
     "cellMetadata": {
      "byteLimit": 2048000,
      "rowLimit": 10000
     },
     "inputWidgets": {},
     "nuid": "5347fec4-95d0-469c-9350-de1234b92efc",
     "showTitle": false,
     "title": ""
    }
   },
   "outputs": [],
   "source": [
    "auc = BinaryClassificationEvaluator(labelCol=\"Survived\", metricName=\"areaUnderROC\")"
   ]
  },
  {
   "cell_type": "code",
   "execution_count": 0,
   "metadata": {
    "application/vnd.databricks.v1+cell": {
     "cellMetadata": {
      "byteLimit": 2048000,
      "rowLimit": 10000
     },
     "inputWidgets": {},
     "nuid": "b7c66ebc-1069-44a4-b990-90800b557a67",
     "showTitle": false,
     "title": ""
    }
   },
   "outputs": [],
   "source": [
    "cv = CrossValidator(estimator=rf, estimatorParamMaps=grid, evaluator=auc, numFolds=3)"
   ]
  },
  {
   "cell_type": "code",
   "execution_count": 0,
   "metadata": {
    "application/vnd.databricks.v1+cell": {
     "cellMetadata": {
      "byteLimit": 2048000,
      "rowLimit": 10000
     },
     "inputWidgets": {},
     "nuid": "a9d16f94-2590-4469-aaf2-6a9add77a211",
     "showTitle": false,
     "title": ""
    }
   },
   "outputs": [],
   "source": [
    "pl_cv = Pipeline(stages = [si, ohe, va, cv])"
   ]
  },
  {
   "cell_type": "code",
   "execution_count": 0,
   "metadata": {
    "application/vnd.databricks.v1+cell": {
     "cellMetadata": {
      "byteLimit": 2048000,
      "rowLimit": 10000
     },
     "inputWidgets": {},
     "nuid": "9a542cd6-ba08-4ecb-a522-9a798f410390",
     "showTitle": false,
     "title": ""
    }
   },
   "outputs": [],
   "source": [
    "pl_cv_model = pl_cv.fit(train)"
   ]
  },
  {
   "cell_type": "code",
   "execution_count": 0,
   "metadata": {
    "application/vnd.databricks.v1+cell": {
     "cellMetadata": {
      "byteLimit": 2048000,
      "rowLimit": 10000
     },
     "inputWidgets": {},
     "nuid": "19044824-7139-4d48-8ac1-e6c7ed10560c",
     "showTitle": false,
     "title": ""
    }
   },
   "outputs": [],
   "source": [
    "test_cv_predicted = pl_cv_model.transform(test)"
   ]
  },
  {
   "cell_type": "code",
   "execution_count": 0,
   "metadata": {
    "application/vnd.databricks.v1+cell": {
     "cellMetadata": {
      "byteLimit": 2048000,
      "rowLimit": 10000
     },
     "inputWidgets": {},
     "nuid": "19b01456-56a9-417a-bcf2-6ee080920876",
     "showTitle": false,
     "title": ""
    }
   },
   "outputs": [
    {
     "output_type": "stream",
     "name": "stdout",
     "output_type": "stream",
     "text": [
      "AUC: 0.8738602689765219\nAccuracy: 0.8302583025830258\nF1: 0.8263863655344694\n"
     ]
    }
   ],
   "source": [
    "model_evaluate(test_cv_predicted, \"Survived\")"
   ]
  },
  {
   "cell_type": "markdown",
   "metadata": {
    "application/vnd.databricks.v1+cell": {
     "cellMetadata": {},
     "inputWidgets": {},
     "nuid": "79ac34c9-60e7-410f-aa42-7f9a22fb7609",
     "showTitle": false,
     "title": ""
    }
   },
   "source": [
    "22\\. What are the parameters selected by the CrossValidator?\n",
    "\n",
    "**tip**: \n",
    "- CrossValidator's `bestModel` stores the best model\n",
    "- You can call the best random forest model's `explainParam(parametername)` to see the value of a given parameter"
   ]
  },
  {
   "cell_type": "code",
   "execution_count": 0,
   "metadata": {
    "application/vnd.databricks.v1+cell": {
     "cellMetadata": {
      "byteLimit": 2048000,
      "rowLimit": 10000
     },
     "inputWidgets": {},
     "nuid": "a19853cc-f0b7-4de0-847c-feb11c0ef18e",
     "showTitle": false,
     "title": ""
    }
   },
   "outputs": [
    {
     "output_type": "stream",
     "name": "stdout",
     "output_type": "stream",
     "text": [
      "maxDepth: Maximum depth of the tree. (>= 0) E.g., depth 0 means 1 leaf node; depth 1 means 1 internal node + 2 leaf nodes. Must be in range [0, 30]. (default: 5, current: 5)\nnumTrees: Number of trees to train (>= 1). (default: 20, current: 20)\n"
     ]
    }
   ],
   "source": [
    "print(pl_cv_model.stages[3].bestModel.explainParam('maxDepth'))\n",
    "print(pl_cv_model.stages[3].bestModel.explainParam('numTrees'))"
   ]
  },
  {
   "cell_type": "code",
   "execution_count": 0,
   "metadata": {
    "application/vnd.databricks.v1+cell": {
     "cellMetadata": {
      "byteLimit": 2048000,
      "rowLimit": 10000
     },
     "inputWidgets": {},
     "nuid": "7230016e-bdd8-4306-8cff-48dc3227c1f1",
     "showTitle": false,
     "title": ""
    }
   },
   "outputs": [
    {
     "output_type": "stream",
     "name": "stdout",
     "output_type": "stream",
     "text": [
      "bootstrap: Whether bootstrap samples are used when building trees. (default: True)\ncacheNodeIds: If false, the algorithm will pass trees to executors to match instances with nodes. If true, the algorithm will cache node IDs for each instance. Caching can speed up training of deeper trees. Users can set how often should the cache be checkpointed or disable it by setting checkpointInterval. (default: False)\ncheckpointInterval: set checkpoint interval (>= 1) or disable checkpoint (-1). E.g. 10 means that the cache will get checkpointed every 10 iterations. Note: this setting will be ignored if the checkpoint directory is not set in the SparkContext. (default: 10)\nfeatureSubsetStrategy: The number of features to consider for splits at each tree node. Supported options: 'auto' (choose automatically for task: If numTrees == 1, set to 'all'. If numTrees > 1 (forest), set to 'sqrt' for classification and to 'onethird' for regression), 'all' (use all features), 'onethird' (use 1/3 of the features), 'sqrt' (use sqrt(number of features)), 'log2' (use log2(number of features)), 'n' (when n is in the range (0, 1.0], use n * number of features. When n is in the range (1, number of features), use n features). default = 'auto' (default: auto)\nfeaturesCol: features column name. (default: features)\nimpurity: Criterion used for information gain calculation (case-insensitive). Supported options: entropy, gini (default: gini)\nlabelCol: label column name. (default: label, current: Survived)\nleafCol: Leaf indices column name. Predicted leaf index of each instance in each tree by preorder. (default: )\nmaxBins: Max number of bins for discretizing continuous features.  Must be >=2 and >= number of categories for any categorical feature. (default: 32)\nmaxDepth: Maximum depth of the tree. (>= 0) E.g., depth 0 means 1 leaf node; depth 1 means 1 internal node + 2 leaf nodes. Must be in range [0, 30]. (default: 5, current: 5)\nmaxMemoryInMB: Maximum memory in MB allocated to histogram aggregation. If too small, then 1 node will be split per iteration, and its aggregates may exceed this size. (default: 256)\nminInfoGain: Minimum information gain for a split to be considered at a tree node. (default: 0.0)\nminInstancesPerNode: Minimum number of instances each child must have after split. If a split causes the left or right child to have fewer than minInstancesPerNode, the split will be discarded as invalid. Should be >= 1. (default: 1)\nminWeightFractionPerNode: Minimum fraction of the weighted sample count that each child must have after split. If a split causes the fraction of the total weight in the left or right child to be less than minWeightFractionPerNode, the split will be discarded as invalid. Should be in interval [0.0, 0.5). (default: 0.0)\nnumTrees: Number of trees to train (>= 1). (default: 20, current: 20)\npredictionCol: prediction column name. (default: prediction)\nprobabilityCol: Column name for predicted class conditional probabilities. Note: Not all models output well-calibrated probability estimates! These probabilities should be treated as confidences, not precise probabilities. (default: probability)\nrawPredictionCol: raw prediction (a.k.a. confidence) column name. (default: rawPrediction)\nseed: random seed. (default: -5387697053847413545)\nsubsamplingRate: Fraction of the training data used for learning each decision tree, in range (0, 1]. (default: 1.0)\nthresholds: Thresholds in multi-class classification to adjust the probability of predicting each class. Array must have length equal to the number of classes, with values > 0, excepting that at most one value may be 0. The class with largest value p/t is predicted, where p is the original probability of that class and t is the class's threshold. (undefined)\nweightCol: weight column name. If this is not set or empty, we treat all instance weights as 1.0. (undefined)\n"
     ]
    }
   ],
   "source": [
    "\n",
    "print(pl_cv_model.stages[3].bestModel.explainParams())"
   ]
  },
  {
   "cell_type": "code",
   "execution_count": 0,
   "metadata": {
    "application/vnd.databricks.v1+cell": {
     "cellMetadata": {
      "byteLimit": 2048000,
      "rowLimit": 10000
     },
     "inputWidgets": {},
     "nuid": "55c61a1b-842a-4423-82f3-f0a14343ccbc",
     "showTitle": false,
     "title": ""
    }
   },
   "outputs": [
    {
     "output_type": "stream",
     "name": "stdout",
     "output_type": "stream",
     "text": [
      "handleInvalid: How to handle invalid data (NULL and NaN values). Options are 'skip' (filter out rows with invalid data), 'error' (throw an error), or 'keep' (return relevant number of NaN in the output). Column lengths are taken from the size of ML Attribute Group, which can be set using `VectorSizeHint` in a pipeline before `VectorAssembler`. Column lengths can also be inferred from first rows of the data since it is safe to do so but only in case of 'error' or 'skip'). (default: error)\ninputCols: input column names. (current: ['Age', 'AgeNA', 'Sex_ohe', 'Pclass', 'Fare', 'Sex_ohe', 'Embarked_ohe'])\noutputCol: output column name. (default: VectorAssembler_0ac7c03e9eec__output, current: features)\n"
     ]
    }
   ],
   "source": [
    "print(pl_cv_model.stages[2].explainParams())"
   ]
  }
 ],
 "metadata": {
  "anaconda-cloud": {},
  "application/vnd.databricks.v1+notebook": {
   "dashboards": [],
   "language": "python",
   "notebookMetadata": {
    "pythonIndentUnit": 2
   },
   "notebookName": "Spark MLlib_Titanic Dataset",
   "widgets": {}
  },
  "kernelspec": {
   "display_name": "Python 3",
   "language": "python",
   "name": "python3"
  },
  "language_info": {
   "codemirror_mode": {
    "name": "ipython",
    "version": 3
   },
   "file_extension": ".py",
   "mimetype": "text/x-python",
   "name": "python",
   "nbconvert_exporter": "python",
   "pygments_lexer": "ipython3",
   "version": "3.7.3"
  },
  "name": "homework7-Solution",
  "notebookId": 3677345694457858
 },
 "nbformat": 4,
 "nbformat_minor": 0
}
